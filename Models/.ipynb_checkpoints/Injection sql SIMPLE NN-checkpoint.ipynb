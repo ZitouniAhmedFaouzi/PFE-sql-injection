{
 "cells": [
  {
   "cell_type": "code",
   "execution_count": 1,
   "id": "ece4526e",
   "metadata": {},
   "outputs": [],
   "source": [
    "import pandas as pd\n",
    "import numpy as np\n",
    "import matplotlib.pyplot as plt\n",
    "from keras.models import Sequential\n",
    "from keras.layers import Dense\n",
    "from keras import optimizers, regularizers"
   ]
  },
  {
   "cell_type": "code",
   "execution_count": 2,
   "id": "b706aca3",
   "metadata": {},
   "outputs": [],
   "source": [
    "train=pd.read_csv('SQLIV3_cleaned2.csv')\n",
    "test=pd.read_csv('sqliv2_utf8.csv')\n"
   ]
  },
  {
   "cell_type": "code",
   "execution_count": 3,
   "id": "1f671035",
   "metadata": {},
   "outputs": [
    {
     "data": {
      "text/plain": [
       "Label\n",
       "0    19268\n",
       "1    11346\n",
       "Name: count, dtype: int64"
      ]
     },
     "execution_count": 3,
     "metadata": {},
     "output_type": "execute_result"
    }
   ],
   "source": [
    "train.Label.value_counts()\n"
   ]
  },
  {
   "cell_type": "code",
   "execution_count": 4,
   "id": "1a92254a",
   "metadata": {},
   "outputs": [],
   "source": [
    "\n",
    "learning_rate=0.01\n",
    "\n",
    "no_epochs=27"
   ]
  },
  {
   "cell_type": "code",
   "execution_count": 5,
   "id": "10209a8d",
   "metadata": {},
   "outputs": [],
   "source": [
    "model = Sequential()\n"
   ]
  },
  {
   "cell_type": "code",
   "execution_count": 6,
   "id": "1c8f9edf",
   "metadata": {},
   "outputs": [
    {
     "name": "stderr",
     "output_type": "stream",
     "text": [
      "c:\\Users\\ASUS ROG\\anaconda3\\Lib\\site-packages\\keras\\src\\layers\\core\\dense.py:87: UserWarning: Do not pass an `input_shape`/`input_dim` argument to a layer. When using Sequential models, prefer using an `Input(shape)` object as the first layer in the model instead.\n",
      "  super().__init__(activity_regularizer=activity_regularizer, **kwargs)\n"
     ]
    }
   ],
   "source": [
    "\n",
    "model.add(Dense(1, input_dim=3000, activation='sigmoid'))  # une seule couche Couche de sortie"
   ]
  },
  {
   "cell_type": "code",
   "execution_count": 7,
   "id": "72f4d94f",
   "metadata": {},
   "outputs": [],
   "source": [
    "sgd=optimizers.SGD(learning_rate=learning_rate)\n",
    "model.compile(loss='binary_crossentropy',optimizer=sgd, metrics=['accuracy'])"
   ]
  },
  {
   "cell_type": "code",
   "execution_count": 8,
   "id": "1817fa42",
   "metadata": {},
   "outputs": [
    {
     "data": {
      "text/html": [
       "<div>\n",
       "<style scoped>\n",
       "    .dataframe tbody tr th:only-of-type {\n",
       "        vertical-align: middle;\n",
       "    }\n",
       "\n",
       "    .dataframe tbody tr th {\n",
       "        vertical-align: top;\n",
       "    }\n",
       "\n",
       "    .dataframe thead th {\n",
       "        text-align: right;\n",
       "    }\n",
       "</style>\n",
       "<table border=\"1\" class=\"dataframe\">\n",
       "  <thead>\n",
       "    <tr style=\"text-align: right;\">\n",
       "      <th></th>\n",
       "      <th>Sentence</th>\n",
       "      <th>Label</th>\n",
       "    </tr>\n",
       "  </thead>\n",
       "  <tbody>\n",
       "    <tr>\n",
       "      <th>0</th>\n",
       "      <td>\" or pg_sleep  (  __TIME__  )  --</td>\n",
       "      <td>1</td>\n",
       "    </tr>\n",
       "    <tr>\n",
       "      <th>1</th>\n",
       "      <td>create user name identified by pass123 tempora...</td>\n",
       "      <td>1</td>\n",
       "    </tr>\n",
       "    <tr>\n",
       "      <th>2</th>\n",
       "      <td>AND 1  =  utl_inaddr.get_host_address   (    ...</td>\n",
       "      <td>1</td>\n",
       "    </tr>\n",
       "    <tr>\n",
       "      <th>3</th>\n",
       "      <td>select * from users where id  =  '1' or @ @1 ...</td>\n",
       "      <td>1</td>\n",
       "    </tr>\n",
       "    <tr>\n",
       "      <th>4</th>\n",
       "      <td>select * from users where id  =  1 or 1#\"  ( ...</td>\n",
       "      <td>1</td>\n",
       "    </tr>\n",
       "  </tbody>\n",
       "</table>\n",
       "</div>"
      ],
      "text/plain": [
       "                                            Sentence  Label\n",
       "0                  \" or pg_sleep  (  __TIME__  )  --      1\n",
       "1  create user name identified by pass123 tempora...      1\n",
       "2   AND 1  =  utl_inaddr.get_host_address   (    ...      1\n",
       "3   select * from users where id  =  '1' or @ @1 ...      1\n",
       "4   select * from users where id  =  1 or 1#\"  ( ...      1"
      ]
     },
     "execution_count": 8,
     "metadata": {},
     "output_type": "execute_result"
    }
   ],
   "source": [
    "train.head()"
   ]
  },
  {
   "cell_type": "code",
   "execution_count": 9,
   "id": "e55965e4",
   "metadata": {},
   "outputs": [],
   "source": [
    "train_x = train['Sentence'].values\n",
    "train_y = train['Label'].values\n",
    "\n",
    "##test_x = test['Sentence'].values\n",
    "##test_y = test['Label'].values"
   ]
  },
  {
   "cell_type": "code",
   "execution_count": 10,
   "id": "78503cfc",
   "metadata": {},
   "outputs": [],
   "source": [
    "from sklearn.feature_extraction.text import TfidfVectorizer\n",
    "vectorizer = TfidfVectorizer(max_features=3000)\n",
    "train_x = vectorizer.fit_transform(train_x).toarray()\n",
    "\n"
   ]
  },
  {
   "cell_type": "code",
   "execution_count": 11,
   "id": "4d221dfe",
   "metadata": {},
   "outputs": [
    {
     "name": "stdout",
     "output_type": "stream",
     "text": [
      "Epoch 1/27\n",
      "766/766 - 2s - 3ms/step - accuracy: 0.5936 - loss: 0.6805 - val_accuracy: 1.0000 - val_loss: 0.6302\n",
      "Epoch 2/27\n",
      "766/766 - 2s - 2ms/step - accuracy: 0.6836 - loss: 0.6580 - val_accuracy: 0.9997 - val_loss: 0.6058\n",
      "Epoch 3/27\n",
      "766/766 - 2s - 2ms/step - accuracy: 0.7748 - loss: 0.6376 - val_accuracy: 0.9997 - val_loss: 0.5866\n",
      "Epoch 4/27\n",
      "766/766 - 2s - 2ms/step - accuracy: 0.8009 - loss: 0.6186 - val_accuracy: 0.9995 - val_loss: 0.5791\n",
      "Epoch 5/27\n",
      "766/766 - 2s - 2ms/step - accuracy: 0.8357 - loss: 0.6009 - val_accuracy: 0.9993 - val_loss: 0.5630\n",
      "Epoch 6/27\n",
      "766/766 - 2s - 2ms/step - accuracy: 0.8499 - loss: 0.5843 - val_accuracy: 0.9990 - val_loss: 0.5503\n",
      "Epoch 7/27\n",
      "766/766 - 2s - 3ms/step - accuracy: 0.8605 - loss: 0.5689 - val_accuracy: 0.9987 - val_loss: 0.5419\n",
      "Epoch 8/27\n",
      "766/766 - 2s - 3ms/step - accuracy: 0.8721 - loss: 0.5545 - val_accuracy: 0.9985 - val_loss: 0.5299\n",
      "Epoch 9/27\n",
      "766/766 - 2s - 2ms/step - accuracy: 0.8819 - loss: 0.5410 - val_accuracy: 0.9980 - val_loss: 0.5189\n",
      "Epoch 10/27\n",
      "766/766 - 2s - 2ms/step - accuracy: 0.8866 - loss: 0.5283 - val_accuracy: 0.9980 - val_loss: 0.5108\n",
      "Epoch 11/27\n",
      "766/766 - 2s - 3ms/step - accuracy: 0.8944 - loss: 0.5164 - val_accuracy: 0.9980 - val_loss: 0.5002\n",
      "Epoch 12/27\n",
      "766/766 - 2s - 2ms/step - accuracy: 0.9002 - loss: 0.5052 - val_accuracy: 0.9977 - val_loss: 0.4906\n",
      "Epoch 13/27\n",
      "766/766 - 2s - 3ms/step - accuracy: 0.9050 - loss: 0.4947 - val_accuracy: 0.9976 - val_loss: 0.4814\n",
      "Epoch 14/27\n",
      "766/766 - 2s - 2ms/step - accuracy: 0.9076 - loss: 0.4847 - val_accuracy: 0.9974 - val_loss: 0.4746\n",
      "Epoch 15/27\n",
      "766/766 - 2s - 3ms/step - accuracy: 0.9112 - loss: 0.4753 - val_accuracy: 0.9971 - val_loss: 0.4661\n",
      "Epoch 16/27\n",
      "766/766 - 1s - 2ms/step - accuracy: 0.9128 - loss: 0.4664 - val_accuracy: 0.9971 - val_loss: 0.4574\n",
      "Epoch 17/27\n",
      "766/766 - 2s - 2ms/step - accuracy: 0.9136 - loss: 0.4579 - val_accuracy: 0.9969 - val_loss: 0.4497\n",
      "Epoch 18/27\n",
      "766/766 - 1s - 2ms/step - accuracy: 0.9146 - loss: 0.4499 - val_accuracy: 0.9969 - val_loss: 0.4438\n",
      "Epoch 19/27\n",
      "766/766 - 1s - 2ms/step - accuracy: 0.9152 - loss: 0.4423 - val_accuracy: 0.9961 - val_loss: 0.4393\n",
      "Epoch 20/27\n",
      "766/766 - 2s - 2ms/step - accuracy: 0.9176 - loss: 0.4350 - val_accuracy: 0.9967 - val_loss: 0.4305\n",
      "Epoch 21/27\n",
      "766/766 - 2s - 2ms/step - accuracy: 0.9180 - loss: 0.4281 - val_accuracy: 0.9967 - val_loss: 0.4237\n",
      "Epoch 22/27\n",
      "766/766 - 1s - 2ms/step - accuracy: 0.9181 - loss: 0.4216 - val_accuracy: 0.9962 - val_loss: 0.4188\n",
      "Epoch 23/27\n",
      "766/766 - 2s - 2ms/step - accuracy: 0.9187 - loss: 0.4153 - val_accuracy: 0.9959 - val_loss: 0.4139\n",
      "Epoch 24/27\n",
      "766/766 - 2s - 2ms/step - accuracy: 0.9190 - loss: 0.4093 - val_accuracy: 0.9954 - val_loss: 0.4085\n",
      "Epoch 25/27\n",
      "766/766 - 2s - 3ms/step - accuracy: 0.9196 - loss: 0.4035 - val_accuracy: 0.9958 - val_loss: 0.4023\n",
      "Epoch 26/27\n",
      "766/766 - 2s - 2ms/step - accuracy: 0.9199 - loss: 0.3980 - val_accuracy: 0.9954 - val_loss: 0.3970\n",
      "Epoch 27/27\n",
      "766/766 - 1s - 2ms/step - accuracy: 0.9201 - loss: 0.3927 - val_accuracy: 0.9946 - val_loss: 0.3945\n"
     ]
    }
   ],
   "source": [
    "history = model.fit(train_x, train_y, epochs=no_epochs, batch_size=32, verbose=2, validation_split=0.2)\n"
   ]
  },
  {
   "cell_type": "code",
   "execution_count": 12,
   "id": "f697cbfb",
   "metadata": {},
   "outputs": [
    {
     "name": "stdout",
     "output_type": "stream",
     "text": [
      "Final Training Loss: 0.3927224278450012\n",
      "Final Training Accuracy: 0.9200522899627686\n"
     ]
    }
   ],
   "source": [
    "# Affichage de la loss et accuracy après l'entraînement\n",
    "print(\"Final Training Loss:\", history.history['loss'][-1])\n",
    "print(\"Final Training Accuracy:\", history.history['accuracy'][-1])\n",
    "\n"
   ]
  },
  {
   "cell_type": "code",
   "execution_count": 13,
   "id": "243ce912",
   "metadata": {},
   "outputs": [
    {
     "data": {
      "image/png": "[encoded data removed]",
      "text/plain": [
       "<Figure size 640x480 with 1 Axes>"
      ]
     },
     "metadata": {},
     "output_type": "display_data"
    },
    {
     "data": {
      "image/png": "[encoded data removed]",
      "text/plain": [
       "<Figure size 640x480 with 1 Axes>"
      ]
     },
     "metadata": {},
     "output_type": "display_data"
    }
   ],
   "source": [
    "plt.plot(history.history['loss'], label='Train Loss')\n",
    "plt.plot(history.history['val_loss'], label='Validation Loss')\n",
    "plt.title('Loss over epochs')\n",
    "plt.xlabel('Epochs')\n",
    "plt.ylabel('Loss')\n",
    "plt.legend()\n",
    "plt.show()\n",
    "\n",
    "plt.plot(history.history['accuracy'], label='Train Accuracy')\n",
    "plt.plot(history.history['val_accuracy'], label='Validation Accuracy')\n",
    "plt.title('Accuracy over epochs')\n",
    "plt.xlabel('Epochs')\n",
    "plt.ylabel('Accuracy')\n",
    "plt.legend()\n",
    "plt.show()"
   ]
  },
  {
   "cell_type": "code",
   "execution_count": 14,
   "id": "2a49ac54",
   "metadata": {},
   "outputs": [
    {
     "name": "stdout",
     "output_type": "stream",
     "text": [
      "Sentence    3\n",
      "Label       0\n",
      "dtype: int64\n"
     ]
    }
   ],
   "source": [
    "test_x = test['Sentence'].values\n",
    "test_y = test['Label'].values\n",
    "print(test.isnull().sum())\n"
   ]
  },
  {
   "cell_type": "code",
   "execution_count": 15,
   "id": "d51147db",
   "metadata": {},
   "outputs": [],
   "source": [
    "test = test.dropna(subset=['Sentence'])\n",
    "\n"
   ]
  },
  {
   "cell_type": "code",
   "execution_count": 16,
   "id": "53e4097e",
   "metadata": {},
   "outputs": [],
   "source": [
    "# Filtrer les lignes où Label == 1\n",
    "filtered = test[test['Label'] == 1]\n",
    "\n",
    "# Récupérer les 1000 exemples dans test_x et test_y\n",
    "test_x = filtered['Sentence'].values\n",
    "test_y = filtered['Label'].values\n",
    "\n",
    "\n",
    "test_x = vectorizer.transform(test_x).toarray()"
   ]
  },
  {
   "cell_type": "code",
   "execution_count": 17,
   "id": "07b84aad",
   "metadata": {},
   "outputs": [
    {
     "name": "stdout",
     "output_type": "stream",
     "text": [
      "\u001b[1m358/358\u001b[0m \u001b[32m━━━━━━━━━━━━━━━━━━━━\u001b[0m\u001b[37m\u001b[0m \u001b[1m0s\u001b[0m 1ms/step\n"
     ]
    }
   ],
   "source": [
    "predictions = model.predict(test_x)\n"
   ]
  },
  {
   "cell_type": "markdown",
   "id": "df023fca",
   "metadata": {},
   "source": []
  },
  {
   "cell_type": "code",
   "execution_count": 18,
   "id": "9c83e70b",
   "metadata": {},
   "outputs": [
    {
     "name": "stdout",
     "output_type": "stream",
     "text": [
      "[1 0 0 ... 1 1 0]\n"
     ]
    }
   ],
   "source": [
    "# Convertir les probabilités en classes binaires\n",
    "predicted_classes = (predictions >= 0.5).astype(int)\n",
    "\n",
    "# Afficher les 20 premières prédictions\n",
    "print(predicted_classes.flatten())\n"
   ]
  },
  {
   "cell_type": "code",
   "execution_count": 19,
   "id": "f955babb",
   "metadata": {},
   "outputs": [
    {
     "name": "stdout",
     "output_type": "stream",
     "text": [
      "Nombre de requêtes détectées comme SQL injection : 9518\n"
     ]
    }
   ],
   "source": [
    "# Compter le nombre de prédictions égales à 1\n",
    "nombre_de_sql_injections = (predicted_classes == 1).sum()\n",
    "\n",
    "print(f\"Nombre de requêtes détectées comme SQL injection : {nombre_de_sql_injections}\")\n"
   ]
  },
  {
   "cell_type": "code",
   "execution_count": 20,
   "id": "dc0e02ef",
   "metadata": {},
   "outputs": [
    {
     "data": {
      "text/plain": [
       "Label\n",
       "0    22304\n",
       "1    11453\n",
       "Name: count, dtype: int64"
      ]
     },
     "execution_count": 20,
     "metadata": {},
     "output_type": "execute_result"
    }
   ],
   "source": [
    "test.Label.value_counts()\n"
   ]
  },
  {
   "cell_type": "code",
   "execution_count": 21,
   "id": "4c585a5b",
   "metadata": {},
   "outputs": [
    {
     "name": "stdout",
     "output_type": "stream",
     "text": [
      "accuracy aprés tester avec le deuxiéme dataset est = 0.8310486335457958\n"
     ]
    }
   ],
   "source": [
    "print(f\"accuracy aprés tester avec le deuxiéme dataset est = {nombre_de_sql_injections/len(test_x)}\")"
   ]
  },
  {
   "cell_type": "code",
   "execution_count": 22,
   "id": "c81a6a25",
   "metadata": {},
   "outputs": [],
   "source": [
    "# Filtrer les lignes où Label == 1\n",
    "filtered2 = test[test['Label'] == 0]\n",
    "\n",
    "# Récupérer les 1000 exemples dans test_x et test_y\n",
    "test_x2 = filtered2['Sentence'].values\n",
    "test_y2 = filtered2['Label'].values\n",
    "\n",
    "\n",
    "test_x2 = vectorizer.transform(test_x2).toarray()"
   ]
  },
  {
   "cell_type": "code",
   "execution_count": 23,
   "id": "9b6c6e18",
   "metadata": {},
   "outputs": [
    {
     "name": "stdout",
     "output_type": "stream",
     "text": [
      "\u001b[1m697/697\u001b[0m \u001b[32m━━━━━━━━━━━━━━━━━━━━\u001b[0m\u001b[37m\u001b[0m \u001b[1m1s\u001b[0m 1ms/step  \n"
     ]
    }
   ],
   "source": [
    "predictions2 = model.predict(test_x2)\n"
   ]
  },
  {
   "cell_type": "code",
   "execution_count": 24,
   "id": "4894c68e",
   "metadata": {},
   "outputs": [
    {
     "name": "stdout",
     "output_type": "stream",
     "text": [
      "[0 0 0 ... 0 0 0]\n"
     ]
    }
   ],
   "source": [
    "# Convertir les probabilités en classes binaires\n",
    "predicted_classes2 = (predictions2 >= 0.5).astype(int)\n",
    "\n",
    "# Afficher les 20 premières prédictions\n",
    "print(predicted_classes2.flatten())\n"
   ]
  },
  {
   "cell_type": "code",
   "execution_count": 25,
   "id": "96145c11",
   "metadata": {},
   "outputs": [
    {
     "name": "stdout",
     "output_type": "stream",
     "text": [
      "Nombre de requêtes non détectées comme SQL injection : 22288\n"
     ]
    }
   ],
   "source": [
    "# Compter le nombre de prédictions égales à 1\n",
    "nombre_de_non_sql_injections = (predicted_classes2 == 0).sum()\n",
    "\n",
    "print(f\"Nombre de requêtes non détectées comme SQL injection : {nombre_de_non_sql_injections}\")\n"
   ]
  },
  {
   "cell_type": "code",
   "execution_count": 26,
   "id": "d108d5b6",
   "metadata": {},
   "outputs": [
    {
     "data": {
      "text/plain": [
       "Label\n",
       "0    22304\n",
       "1    11453\n",
       "Name: count, dtype: int64"
      ]
     },
     "execution_count": 26,
     "metadata": {},
     "output_type": "execute_result"
    }
   ],
   "source": [
    "test.Label.value_counts()\n"
   ]
  },
  {
   "cell_type": "code",
   "execution_count": 27,
   "id": "5af2f412",
   "metadata": {},
   "outputs": [
    {
     "name": "stdout",
     "output_type": "stream",
     "text": [
      "accuracy apres testé avec le deuxiéme datset avec les non sql injection est =0.9992826398852224 \n"
     ]
    }
   ],
   "source": [
    "print(f\"accuracy apres testé avec le deuxiéme datset avec les non sql injection est ={nombre_de_non_sql_injections/len(test_x2)} \")"
   ]
  }
 ],
 "metadata": {
  "kernelspec": {
   "display_name": "base",
   "language": "python",
   "name": "python3"
  },
  "language_info": {
   "codemirror_mode": {
    "name": "ipython",
    "version": 3
   },
   "file_extension": ".py",
   "mimetype": "text/x-python",
   "name": "python",
   "nbconvert_exporter": "python",
   "pygments_lexer": "ipython3",
   "version": "3.12.7"
  }
 },
 "nbformat": 4,
 "nbformat_minor": 5
}
