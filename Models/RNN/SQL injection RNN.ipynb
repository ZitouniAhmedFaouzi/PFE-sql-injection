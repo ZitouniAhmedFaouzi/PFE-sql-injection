{
 "cells": [
  {
   "cell_type": "code",
   "execution_count": 25,
   "id": "7fc6aaa1",
   "metadata": {},
   "outputs": [],
   "source": [
    "import pandas as pd\n",
    "import numpy as np\n",
    "import matplotlib.pyplot as plt\n",
    "from keras.models import Sequential\n",
    "from keras.layers import Dense, LSTM, Dropout, SimpleRNN\n",
    "from tensorflow.keras.preprocessing.text import Tokenizer\n",
    "from tensorflow.keras.preprocessing.sequence import pad_sequences\n",
    "\n",
    "from keras import optimizers"
   ]
  },
  {
   "cell_type": "code",
   "execution_count": 26,
   "id": "94607b05",
   "metadata": {},
   "outputs": [],
   "source": [
    "train = pd.read_csv('SQLIV3_cleaned2.csv')\n",
    "test = pd.read_csv('sqliv2_utf8.csv')"
   ]
  },
  {
   "cell_type": "code",
   "execution_count": 27,
   "id": "0ea13069",
   "metadata": {},
   "outputs": [
    {
     "name": "stdout",
     "output_type": "stream",
     "text": [
      "Label\n",
      "0    19268\n",
      "1    11346\n",
      "Name: count, dtype: int64\n"
     ]
    }
   ],
   "source": [
    "print(train.Label.value_counts())"
   ]
  },
  {
   "cell_type": "code",
   "execution_count": 28,
   "id": "317f5f9c",
   "metadata": {},
   "outputs": [],
   "source": [
    "X_train = train['Sentence'].values\n",
    "y_train = train['Label'].values"
   ]
  },
  {
   "cell_type": "code",
   "execution_count": 29,
   "id": "aac08a9f",
   "metadata": {},
   "outputs": [],
   "source": [
    "# Tokenisation des textes\n",
    "vocab_size = 5000\n",
    "tokenizer = Tokenizer(num_words=vocab_size, oov_token=\"<OOV>\")\n",
    "tokenizer.fit_on_texts(X_train)\n",
    "X_train_seq = tokenizer.texts_to_sequences(X_train)"
   ]
  },
  {
   "cell_type": "code",
   "execution_count": 30,
   "id": "1ec40fad",
   "metadata": {},
   "outputs": [],
   "source": [
    "max_len = 100  # À ajuster en fonction de la longueur moyenne des séquences\n",
    "X_train = pad_sequences(X_train_seq, maxlen=max_len, padding='post')"
   ]
  },
  {
   "cell_type": "code",
   "execution_count": 31,
   "id": "4f93dad5",
   "metadata": {},
   "outputs": [],
   "source": [
    "# Préparer les données de test\n",
    "test_x = test['Sentence'].values\n",
    "test_y = test['Label'].values\n",
    "test = test.dropna(subset=['Sentence'])"
   ]
  },
  {
   "cell_type": "code",
   "execution_count": 32,
   "id": "5fc5d9ab",
   "metadata": {},
   "outputs": [],
   "source": [
    "# Tokenisation pour les données de test\n",
    "test['Sentence'] = test['Sentence'].astype(str)\n",
    "test_x = tokenizer.texts_to_sequences(test['Sentence'])\n",
    "test_x = pad_sequences(test_x, maxlen=max_len, padding='post')\n"
   ]
  },
  {
   "cell_type": "code",
   "execution_count": 33,
   "id": "5dd8cedd",
   "metadata": {},
   "outputs": [],
   "source": [
    "X_train = np.expand_dims(X_train, axis=-1)\n"
   ]
  },
  {
   "cell_type": "code",
   "execution_count": 34,
   "id": "3f9151d0",
   "metadata": {},
   "outputs": [
    {
     "name": "stdout",
     "output_type": "stream",
     "text": [
      "Epoch 1/30\n",
      "\u001b[1m766/766\u001b[0m \u001b[32m━━━━━━━━━━━━━━━━━━━━\u001b[0m\u001b[37m\u001b[0m \u001b[1m50s\u001b[0m 57ms/step - accuracy: 0.4657 - loss: 1.8380 - val_accuracy: 0.0000e+00 - val_loss: 2.4716\n",
      "Epoch 2/30\n",
      "\u001b[1m766/766\u001b[0m \u001b[32m━━━━━━━━━━━━━━━━━━━━\u001b[0m\u001b[37m\u001b[0m \u001b[1m69s\u001b[0m 91ms/step - accuracy: 0.4578 - loss: 1.7651 - val_accuracy: 0.0000e+00 - val_loss: 2.3818\n",
      "Epoch 3/30\n",
      "\u001b[1m766/766\u001b[0m \u001b[32m━━━━━━━━━━━━━━━━━━━━\u001b[0m\u001b[37m\u001b[0m \u001b[1m68s\u001b[0m 89ms/step - accuracy: 0.4565 - loss: 1.6930 - val_accuracy: 0.0000e+00 - val_loss: 2.5341\n",
      "Epoch 4/30\n",
      "\u001b[1m766/766\u001b[0m \u001b[32m━━━━━━━━━━━━━━━━━━━━\u001b[0m\u001b[37m\u001b[0m \u001b[1m69s\u001b[0m 91ms/step - accuracy: 0.4683 - loss: 1.5900 - val_accuracy: 0.0000e+00 - val_loss: 2.7326\n",
      "Epoch 5/30\n",
      "\u001b[1m766/766\u001b[0m \u001b[32m━━━━━━━━━━━━━━━━━━━━\u001b[0m\u001b[37m\u001b[0m \u001b[1m68s\u001b[0m 88ms/step - accuracy: 0.4668 - loss: 1.5738 - val_accuracy: 0.0000e+00 - val_loss: 2.5895\n",
      "Epoch 6/30\n",
      "\u001b[1m766/766\u001b[0m \u001b[32m━━━━━━━━━━━━━━━━━━━━\u001b[0m\u001b[37m\u001b[0m \u001b[1m69s\u001b[0m 90ms/step - accuracy: 0.4649 - loss: 1.7123 - val_accuracy: 0.0000e+00 - val_loss: 2.3768\n",
      "Epoch 7/30\n",
      "\u001b[1m766/766\u001b[0m \u001b[32m━━━━━━━━━━━━━━━━━━━━\u001b[0m\u001b[37m\u001b[0m \u001b[1m68s\u001b[0m 88ms/step - accuracy: 0.4647 - loss: 1.7316 - val_accuracy: 0.0000e+00 - val_loss: 2.1984\n",
      "Epoch 8/30\n",
      "\u001b[1m766/766\u001b[0m \u001b[32m━━━━━━━━━━━━━━━━━━━━\u001b[0m\u001b[37m\u001b[0m \u001b[1m67s\u001b[0m 88ms/step - accuracy: 0.4690 - loss: 1.7278 - val_accuracy: 0.0000e+00 - val_loss: 2.2470\n",
      "Epoch 9/30\n",
      "\u001b[1m766/766\u001b[0m \u001b[32m━━━━━━━━━━━━━━━━━━━━\u001b[0m\u001b[37m\u001b[0m \u001b[1m68s\u001b[0m 89ms/step - accuracy: 0.4657 - loss: 1.7294 - val_accuracy: 0.0000e+00 - val_loss: 2.3106\n",
      "Epoch 10/30\n",
      "\u001b[1m766/766\u001b[0m \u001b[32m━━━━━━━━━━━━━━━━━━━━\u001b[0m\u001b[37m\u001b[0m \u001b[1m73s\u001b[0m 95ms/step - accuracy: 0.4645 - loss: 1.7297 - val_accuracy: 0.0000e+00 - val_loss: 2.2362\n",
      "Epoch 11/30\n",
      "\u001b[1m766/766\u001b[0m \u001b[32m━━━━━━━━━━━━━━━━━━━━\u001b[0m\u001b[37m\u001b[0m \u001b[1m72s\u001b[0m 94ms/step - accuracy: 0.4628 - loss: 1.7309 - val_accuracy: 0.0000e+00 - val_loss: 2.3026\n",
      "Epoch 12/30\n",
      "\u001b[1m766/766\u001b[0m \u001b[32m━━━━━━━━━━━━━━━━━━━━\u001b[0m\u001b[37m\u001b[0m \u001b[1m72s\u001b[0m 94ms/step - accuracy: 0.4624 - loss: 1.7302 - val_accuracy: 0.0000e+00 - val_loss: 2.3809\n",
      "Epoch 13/30\n",
      "\u001b[1m766/766\u001b[0m \u001b[32m━━━━━━━━━━━━━━━━━━━━\u001b[0m\u001b[37m\u001b[0m \u001b[1m73s\u001b[0m 95ms/step - accuracy: 0.4624 - loss: 1.7315 - val_accuracy: 0.0000e+00 - val_loss: 2.1784\n",
      "Epoch 14/30\n",
      "\u001b[1m766/766\u001b[0m \u001b[32m━━━━━━━━━━━━━━━━━━━━\u001b[0m\u001b[37m\u001b[0m \u001b[1m73s\u001b[0m 95ms/step - accuracy: 0.4649 - loss: 1.7283 - val_accuracy: 0.0000e+00 - val_loss: 2.2839\n",
      "Epoch 15/30\n",
      "\u001b[1m766/766\u001b[0m \u001b[32m━━━━━━━━━━━━━━━━━━━━\u001b[0m\u001b[37m\u001b[0m \u001b[1m72s\u001b[0m 94ms/step - accuracy: 0.4669 - loss: 1.7252 - val_accuracy: 0.0000e+00 - val_loss: 2.3286\n",
      "Epoch 16/30\n",
      "\u001b[1m766/766\u001b[0m \u001b[32m━━━━━━━━━━━━━━━━━━━━\u001b[0m\u001b[37m\u001b[0m \u001b[1m73s\u001b[0m 95ms/step - accuracy: 0.4665 - loss: 1.7247 - val_accuracy: 0.0000e+00 - val_loss: 2.1513\n",
      "Epoch 17/30\n",
      "\u001b[1m766/766\u001b[0m \u001b[32m━━━━━━━━━━━━━━━━━━━━\u001b[0m\u001b[37m\u001b[0m \u001b[1m72s\u001b[0m 93ms/step - accuracy: 0.4650 - loss: 1.7269 - val_accuracy: 0.0000e+00 - val_loss: 2.2810\n",
      "Epoch 18/30\n",
      "\u001b[1m766/766\u001b[0m \u001b[32m━━━━━━━━━━━━━━━━━━━━\u001b[0m\u001b[37m\u001b[0m \u001b[1m73s\u001b[0m 95ms/step - accuracy: 0.4683 - loss: 1.7222 - val_accuracy: 0.0000e+00 - val_loss: 2.2046\n",
      "Epoch 19/30\n",
      "\u001b[1m766/766\u001b[0m \u001b[32m━━━━━━━━━━━━━━━━━━━━\u001b[0m\u001b[37m\u001b[0m \u001b[1m73s\u001b[0m 95ms/step - accuracy: 0.4657 - loss: 1.7250 - val_accuracy: 0.0000e+00 - val_loss: 2.3682\n",
      "Epoch 20/30\n",
      "\u001b[1m766/766\u001b[0m \u001b[32m━━━━━━━━━━━━━━━━━━━━\u001b[0m\u001b[37m\u001b[0m \u001b[1m74s\u001b[0m 97ms/step - accuracy: 0.4639 - loss: 1.7278 - val_accuracy: 0.0000e+00 - val_loss: 2.2387\n",
      "Epoch 21/30\n",
      "\u001b[1m766/766\u001b[0m \u001b[32m━━━━━━━━━━━━━━━━━━━━\u001b[0m\u001b[37m\u001b[0m \u001b[1m72s\u001b[0m 95ms/step - accuracy: 0.4638 - loss: 1.7303 - val_accuracy: 0.0000e+00 - val_loss: 2.2969\n",
      "Epoch 22/30\n",
      "\u001b[1m766/766\u001b[0m \u001b[32m━━━━━━━━━━━━━━━━━━━━\u001b[0m\u001b[37m\u001b[0m \u001b[1m74s\u001b[0m 97ms/step - accuracy: 0.4574 - loss: 1.7376 - val_accuracy: 0.0000e+00 - val_loss: 2.3468\n",
      "Epoch 23/30\n",
      "\u001b[1m766/766\u001b[0m \u001b[32m━━━━━━━━━━━━━━━━━━━━\u001b[0m\u001b[37m\u001b[0m \u001b[1m72s\u001b[0m 94ms/step - accuracy: 0.4625 - loss: 1.7303 - val_accuracy: 0.0000e+00 - val_loss: 2.3606\n",
      "Epoch 24/30\n",
      "\u001b[1m766/766\u001b[0m \u001b[32m━━━━━━━━━━━━━━━━━━━━\u001b[0m\u001b[37m\u001b[0m \u001b[1m76s\u001b[0m 99ms/step - accuracy: 0.4632 - loss: 1.7292 - val_accuracy: 0.0000e+00 - val_loss: 2.2777\n",
      "Epoch 25/30\n",
      "\u001b[1m766/766\u001b[0m \u001b[32m━━━━━━━━━━━━━━━━━━━━\u001b[0m\u001b[37m\u001b[0m \u001b[1m77s\u001b[0m 100ms/step - accuracy: 0.4635 - loss: 1.7296 - val_accuracy: 0.0000e+00 - val_loss: 2.2421\n",
      "Epoch 26/30\n",
      "\u001b[1m766/766\u001b[0m \u001b[32m━━━━━━━━━━━━━━━━━━━━\u001b[0m\u001b[37m\u001b[0m \u001b[1m88s\u001b[0m 115ms/step - accuracy: 0.4613 - loss: 1.7297 - val_accuracy: 0.0000e+00 - val_loss: 2.3053\n",
      "Epoch 27/30\n",
      "\u001b[1m766/766\u001b[0m \u001b[32m━━━━━━━━━━━━━━━━━━━━\u001b[0m\u001b[37m\u001b[0m \u001b[1m77s\u001b[0m 101ms/step - accuracy: 0.4622 - loss: 1.7309 - val_accuracy: 0.0000e+00 - val_loss: 2.1913\n",
      "Epoch 28/30\n",
      "\u001b[1m766/766\u001b[0m \u001b[32m━━━━━━━━━━━━━━━━━━━━\u001b[0m\u001b[37m\u001b[0m \u001b[1m82s\u001b[0m 107ms/step - accuracy: 0.4584 - loss: 1.7357 - val_accuracy: 0.0000e+00 - val_loss: 2.2291\n",
      "Epoch 29/30\n",
      "\u001b[1m766/766\u001b[0m \u001b[32m━━━━━━━━━━━━━━━━━━━━\u001b[0m\u001b[37m\u001b[0m \u001b[1m85s\u001b[0m 111ms/step - accuracy: 0.4617 - loss: 1.7308 - val_accuracy: 0.0000e+00 - val_loss: 2.1704\n",
      "Epoch 30/30\n",
      "\u001b[1m766/766\u001b[0m \u001b[32m━━━━━━━━━━━━━━━━━━━━\u001b[0m\u001b[37m\u001b[0m \u001b[1m80s\u001b[0m 104ms/step - accuracy: 0.4621 - loss: 1.7307 - val_accuracy: 0.0000e+00 - val_loss: 2.2103\n"
     ]
    }
   ],
   "source": [
    "# Définition du modèle\n",
    "model = Sequential()\n",
    "\n",
    "# Ajouter la première couche LSTM et Dropout\n",
    "model.add(SimpleRNN(units=50, activation='tanh', return_sequences=True, ))\n",
    "model.add(Dropout(0.2))\n",
    "\n",
    "# Ajouter la deuxième couche LSTM et Dropout\n",
    "model.add(SimpleRNN(units=50, activation='tanh', return_sequences=True))\n",
    "model.add(Dropout(0.2))\n",
    "\n",
    "# Ajouter la troisième couche LSTM et Dropout\n",
    "model.add(SimpleRNN(units=50, activation='tanh', return_sequences=True))\n",
    "model.add(Dropout(0.2))\n",
    "\n",
    "# Ajouter la quatrième couche LSTM et Dropout\n",
    "model.add(SimpleRNN(units=50, activation='tanh'))\n",
    "model.add(Dropout(0.2))\n",
    "\n",
    "# Ajouter la couche de sortie\n",
    "model.add(Dense(units=1, activation='sigmoid'))\n",
    "\n",
    "# Compilation du modèle avec la pondération des classes pour gérer l'équilibre des classes\n",
    "class_weights = {0: 1, 1: 10}  # Ponderation de la classe 1 pour contrer le déséquilibre\n",
    "model.compile(optimizer='adam', loss='binary_crossentropy', metrics=['accuracy'])\n",
    "\n",
    "# Entraînement du modèle\n",
    "history = model.fit(X_train, y_train,\n",
    "                    epochs=30,\n",
    "                    batch_size=32,\n",
    "                    validation_split=0.2,\n",
    "                    class_weight=class_weights)\n"
   ]
  },
  {
   "cell_type": "code",
   "execution_count": 35,
   "id": "c48be0de",
   "metadata": {},
   "outputs": [
    {
     "ename": "ValueError",
     "evalue": "Data cardinality is ambiguous. Make sure all arrays contain the same number of samples.'x' sizes: 33757\n'y' sizes: 33760\n",
     "output_type": "error",
     "traceback": [
      "\u001b[1;31m---------------------------------------------------------------------------\u001b[0m",
      "\u001b[1;31mValueError\u001b[0m                                Traceback (most recent call last)",
      "Cell \u001b[1;32mIn[35], line 1\u001b[0m\n\u001b[1;32m----> 1\u001b[0m accuracy \u001b[38;5;241m=\u001b[39m \u001b[43mmodel\u001b[49m\u001b[38;5;241;43m.\u001b[39;49m\u001b[43mevaluate\u001b[49m\u001b[43m(\u001b[49m\u001b[43mtest_x\u001b[49m\u001b[43m,\u001b[49m\u001b[43m \u001b[49m\u001b[43mtest_y\u001b[49m\u001b[43m)\u001b[49m\n",
      "File \u001b[1;32mc:\\Users\\ASUS ROG\\anaconda3\\Lib\\site-packages\\keras\\src\\utils\\traceback_utils.py:122\u001b[0m, in \u001b[0;36mfilter_traceback.<locals>.error_handler\u001b[1;34m(*args, **kwargs)\u001b[0m\n\u001b[0;32m    119\u001b[0m     filtered_tb \u001b[38;5;241m=\u001b[39m _process_traceback_frames(e\u001b[38;5;241m.\u001b[39m__traceback__)\n\u001b[0;32m    120\u001b[0m     \u001b[38;5;66;03m# To get the full stack trace, call:\u001b[39;00m\n\u001b[0;32m    121\u001b[0m     \u001b[38;5;66;03m# `keras.config.disable_traceback_filtering()`\u001b[39;00m\n\u001b[1;32m--> 122\u001b[0m     \u001b[38;5;28;01mraise\u001b[39;00m e\u001b[38;5;241m.\u001b[39mwith_traceback(filtered_tb) \u001b[38;5;28;01mfrom\u001b[39;00m\u001b[38;5;250m \u001b[39m\u001b[38;5;28;01mNone\u001b[39;00m\n\u001b[0;32m    123\u001b[0m \u001b[38;5;28;01mfinally\u001b[39;00m:\n\u001b[0;32m    124\u001b[0m     \u001b[38;5;28;01mdel\u001b[39;00m filtered_tb\n",
      "File \u001b[1;32mc:\\Users\\ASUS ROG\\anaconda3\\Lib\\site-packages\\keras\\src\\trainers\\data_adapters\\data_adapter_utils.py:115\u001b[0m, in \u001b[0;36mcheck_data_cardinality\u001b[1;34m(data)\u001b[0m\n\u001b[0;32m    111\u001b[0m     sizes \u001b[38;5;241m=\u001b[39m \u001b[38;5;124m\"\u001b[39m\u001b[38;5;124m, \u001b[39m\u001b[38;5;124m\"\u001b[39m\u001b[38;5;241m.\u001b[39mjoin(\n\u001b[0;32m    112\u001b[0m         \u001b[38;5;28mstr\u001b[39m(i\u001b[38;5;241m.\u001b[39mshape[\u001b[38;5;241m0\u001b[39m]) \u001b[38;5;28;01mfor\u001b[39;00m i \u001b[38;5;129;01min\u001b[39;00m tree\u001b[38;5;241m.\u001b[39mflatten(single_data)\n\u001b[0;32m    113\u001b[0m     )\n\u001b[0;32m    114\u001b[0m     msg \u001b[38;5;241m+\u001b[39m\u001b[38;5;241m=\u001b[39m \u001b[38;5;124mf\u001b[39m\u001b[38;5;124m\"\u001b[39m\u001b[38;5;124m'\u001b[39m\u001b[38;5;132;01m{\u001b[39;00mlabel\u001b[38;5;132;01m}\u001b[39;00m\u001b[38;5;124m'\u001b[39m\u001b[38;5;124m sizes: \u001b[39m\u001b[38;5;132;01m{\u001b[39;00msizes\u001b[38;5;132;01m}\u001b[39;00m\u001b[38;5;130;01m\\n\u001b[39;00m\u001b[38;5;124m\"\u001b[39m\n\u001b[1;32m--> 115\u001b[0m \u001b[38;5;28;01mraise\u001b[39;00m \u001b[38;5;167;01mValueError\u001b[39;00m(msg)\n",
      "\u001b[1;31mValueError\u001b[0m: Data cardinality is ambiguous. Make sure all arrays contain the same number of samples.'x' sizes: 33757\n'y' sizes: 33760\n"
     ]
    }
   ],
   "source": [
    "accuracy = model.evaluate(test_x, test_y)"
   ]
  },
  {
   "cell_type": "code",
   "execution_count": null,
   "id": "1bfcaedd",
   "metadata": {},
   "outputs": [
    {
     "name": "stdout",
     "output_type": "stream",
     "text": [
      "Accuracy sur le jeu de test : 0.0000\n"
     ]
    }
   ],
   "source": [
    "print(f'Accuracy sur le jeu de test : {accuracy[1]:.4f}')"
   ]
  },
  {
   "cell_type": "code",
   "execution_count": null,
   "id": "7f9cc940",
   "metadata": {},
   "outputs": [
    {
     "name": "stdout",
     "output_type": "stream",
     "text": [
      "Final Training Loss: 0.6593706607818604\n",
      "Final Training Accuracy: 0.629385232925415\n"
     ]
    }
   ],
   "source": [
    "# Affichage de la perte et de la précision après l'entraînement\n",
    "print(\"Final Training Loss:\", history.history['loss'][-1])\n",
    "print(\"Final Training Accuracy:\", history.history['accuracy'][-1])"
   ]
  },
  {
   "cell_type": "code",
   "execution_count": null,
   "id": "4d564894",
   "metadata": {},
   "outputs": [
    {
     "data": {
      "image/png": "[encoded data removed]",
      "text/plain": [
       "<Figure size 640x480 with 1 Axes>"
      ]
     },
     "metadata": {},
     "output_type": "display_data"
    }
   ],
   "source": [
    "# Affichage de l'évolution de la perte et de la précision pour le RNN\n",
    "plt.plot(history.history['accuracy'], label='RNN Train Accuracy')\n",
    "plt.plot(history.history['val_accuracy'], label='RNN Test Accuracy')\n",
    "plt.title('RNN Accuracy')\n",
    "plt.xlabel('Epochs')\n",
    "plt.ylabel('Accuracy')\n",
    "plt.legend()\n",
    "plt.show()"
   ]
  },
  {
   "cell_type": "code",
   "execution_count": null,
   "id": "f7bf9469",
   "metadata": {},
   "outputs": [
    {
     "name": "stdout",
     "output_type": "stream",
     "text": [
      "Nombre de requêtes détectées comme SQL injection : 0\n",
      "Accuracy après test avec le deuxième dataset avec les injections SQL : 0.0\n"
     ]
    }
   ],
   "source": [
    "# Compter le nombre de prédictions égales à 1 (SQL injection détectée)\n",
    "nombre_de_sql_injections = (predicted_classes == 1).sum()\n",
    "\n",
    "print(f\"Nombre de requêtes détectées comme SQL injection : {nombre_de_sql_injections}\")\n",
    "\n",
    "# Calculer l'accuracy après les prédictions\n",
    "accuracy = nombre_de_sql_injections / len(test_x)\n",
    "print(f\"Accuracy après test avec le deuxième dataset avec les injections SQL : {accuracy}\")"
   ]
  }
 ],
 "metadata": {
  "kernelspec": {
   "display_name": "base",
   "language": "python",
   "name": "python3"
  },
  "language_info": {
   "codemirror_mode": {
    "name": "ipython",
    "version": 3
   },
   "file_extension": ".py",
   "mimetype": "text/x-python",
   "name": "python",
   "nbconvert_exporter": "python",
   "pygments_lexer": "ipython3",
   "version": "3.12.7"
  }
 },
 "nbformat": 4,
 "nbformat_minor": 5
}
