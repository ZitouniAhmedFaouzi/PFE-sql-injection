{
 "cells": [
  {
   "cell_type": "code",
   "execution_count": 1,
   "id": "ece4526e",
   "metadata": {},
   "outputs": [],
   "source": [
    "import pandas as pd\n",
    "import numpy as np\n",
    "import matplotlib.pyplot as plt\n",
    "from keras.models import Sequential\n",
    "from keras.layers import Dense\n",
    "from keras import optimizers, regularizers"
   ]
  },
  {
   "cell_type": "code",
   "execution_count": 2,
   "id": "b706aca3",
   "metadata": {},
   "outputs": [],
   "source": [
    "train=pd.read_csv('SQLIV3_cleaned2.csv')\n",
    "test=pd.read_csv('sqliv2_utf8.csv')\n"
   ]
  },
  {
   "cell_type": "code",
   "execution_count": 3,
   "id": "1f671035",
   "metadata": {},
   "outputs": [
    {
     "data": {
      "text/plain": [
       "Label\n",
       "0    19268\n",
       "1    11346\n",
       "Name: count, dtype: int64"
      ]
     },
     "execution_count": 3,
     "metadata": {},
     "output_type": "execute_result"
    }
   ],
   "source": [
    "train.Label.value_counts()\n"
   ]
  },
  {
   "cell_type": "code",
   "execution_count": 4,
   "id": "1a92254a",
   "metadata": {},
   "outputs": [],
   "source": [
    "\n",
    "learning_rate=0.01\n",
    "\n",
    "no_epochs=27"
   ]
  },
  {
   "cell_type": "code",
   "execution_count": 5,
   "id": "10209a8d",
   "metadata": {},
   "outputs": [],
   "source": [
    "model = Sequential()\n"
   ]
  },
  {
   "cell_type": "code",
   "execution_count": 6,
   "id": "1c8f9edf",
   "metadata": {},
   "outputs": [],
   "source": [
    "\n",
    "model.add(Dense(1, input_dim=3000, activation='sigmoid'))  # une seule couche Couche de sortie"
   ]
  },
  {
   "cell_type": "code",
   "execution_count": 7,
   "id": "72f4d94f",
   "metadata": {},
   "outputs": [],
   "source": [
    "sgd=optimizers.SGD(learning_rate=learning_rate)\n",
    "model.compile(loss='binary_crossentropy',optimizer=sgd, metrics=['accuracy'])"
   ]
  },
  {
   "cell_type": "code",
   "execution_count": 8,
   "id": "1817fa42",
   "metadata": {},
   "outputs": [
    {
     "data": {
      "text/html": [
       "<div>\n",
       "<style scoped>\n",
       "    .dataframe tbody tr th:only-of-type {\n",
       "        vertical-align: middle;\n",
       "    }\n",
       "\n",
       "    .dataframe tbody tr th {\n",
       "        vertical-align: top;\n",
       "    }\n",
       "\n",
       "    .dataframe thead th {\n",
       "        text-align: right;\n",
       "    }\n",
       "</style>\n",
       "<table border=\"1\" class=\"dataframe\">\n",
       "  <thead>\n",
       "    <tr style=\"text-align: right;\">\n",
       "      <th></th>\n",
       "      <th>Sentence</th>\n",
       "      <th>Label</th>\n",
       "    </tr>\n",
       "  </thead>\n",
       "  <tbody>\n",
       "    <tr>\n",
       "      <th>0</th>\n",
       "      <td>\" or pg_sleep  (  __TIME__  )  --</td>\n",
       "      <td>1</td>\n",
       "    </tr>\n",
       "    <tr>\n",
       "      <th>1</th>\n",
       "      <td>create user name identified by pass123 tempora...</td>\n",
       "      <td>1</td>\n",
       "    </tr>\n",
       "    <tr>\n",
       "      <th>2</th>\n",
       "      <td>AND 1  =  utl_inaddr.get_host_address   (    ...</td>\n",
       "      <td>1</td>\n",
       "    </tr>\n",
       "    <tr>\n",
       "      <th>3</th>\n",
       "      <td>select * from users where id  =  '1' or @ @1 ...</td>\n",
       "      <td>1</td>\n",
       "    </tr>\n",
       "    <tr>\n",
       "      <th>4</th>\n",
       "      <td>select * from users where id  =  1 or 1#\"  ( ...</td>\n",
       "      <td>1</td>\n",
       "    </tr>\n",
       "  </tbody>\n",
       "</table>\n",
       "</div>"
      ],
      "text/plain": [
       "                                            Sentence  Label\n",
       "0                  \" or pg_sleep  (  __TIME__  )  --      1\n",
       "1  create user name identified by pass123 tempora...      1\n",
       "2   AND 1  =  utl_inaddr.get_host_address   (    ...      1\n",
       "3   select * from users where id  =  '1' or @ @1 ...      1\n",
       "4   select * from users where id  =  1 or 1#\"  ( ...      1"
      ]
     },
     "execution_count": 8,
     "metadata": {},
     "output_type": "execute_result"
    }
   ],
   "source": [
    "train.head()"
   ]
  },
  {
   "cell_type": "code",
   "execution_count": 9,
   "id": "e55965e4",
   "metadata": {},
   "outputs": [],
   "source": [
    "train_x = train['Sentence'].values\n",
    "train_y = train['Label'].values\n",
    "\n",
    "##test_x = test['Sentence'].values\n",
    "##test_y = test['Label'].values"
   ]
  },
  {
   "cell_type": "code",
   "execution_count": 10,
   "id": "78503cfc",
   "metadata": {},
   "outputs": [],
   "source": [
    "from sklearn.feature_extraction.text import TfidfVectorizer\n",
    "vectorizer = TfidfVectorizer(max_features=3000)\n",
    "train_x = vectorizer.fit_transform(train_x).toarray()\n",
    "\n"
   ]
  },
  {
   "cell_type": "code",
   "execution_count": 11,
   "id": "4d221dfe",
   "metadata": {},
   "outputs": [
    {
     "name": "stdout",
     "output_type": "stream",
     "text": [
      "Epoch 1/27\n",
      "766/766 - 3s - loss: 0.6801 - accuracy: 0.5756 - val_loss: 0.6258 - val_accuracy: 1.0000 - 3s/epoch - 4ms/step\n",
      "Epoch 2/27\n",
      "766/766 - 2s - loss: 0.6575 - accuracy: 0.6804 - val_loss: 0.6016 - val_accuracy: 1.0000 - 2s/epoch - 2ms/step\n",
      "Epoch 3/27\n",
      "766/766 - 2s - loss: 0.6370 - accuracy: 0.7766 - val_loss: 0.5846 - val_accuracy: 0.9998 - 2s/epoch - 2ms/step\n",
      "Epoch 4/27\n",
      "766/766 - 2s - loss: 0.6179 - accuracy: 0.8067 - val_loss: 0.5739 - val_accuracy: 0.9997 - 2s/epoch - 2ms/step\n",
      "Epoch 5/27\n",
      "766/766 - 2s - loss: 0.6002 - accuracy: 0.8342 - val_loss: 0.5609 - val_accuracy: 0.9993 - 2s/epoch - 2ms/step\n",
      "Epoch 6/27\n",
      "766/766 - 2s - loss: 0.5836 - accuracy: 0.8516 - val_loss: 0.5511 - val_accuracy: 0.9993 - 2s/epoch - 2ms/step\n",
      "Epoch 7/27\n",
      "766/766 - 2s - loss: 0.5682 - accuracy: 0.8751 - val_loss: 0.5354 - val_accuracy: 0.9992 - 2s/epoch - 2ms/step\n",
      "Epoch 8/27\n",
      "766/766 - 2s - loss: 0.5537 - accuracy: 0.8807 - val_loss: 0.5254 - val_accuracy: 0.9990 - 2s/epoch - 2ms/step\n",
      "Epoch 9/27\n",
      "766/766 - 2s - loss: 0.5402 - accuracy: 0.8862 - val_loss: 0.5153 - val_accuracy: 0.9987 - 2s/epoch - 2ms/step\n",
      "Epoch 10/27\n",
      "766/766 - 2s - loss: 0.5275 - accuracy: 0.8922 - val_loss: 0.5057 - val_accuracy: 0.9984 - 2s/epoch - 2ms/step\n",
      "Epoch 11/27\n",
      "766/766 - 2s - loss: 0.5156 - accuracy: 0.8967 - val_loss: 0.4984 - val_accuracy: 0.9982 - 2s/epoch - 2ms/step\n",
      "Epoch 12/27\n",
      "766/766 - 2s - loss: 0.5044 - accuracy: 0.9060 - val_loss: 0.4823 - val_accuracy: 0.9984 - 2s/epoch - 2ms/step\n",
      "Epoch 13/27\n",
      "766/766 - 2s - loss: 0.4939 - accuracy: 0.9034 - val_loss: 0.4796 - val_accuracy: 0.9980 - 2s/epoch - 2ms/step\n",
      "Epoch 14/27\n",
      "766/766 - 2s - loss: 0.4839 - accuracy: 0.9093 - val_loss: 0.4710 - val_accuracy: 0.9980 - 2s/epoch - 2ms/step\n",
      "Epoch 15/27\n",
      "766/766 - 2s - loss: 0.4745 - accuracy: 0.9116 - val_loss: 0.4631 - val_accuracy: 0.9979 - 2s/epoch - 2ms/step\n",
      "Epoch 16/27\n",
      "766/766 - 2s - loss: 0.4656 - accuracy: 0.9136 - val_loss: 0.4527 - val_accuracy: 0.9979 - 2s/epoch - 2ms/step\n",
      "Epoch 17/27\n",
      "766/766 - 2s - loss: 0.4572 - accuracy: 0.9143 - val_loss: 0.4461 - val_accuracy: 0.9979 - 2s/epoch - 2ms/step\n",
      "Epoch 18/27\n",
      "766/766 - 2s - loss: 0.4492 - accuracy: 0.9158 - val_loss: 0.4391 - val_accuracy: 0.9977 - 2s/epoch - 3ms/step\n",
      "Epoch 19/27\n",
      "766/766 - 2s - loss: 0.4416 - accuracy: 0.9168 - val_loss: 0.4330 - val_accuracy: 0.9976 - 2s/epoch - 2ms/step\n",
      "Epoch 20/27\n",
      "766/766 - 2s - loss: 0.4343 - accuracy: 0.9173 - val_loss: 0.4263 - val_accuracy: 0.9972 - 2s/epoch - 2ms/step\n",
      "Epoch 21/27\n",
      "766/766 - 2s - loss: 0.4274 - accuracy: 0.9174 - val_loss: 0.4247 - val_accuracy: 0.9959 - 2s/epoch - 2ms/step\n",
      "Epoch 22/27\n",
      "766/766 - 2s - loss: 0.4209 - accuracy: 0.9194 - val_loss: 0.4147 - val_accuracy: 0.9971 - 2s/epoch - 2ms/step\n",
      "Epoch 23/27\n",
      "766/766 - 2s - loss: 0.4146 - accuracy: 0.9193 - val_loss: 0.4090 - val_accuracy: 0.9969 - 2s/epoch - 2ms/step\n",
      "Epoch 24/27\n",
      "766/766 - 2s - loss: 0.4086 - accuracy: 0.9199 - val_loss: 0.4035 - val_accuracy: 0.9967 - 2s/epoch - 2ms/step\n",
      "Epoch 25/27\n",
      "766/766 - 2s - loss: 0.4028 - accuracy: 0.9201 - val_loss: 0.4001 - val_accuracy: 0.9959 - 2s/epoch - 2ms/step\n",
      "Epoch 26/27\n",
      "766/766 - 2s - loss: 0.3973 - accuracy: 0.9216 - val_loss: 0.3950 - val_accuracy: 0.9959 - 2s/epoch - 2ms/step\n",
      "Epoch 27/27\n",
      "766/766 - 2s - loss: 0.3921 - accuracy: 0.9217 - val_loss: 0.3907 - val_accuracy: 0.9954 - 2s/epoch - 2ms/step\n"
     ]
    }
   ],
   "source": [
    "history = model.fit(train_x, train_y, epochs=no_epochs, batch_size=32, verbose=2, validation_split=0.2)\n"
   ]
  },
  {
   "cell_type": "code",
   "execution_count": 12,
   "id": "f697cbfb",
   "metadata": {},
   "outputs": [
    {
     "name": "stdout",
     "output_type": "stream",
     "text": [
      "Final Training Loss: 0.39207029342651367\n",
      "Final Training Accuracy: 0.921685516834259\n"
     ]
    }
   ],
   "source": [
    "# Affichage de la loss et accuracy après l'entraînement\n",
    "print(\"Final Training Loss:\", history.history['loss'][-1])\n",
    "print(\"Final Training Accuracy:\", history.history['accuracy'][-1])\n",
    "\n"
   ]
  },
  {
   "cell_type": "code",
   "execution_count": 13,
   "id": "243ce912",
   "metadata": {},
   "outputs": [
    {
     "data": {
      "image/png": "[encoded data removed]",
      "text/plain": [
       "<Figure size 640x480 with 1 Axes>"
      ]
     },
     "metadata": {},
     "output_type": "display_data"
    },
    {
     "data": {
      "image/png": "[encoded data removed]",
      "text/plain": [
       "<Figure size 640x480 with 1 Axes>"
      ]
     },
     "metadata": {},
     "output_type": "display_data"
    }
   ],
   "source": [
    "plt.plot(history.history['loss'], label='Train Loss')\n",
    "plt.plot(history.history['val_loss'], label='Validation Loss')\n",
    "plt.title('Loss over epochs')\n",
    "plt.xlabel('Epochs')\n",
    "plt.ylabel('Loss')\n",
    "plt.legend()\n",
    "plt.show()\n",
    "\n",
    "plt.plot(history.history['accuracy'], label='Train Accuracy')\n",
    "plt.plot(history.history['val_accuracy'], label='Validation Accuracy')\n",
    "plt.title('Accuracy over epochs')\n",
    "plt.xlabel('Epochs')\n",
    "plt.ylabel('Accuracy')\n",
    "plt.legend()\n",
    "plt.show()"
   ]
  },
  {
   "cell_type": "code",
   "execution_count": 14,
   "id": "2a49ac54",
   "metadata": {},
   "outputs": [
    {
     "name": "stdout",
     "output_type": "stream",
     "text": [
      "Sentence    3\n",
      "Label       0\n",
      "dtype: int64\n"
     ]
    }
   ],
   "source": [
    "test_x = test['Sentence'].values\n",
    "test_y = test['Label'].values\n",
    "print(test.isnull().sum())\n"
   ]
  },
  {
   "cell_type": "code",
   "execution_count": 15,
   "id": "d51147db",
   "metadata": {},
   "outputs": [],
   "source": [
    "test = test.dropna(subset=['Sentence'])\n",
    "\n"
   ]
  },
  {
   "cell_type": "code",
   "execution_count": 16,
   "id": "53e4097e",
   "metadata": {},
   "outputs": [],
   "source": [
    "# Filtrer les lignes où Label == 1\n",
    "filtered = test[test['Label'] == 1]\n",
    "\n",
    "# Récupérer les 1000 exemples dans test_x et test_y\n",
    "test_x = filtered['Sentence'].values\n",
    "test_y = filtered['Label'].values\n",
    "\n",
    "\n",
    "test_x = vectorizer.transform(test_x).toarray()"
   ]
  },
  {
   "cell_type": "code",
   "execution_count": 17,
   "id": "07b84aad",
   "metadata": {},
   "outputs": [
    {
     "name": "stdout",
     "output_type": "stream",
     "text": [
      "358/358 [==============================] - 1s 2ms/step\n"
     ]
    }
   ],
   "source": [
    "predictions = model.predict(test_x)\n"
   ]
  },
  {
   "cell_type": "markdown",
   "id": "df023fca",
   "metadata": {},
   "source": []
  },
  {
   "cell_type": "code",
   "execution_count": 18,
   "id": "9c83e70b",
   "metadata": {},
   "outputs": [
    {
     "name": "stdout",
     "output_type": "stream",
     "text": [
      "[1 0 0 ... 1 1 0]\n"
     ]
    }
   ],
   "source": [
    "# Convertir les probabilités en classes binaires\n",
    "predicted_classes = (predictions >= 0.5).astype(int)\n",
    "\n",
    "# Afficher les 20 premières prédictions\n",
    "print(predicted_classes.flatten())\n"
   ]
  },
  {
   "cell_type": "code",
   "execution_count": 19,
   "id": "f955babb",
   "metadata": {},
   "outputs": [
    {
     "name": "stdout",
     "output_type": "stream",
     "text": [
      "Nombre de requêtes détectées comme SQL injection : 9553\n"
     ]
    }
   ],
   "source": [
    "# Compter le nombre de prédictions égales à 1\n",
    "nombre_de_sql_injections = (predicted_classes == 1).sum()\n",
    "\n",
    "print(f\"Nombre de requêtes détectées comme SQL injection : {nombre_de_sql_injections}\")\n"
   ]
  },
  {
   "cell_type": "code",
   "execution_count": 20,
   "id": "dc0e02ef",
   "metadata": {},
   "outputs": [
    {
     "data": {
      "text/plain": [
       "Label\n",
       "0    22304\n",
       "1    11453\n",
       "Name: count, dtype: int64"
      ]
     },
     "execution_count": 20,
     "metadata": {},
     "output_type": "execute_result"
    }
   ],
   "source": [
    "test.Label.value_counts()\n"
   ]
  },
  {
   "cell_type": "code",
   "execution_count": 30,
   "id": "4c585a5b",
   "metadata": {},
   "outputs": [
    {
     "name": "stdout",
     "output_type": "stream",
     "text": [
      "[1 0 0 ... 1 1 0]\n",
      "Nombre de requêtes détectées comme SQL injection : 9553\n",
      "accuracy après tester avec le premier dataset : 83.41%\n",
      "precision : 100.00%\n",
      "recall : 83.41%\n",
      "F1 Score : 90.95%\n"
     ]
    }
   ],
   "source": [
    "from sklearn.metrics import accuracy_score, precision_score, recall_score, f1_score\n",
    "\n",
    "# Calcul des métriques pour la première prédiction\n",
    "predicted_classes = (predictions >= 0.5).astype(int)\n",
    "\n",
    "# Afficher les 20 premières prédictions\n",
    "print(predicted_classes.flatten())\n",
    "\n",
    "# Compter le nombre de prédictions égales à 1\n",
    "nombre_de_sql_injections = (predicted_classes == 1).sum()\n",
    "\n",
    "print(f\"Nombre de requêtes détectées comme SQL injection : {nombre_de_sql_injections}\")\n",
    "print(f\"accuracy après tester avec le premier dataset : {accuracy_score(test_y, predicted_classes) * 100:.2f}%\")\n",
    "print(f\"precision : {precision_score(test_y, predicted_classes, zero_division=0) * 100:.2f}%\")\n",
    "print(f\"recall : {recall_score(test_y, predicted_classes, zero_division=0) * 100:.2f}%\")\n",
    "print(f\"F1 Score : {f1_score(test_y, predicted_classes, zero_division=0) * 100:.2f}%\")\n"
   ]
  },
  {
   "cell_type": "code",
   "execution_count": 87,
   "id": "c81a6a25",
   "metadata": {},
   "outputs": [],
   "source": [
    "# Filtrer les lignes où Label == 1\n",
    "filtered2 = test[test['Label'] == 0]\n",
    "\n",
    "# Récupérer les 1000 exemples dans test_x et test_y\n",
    "test_x2 = filtered2['Sentence'].values\n",
    "test_y2 = filtered2['Label'].values\n",
    "\n",
    "\n",
    "test_x2 = vectorizer.transform(test_x2).toarray()"
   ]
  },
  {
   "cell_type": "code",
   "execution_count": 88,
   "id": "9b6c6e18",
   "metadata": {},
   "outputs": [
    {
     "name": "stdout",
     "output_type": "stream",
     "text": [
      "697/697 [==============================] - 1s 2ms/step\n"
     ]
    }
   ],
   "source": [
    "predictions2 = model.predict(test_x2)\n"
   ]
  },
  {
   "cell_type": "code",
   "execution_count": 112,
   "id": "4894c68e",
   "metadata": {},
   "outputs": [
    {
     "name": "stdout",
     "output_type": "stream",
     "text": [
      "[0 0 0 ... 0 0 0]\n"
     ]
    }
   ],
   "source": [
    "# Convertir les probabilités en classes binaires\n",
    "predicted_classes2 = (predictions2 >= 0.5).astype(int)\n",
    "\n",
    "# Afficher les 20 premières prédictions\n",
    "print(predicted_classes2.flatten())\n"
   ]
  },
  {
   "cell_type": "code",
   "execution_count": 119,
   "id": "96145c11",
   "metadata": {},
   "outputs": [
    {
     "name": "stdout",
     "output_type": "stream",
     "text": [
      "Nombre de requêtes non détectées comme SQL injection : 22288\n"
     ]
    }
   ],
   "source": [
    "# Compter le nombre de prédictions égales à 1\n",
    "nombre_de_non_sql_injections = (predicted_classes2 == 0).sum()\n",
    "\n",
    "print(f\"Nombre de requêtes non détectées comme SQL injection : {nombre_de_non_sql_injections}\")\n"
   ]
  },
  {
   "cell_type": "code",
   "execution_count": 114,
   "id": "d108d5b6",
   "metadata": {},
   "outputs": [
    {
     "data": {
      "text/plain": [
       "Label\n",
       "0    22304\n",
       "1    11453\n",
       "Name: count, dtype: int64"
      ]
     },
     "execution_count": 114,
     "metadata": {},
     "output_type": "execute_result"
    }
   ],
   "source": [
    "test.Label.value_counts()\n"
   ]
  },
  {
   "cell_type": "code",
   "execution_count": 115,
   "id": "5af2f412",
   "metadata": {},
   "outputs": [
    {
     "name": "stdout",
     "output_type": "stream",
     "text": [
      "accuracy apres testé avec le deuxiéme datset avec les non sql injection est =0.9992826398852224 \n"
     ]
    }
   ],
   "source": [
    "print(f\"accuracy apres testé avec le deuxiéme datset avec les non sql injection est ={nombre_de_non_sql_injections/len(test_x2)} \")"
   ]
  },
  {
   "cell_type": "code",
   "execution_count": 123,
   "id": "220f3bd8-7257-4619-a8b8-952b030f6ff7",
   "metadata": {},
   "outputs": [
    {
     "name": "stdout",
     "output_type": "stream",
     "text": [
      "697/697 [==============================] - 1s 2ms/step\n",
      "Premières prédictions : [0 0 0 0 0 0 0 0 0 0 0 0 0 0 0 0 0 0 0 0]\n",
      "Nombre de requêtes détectées comme NON SQL injection : 22288 / 22304\n",
      "Accuracy après test avec le dataset filtré : 99.93%\n",
      "Precision : 100.00%\n",
      "Recall :    99.93%\n",
      "F1 Score :  99.96%\n"
     ]
    }
   ],
   "source": [
    "from sklearn.metrics import accuracy_score, precision_score, recall_score, f1_score\n",
    "import numpy as np\n",
    "\n",
    "# --- 1. Préparation des données ---\n",
    "# Filtrer les lignes où Label == 0 (NON-SPAM = NON-SQLi)\n",
    "filtered2 = test[test['Label'] == 0]\n",
    "\n",
    "# Récupérer les exemples\n",
    "test_x2 = filtered2['Sentence'].values\n",
    "test_y2 = filtered2['Label'].values  # Ce sera 0 partout ici\n",
    "\n",
    "# Vectoriser\n",
    "test_x2_vectorized = vectorizer.transform(test_x2).toarray()\n",
    "\n",
    "# --- 2. Prédiction ---\n",
    "predictions2 = model.predict(test_x2_vectorized)\n",
    "\n",
    "# Convertir en classes binaires (0 ou 1)\n",
    "predicted_classes2 = (predictions2 >= 0.5).astype(int).flatten()  # Assurer un vecteur plat\n",
    "test_y2 = test_y2.flatten()\n",
    "\n",
    "# --- 3. Afficher quelques prédictions ---\n",
    "print(\"Premières prédictions :\", predicted_classes2[:20])\n",
    "\n",
    "# --- 4. Calcul du nombre de non-SQLi détectées (c’est-à-dire prédits 0) ---\n",
    "nombre_de_non_sql_injections = (predicted_classes2 == 0).sum()\n",
    "print(f\"Nombre de requêtes détectées comme NON SQL injection : {nombre_de_non_sql_injections} / {len(test_y2)}\")\n",
    "\n",
    "# --- 5. Calcul et affichage des métriques ---\n",
    "print(f\"Accuracy après test avec le dataset filtré : {accuracy_score(test_y2, predicted_classes2) * 100:.2f}%\")\n",
    "print(f\"Precision : {precision_score(test_y2, predicted_classes2, zero_division=0, pos_label=0) * 100:.2f}%\")\n",
    "print(f\"Recall :    {recall_score(test_y2, predicted_classes2, zero_division=0, pos_label=0) * 100:.2f}%\")\n",
    "print(f\"F1 Score :  {f1_score(test_y2, predicted_classes2, zero_division=0, pos_label=0) * 100:.2f}%\")\n"
   ]
  },
  {
   "cell_type": "code",
   "execution_count": null,
   "id": "2432c2c9-5bd9-4fea-8579-1ccbd13bc5b1",
   "metadata": {},
   "outputs": [],
   "source": []
  }
 ],
 "metadata": {
  "kernelspec": {
   "display_name": "Python 3 (ipykernel)",
   "language": "python",
   "name": "python3"
  },
  "language_info": {
   "codemirror_mode": {
    "name": "ipython",
    "version": 3
   },
   "file_extension": ".py",
   "mimetype": "text/x-python",
   "name": "python",
   "nbconvert_exporter": "python",
   "pygments_lexer": "ipython3",
   "version": "3.9.18"
  }
 },
 "nbformat": 4,
 "nbformat_minor": 5
}
