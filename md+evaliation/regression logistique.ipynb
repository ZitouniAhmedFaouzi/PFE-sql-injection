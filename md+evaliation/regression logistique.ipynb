{
 "cells": [
  {
   "cell_type": "code",
   "execution_count": 1,
   "id": "a219c13f-5efd-479b-bff9-456c680e73ca",
   "metadata": {},
   "outputs": [],
   "source": [
    "import numpy as np\n",
    "import pandas as pd\n",
    "import chardet\n",
    "from sklearn.metrics import classification_report, f1_score, recall_score\n",
    "from sklearn.model_selection import learning_curve\n",
    "import matplotlib.pyplot as plt\n"
   ]
  },
  {
   "cell_type": "code",
   "execution_count": 2,
   "id": "00231945-c998-4890-8595-584976b2367d",
   "metadata": {},
   "outputs": [
    {
     "data": {
      "text/html": [
       "<div>\n",
       "<style scoped>\n",
       "    .dataframe tbody tr th:only-of-type {\n",
       "        vertical-align: middle;\n",
       "    }\n",
       "\n",
       "    .dataframe tbody tr th {\n",
       "        vertical-align: top;\n",
       "    }\n",
       "\n",
       "    .dataframe thead th {\n",
       "        text-align: right;\n",
       "    }\n",
       "</style>\n",
       "<table border=\"1\" class=\"dataframe\">\n",
       "  <thead>\n",
       "    <tr style=\"text-align: right;\">\n",
       "      <th></th>\n",
       "      <th>Sentence</th>\n",
       "      <th>Label</th>\n",
       "    </tr>\n",
       "  </thead>\n",
       "  <tbody>\n",
       "    <tr>\n",
       "      <th>0</th>\n",
       "      <td>\" or pg_sleep  (  __TIME__  )  --</td>\n",
       "      <td>1</td>\n",
       "    </tr>\n",
       "    <tr>\n",
       "      <th>1</th>\n",
       "      <td>create user name identified by pass123 tempora...</td>\n",
       "      <td>1</td>\n",
       "    </tr>\n",
       "    <tr>\n",
       "      <th>2</th>\n",
       "      <td>AND 1  =  utl_inaddr.get_host_address   (    ...</td>\n",
       "      <td>1</td>\n",
       "    </tr>\n",
       "    <tr>\n",
       "      <th>3</th>\n",
       "      <td>select * from users where id  =  '1' or @ @1 ...</td>\n",
       "      <td>1</td>\n",
       "    </tr>\n",
       "    <tr>\n",
       "      <th>4</th>\n",
       "      <td>select * from users where id  =  1 or 1#\"  ( ...</td>\n",
       "      <td>1</td>\n",
       "    </tr>\n",
       "    <tr>\n",
       "      <th>...</th>\n",
       "      <td>...</td>\n",
       "      <td>...</td>\n",
       "    </tr>\n",
       "    <tr>\n",
       "      <th>30609</th>\n",
       "      <td>DELETE FROM door WHERE grow = 'small'</td>\n",
       "      <td>0</td>\n",
       "    </tr>\n",
       "    <tr>\n",
       "      <th>30610</th>\n",
       "      <td>DELETE FROM tomorrow</td>\n",
       "      <td>0</td>\n",
       "    </tr>\n",
       "    <tr>\n",
       "      <th>30611</th>\n",
       "      <td>SELECT wide ( s )  FROM west</td>\n",
       "      <td>0</td>\n",
       "    </tr>\n",
       "    <tr>\n",
       "      <th>30612</th>\n",
       "      <td>SELECT * FROM  ( SELECT slide FROM breath )</td>\n",
       "      <td>0</td>\n",
       "    </tr>\n",
       "    <tr>\n",
       "      <th>30613</th>\n",
       "      <td>SELECT TOP 3 * FROM race</td>\n",
       "      <td>0</td>\n",
       "    </tr>\n",
       "  </tbody>\n",
       "</table>\n",
       "<p>30614 rows × 2 columns</p>\n",
       "</div>"
      ],
      "text/plain": [
       "                                                Sentence  Label\n",
       "0                      \" or pg_sleep  (  __TIME__  )  --      1\n",
       "1      create user name identified by pass123 tempora...      1\n",
       "2       AND 1  =  utl_inaddr.get_host_address   (    ...      1\n",
       "3       select * from users where id  =  '1' or @ @1 ...      1\n",
       "4       select * from users where id  =  1 or 1#\"  ( ...      1\n",
       "...                                                  ...    ...\n",
       "30609              DELETE FROM door WHERE grow = 'small'      0\n",
       "30610                               DELETE FROM tomorrow      0\n",
       "30611                       SELECT wide ( s )  FROM west      0\n",
       "30612       SELECT * FROM  ( SELECT slide FROM breath )       0\n",
       "30613                           SELECT TOP 3 * FROM race      0\n",
       "\n",
       "[30614 rows x 2 columns]"
      ]
     },
     "execution_count": 2,
     "metadata": {},
     "output_type": "execute_result"
    }
   ],
   "source": [
    "# Detect the encoding of the CSV file\n",
    "with open('SQLIV3_cleaned2.csv', 'rb') as f:\n",
    "\n",
    "    result = chardet.detect(f.read())\n",
    "# Read the CSV file into a pandas dataframe, using the detected encoding\n",
    "df = pd.read_csv('SQLIV3_cleaned2.csv', sep=',', encoding=result['encoding'])\n",
    "\n",
    "df"
   ]
  },
  {
   "cell_type": "code",
   "execution_count": 3,
   "id": "e53e44bd-cff7-43f7-a55e-af932b5016e6",
   "metadata": {},
   "outputs": [
    {
     "data": {
      "text/plain": [
       "12"
      ]
     },
     "execution_count": 3,
     "metadata": {},
     "output_type": "execute_result"
    }
   ],
   "source": [
    "\n",
    "df.duplicated().sum()"
   ]
  },
  {
   "cell_type": "code",
   "execution_count": 4,
   "id": "606a6e15-a76b-4785-bd5e-13772ae2be16",
   "metadata": {},
   "outputs": [],
   "source": [
    "# remove duplicates\n",
    "df = df.drop_duplicates(keep='first')"
   ]
  },
  {
   "cell_type": "code",
   "execution_count": 5,
   "id": "3fcfc92b-a543-4eee-acbd-e7e488a7de9d",
   "metadata": {},
   "outputs": [
    {
     "data": {
      "text/plain": [
       "0"
      ]
     },
     "execution_count": 5,
     "metadata": {},
     "output_type": "execute_result"
    }
   ],
   "source": [
    "\n",
    "df.duplicated().sum()"
   ]
  },
  {
   "cell_type": "code",
   "execution_count": 6,
   "id": "2ec0d967-23af-4fee-bb6a-8ea307c3d343",
   "metadata": {},
   "outputs": [
    {
     "data": {
      "text/plain": [
       "Label\n",
       "0    19260\n",
       "1    11342\n",
       "Name: count, dtype: int64"
      ]
     },
     "execution_count": 6,
     "metadata": {},
     "output_type": "execute_result"
    }
   ],
   "source": [
    "df['Label'].value_counts()"
   ]
  },
  {
   "cell_type": "code",
   "execution_count": 7,
   "id": "38bcf421-9345-48ef-836f-17722ee7922c",
   "metadata": {},
   "outputs": [
    {
     "data": {
      "image/png": "[encoded data removed]",
      "text/plain": [
       "<Figure size 640x480 with 1 Axes>"
      ]
     },
     "metadata": {},
     "output_type": "display_data"
    }
   ],
   "source": [
    "import matplotlib.pyplot as plt\n",
    "plt.pie(df['Label'].value_counts(), labels=['not sql injection','sql injection'],autopct=\"%0.2f\")\n",
    "plt.show()"
   ]
  },
  {
   "cell_type": "code",
   "execution_count": 8,
   "id": "51258a9d-8d67-4ef2-b62b-1e1aa7c222ae",
   "metadata": {},
   "outputs": [],
   "source": [
    "from sklearn.feature_extraction.text import CountVectorizer,TfidfVectorizer\n",
    "cv = CountVectorizer()\n",
    "tfidf = TfidfVectorizer(max_features=3000)"
   ]
  },
  {
   "cell_type": "code",
   "execution_count": 9,
   "id": "8cc8f078-e459-4f8d-a1dc-92b9f111d180",
   "metadata": {},
   "outputs": [],
   "source": [
    "X = tfidf.fit_transform(df['Sentence']).toarray()"
   ]
  },
  {
   "cell_type": "code",
   "execution_count": 10,
   "id": "9d8b7894-0064-42f6-bfcf-7a06ffaac55f",
   "metadata": {},
   "outputs": [
    {
     "data": {
      "text/plain": [
       "(30602, 3000)"
      ]
     },
     "execution_count": 10,
     "metadata": {},
     "output_type": "execute_result"
    }
   ],
   "source": [
    "X.shape\n"
   ]
  },
  {
   "cell_type": "code",
   "execution_count": 11,
   "id": "4a1a19a8-66f9-4548-971e-523ba7e94572",
   "metadata": {},
   "outputs": [],
   "source": [
    "y = df['Label'].values\n"
   ]
  },
  {
   "cell_type": "code",
   "execution_count": 12,
   "id": "dda5c302-96b6-4ece-b979-110bcf2a0d7f",
   "metadata": {},
   "outputs": [],
   "source": [
    "from sklearn.model_selection import train_test_split"
   ]
  },
  {
   "cell_type": "code",
   "execution_count": 13,
   "id": "3f8021b3-bc86-4734-95e5-1adb6e19afa9",
   "metadata": {},
   "outputs": [],
   "source": [
    "X_train,X_test,y_train,y_test = train_test_split(X,y,test_size=0.2,random_state=2)"
   ]
  },
  {
   "cell_type": "code",
   "execution_count": 14,
   "id": "c021d8f7-d0ff-4663-b5bf-4c84b10aea2f",
   "metadata": {},
   "outputs": [],
   "source": [
    "from sklearn.metrics import accuracy_score,confusion_matrix,precision_score"
   ]
  },
  {
   "cell_type": "code",
   "execution_count": 15,
   "id": "b04de4d9-1d20-4069-9858-752878b13326",
   "metadata": {},
   "outputs": [],
   "source": [
    "from sklearn.linear_model import LogisticRegression\n",
    "lrc = LogisticRegression(solver='liblinear', penalty='l1')\n"
   ]
  },
  {
   "cell_type": "code",
   "execution_count": 18,
   "id": "e0a2f2ac-d5c5-4ee2-afe8-42a68457f09c",
   "metadata": {},
   "outputs": [],
   "source": [
    "lrc.fit(X_train,y_train)\n",
    "y_pred = lrc.predict(X_test)\n",
    "accuracy = accuracy_score(y_test,y_pred)\n",
    "precision = precision_score(y_test,y_pred)\n",
    "recall = recall_score(y_test, y_pred)\n",
    "f1 = f1_score(y_test, y_pred)"
   ]
  },
  {
   "cell_type": "code",
   "execution_count": 23,
   "id": "b6a287e2-0194-47c7-8a48-293099fba09f",
   "metadata": {},
   "outputs": [
    {
     "name": "stdout",
     "output_type": "stream",
     "text": [
      "Accuracy: 0.9810488482274138\n",
      "Precision: 0.9972627737226277\n",
      "Recall: 0.9521\n",
      "F1 Score: 0.9742\n"
     ]
    }
   ],
   "source": [
    "print(\"Accuracy:\", accuracy)\n",
    "print(\"Precision:\", precision)\n",
    "print(f\"Recall: {recall:.4f}\")\n",
    "print(f\"F1 Score: {f1:.4f}\")\n"
   ]
  },
  {
   "cell_type": "code",
   "execution_count": 26,
   "id": "1b7fdf58-0857-4306-98d0-220209bc4253",
   "metadata": {},
   "outputs": [
    {
     "data": {
      "image/png": "[encoded data removed]",
      "text/plain": [
       "<Figure size 640x480 with 2 Axes>"
      ]
     },
     "metadata": {},
     "output_type": "display_data"
    }
   ],
   "source": [
    "from sklearn.metrics import ConfusionMatrixDisplay\n",
    "import matplotlib.pyplot as plt\n",
    "\n",
    "# Matrice de confusion\n",
    "cm = confusion_matrix(y_test, y_pred)\n",
    "disp = ConfusionMatrixDisplay(confusion_matrix=cm)\n",
    "disp.plot(cmap='Blues')\n",
    "plt.title(\"Matrice de Confusion\")\n",
    "plt.show()"
   ]
  },
  {
   "cell_type": "code",
   "execution_count": 30,
   "id": "0b40eb0b-fc7b-49cf-b970-58bea6e5ffbb",
   "metadata": {},
   "outputs": [
    {
     "name": "stderr",
     "output_type": "stream",
     "text": [
      "C:\\Users\\DELL\\anaconda3\\envs\\env2\\lib\\site-packages\\sklearn\\svm\\_base.py:1249: ConvergenceWarning: Liblinear failed to converge, increase the number of iterations.\n",
      "  warnings.warn(\n",
      "C:\\Users\\DELL\\anaconda3\\envs\\env2\\lib\\site-packages\\sklearn\\svm\\_base.py:1249: ConvergenceWarning: Liblinear failed to converge, increase the number of iterations.\n",
      "  warnings.warn(\n",
      "C:\\Users\\DELL\\anaconda3\\envs\\env2\\lib\\site-packages\\sklearn\\svm\\_base.py:1249: ConvergenceWarning: Liblinear failed to converge, increase the number of iterations.\n",
      "  warnings.warn(\n",
      "C:\\Users\\DELL\\anaconda3\\envs\\env2\\lib\\site-packages\\sklearn\\svm\\_base.py:1249: ConvergenceWarning: Liblinear failed to converge, increase the number of iterations.\n",
      "  warnings.warn(\n",
      "C:\\Users\\DELL\\anaconda3\\envs\\env2\\lib\\site-packages\\sklearn\\svm\\_base.py:1249: ConvergenceWarning: Liblinear failed to converge, increase the number of iterations.\n",
      "  warnings.warn(\n",
      "C:\\Users\\DELL\\anaconda3\\envs\\env2\\lib\\site-packages\\sklearn\\svm\\_base.py:1249: ConvergenceWarning: Liblinear failed to converge, increase the number of iterations.\n",
      "  warnings.warn(\n",
      "C:\\Users\\DELL\\anaconda3\\envs\\env2\\lib\\site-packages\\sklearn\\svm\\_base.py:1249: ConvergenceWarning: Liblinear failed to converge, increase the number of iterations.\n",
      "  warnings.warn(\n",
      "C:\\Users\\DELL\\anaconda3\\envs\\env2\\lib\\site-packages\\sklearn\\svm\\_base.py:1249: ConvergenceWarning: Liblinear failed to converge, increase the number of iterations.\n",
      "  warnings.warn(\n",
      "C:\\Users\\DELL\\anaconda3\\envs\\env2\\lib\\site-packages\\sklearn\\svm\\_base.py:1249: ConvergenceWarning: Liblinear failed to converge, increase the number of iterations.\n",
      "  warnings.warn(\n",
      "C:\\Users\\DELL\\anaconda3\\envs\\env2\\lib\\site-packages\\sklearn\\svm\\_base.py:1249: ConvergenceWarning: Liblinear failed to converge, increase the number of iterations.\n",
      "  warnings.warn(\n",
      "C:\\Users\\DELL\\anaconda3\\envs\\env2\\lib\\site-packages\\sklearn\\svm\\_base.py:1249: ConvergenceWarning: Liblinear failed to converge, increase the number of iterations.\n",
      "  warnings.warn(\n",
      "C:\\Users\\DELL\\anaconda3\\envs\\env2\\lib\\site-packages\\sklearn\\svm\\_base.py:1249: ConvergenceWarning: Liblinear failed to converge, increase the number of iterations.\n",
      "  warnings.warn(\n",
      "C:\\Users\\DELL\\anaconda3\\envs\\env2\\lib\\site-packages\\sklearn\\svm\\_base.py:1249: ConvergenceWarning: Liblinear failed to converge, increase the number of iterations.\n",
      "  warnings.warn(\n",
      "C:\\Users\\DELL\\anaconda3\\envs\\env2\\lib\\site-packages\\sklearn\\svm\\_base.py:1249: ConvergenceWarning: Liblinear failed to converge, increase the number of iterations.\n",
      "  warnings.warn(\n",
      "C:\\Users\\DELL\\anaconda3\\envs\\env2\\lib\\site-packages\\sklearn\\svm\\_base.py:1249: ConvergenceWarning: Liblinear failed to converge, increase the number of iterations.\n",
      "  warnings.warn(\n",
      "C:\\Users\\DELL\\anaconda3\\envs\\env2\\lib\\site-packages\\sklearn\\svm\\_base.py:1249: ConvergenceWarning: Liblinear failed to converge, increase the number of iterations.\n",
      "  warnings.warn(\n",
      "C:\\Users\\DELL\\anaconda3\\envs\\env2\\lib\\site-packages\\sklearn\\svm\\_base.py:1249: ConvergenceWarning: Liblinear failed to converge, increase the number of iterations.\n",
      "  warnings.warn(\n",
      "C:\\Users\\DELL\\anaconda3\\envs\\env2\\lib\\site-packages\\sklearn\\svm\\_base.py:1249: ConvergenceWarning: Liblinear failed to converge, increase the number of iterations.\n",
      "  warnings.warn(\n",
      "C:\\Users\\DELL\\anaconda3\\envs\\env2\\lib\\site-packages\\sklearn\\svm\\_base.py:1249: ConvergenceWarning: Liblinear failed to converge, increase the number of iterations.\n",
      "  warnings.warn(\n",
      "C:\\Users\\DELL\\anaconda3\\envs\\env2\\lib\\site-packages\\sklearn\\svm\\_base.py:1249: ConvergenceWarning: Liblinear failed to converge, increase the number of iterations.\n",
      "  warnings.warn(\n"
     ]
    },
    {
     "data": {
      "image/png": "[encoded data removed]",
      "text/plain": [
       "<Figure size 800x400 with 1 Axes>"
      ]
     },
     "metadata": {},
     "output_type": "display_data"
    }
   ],
   "source": [
    "from sklearn.metrics import log_loss  # <-- Ajoutez cette ligne\n",
    "import numpy as np\n",
    "import matplotlib.pyplot as plt\n",
    "\n",
    "# Réinitialisation du modèle avec enregistrement de la loss\n",
    "lrc = LogisticRegression(solver='liblinear', penalty='l1', max_iter=1, warm_start=True, random_state=2)\n",
    "train_loss = []\n",
    "test_loss = []\n",
    "\n",
    "for _ in range(20):  # 100 itérations\n",
    "    lrc.fit(X_train, y_train)\n",
    "    # Calcul de la log-loss sur train et test\n",
    "    train_loss.append(log_loss(y_train, lrc.predict_proba(X_train)))  # <-- Fonction maintenant disponible\n",
    "    test_loss.append(log_loss(y_test, lrc.predict_proba(X_test)))\n",
    "\n",
    "# Tracé de la courbe\n",
    "plt.figure(figsize=(8, 4))\n",
    "plt.plot(train_loss, label='Train Loss', color='blue')\n",
    "plt.plot(test_loss, label='Test Loss', color='red')\n",
    "plt.xlabel('Itérations')\n",
    "plt.ylabel('Log Loss')\n",
    "plt.title('Courbe de Loss pendant l\\'entraînement')\n",
    "plt.legend()\n",
    "plt.grid(True)\n",
    "plt.show()"
   ]
  },
  {
   "cell_type": "code",
   "execution_count": 33,
   "id": "01ae2e72-4b2c-4c62-9043-2f2e200ff7d4",
   "metadata": {},
   "outputs": [
    {
     "name": "stderr",
     "output_type": "stream",
     "text": [
      "C:\\Users\\DELL\\anaconda3\\envs\\env2\\lib\\site-packages\\sklearn\\svm\\_base.py:1249: ConvergenceWarning: Liblinear failed to converge, increase the number of iterations.\n",
      "  warnings.warn(\n",
      "C:\\Users\\DELL\\anaconda3\\envs\\env2\\lib\\site-packages\\sklearn\\svm\\_base.py:1249: ConvergenceWarning: Liblinear failed to converge, increase the number of iterations.\n",
      "  warnings.warn(\n",
      "C:\\Users\\DELL\\anaconda3\\envs\\env2\\lib\\site-packages\\sklearn\\svm\\_base.py:1249: ConvergenceWarning: Liblinear failed to converge, increase the number of iterations.\n",
      "  warnings.warn(\n",
      "C:\\Users\\DELL\\anaconda3\\envs\\env2\\lib\\site-packages\\sklearn\\svm\\_base.py:1249: ConvergenceWarning: Liblinear failed to converge, increase the number of iterations.\n",
      "  warnings.warn(\n",
      "C:\\Users\\DELL\\anaconda3\\envs\\env2\\lib\\site-packages\\sklearn\\svm\\_base.py:1249: ConvergenceWarning: Liblinear failed to converge, increase the number of iterations.\n",
      "  warnings.warn(\n",
      "C:\\Users\\DELL\\anaconda3\\envs\\env2\\lib\\site-packages\\sklearn\\svm\\_base.py:1249: ConvergenceWarning: Liblinear failed to converge, increase the number of iterations.\n",
      "  warnings.warn(\n",
      "C:\\Users\\DELL\\anaconda3\\envs\\env2\\lib\\site-packages\\sklearn\\svm\\_base.py:1249: ConvergenceWarning: Liblinear failed to converge, increase the number of iterations.\n",
      "  warnings.warn(\n",
      "C:\\Users\\DELL\\anaconda3\\envs\\env2\\lib\\site-packages\\sklearn\\svm\\_base.py:1249: ConvergenceWarning: Liblinear failed to converge, increase the number of iterations.\n",
      "  warnings.warn(\n",
      "C:\\Users\\DELL\\anaconda3\\envs\\env2\\lib\\site-packages\\sklearn\\svm\\_base.py:1249: ConvergenceWarning: Liblinear failed to converge, increase the number of iterations.\n",
      "  warnings.warn(\n",
      "C:\\Users\\DELL\\anaconda3\\envs\\env2\\lib\\site-packages\\sklearn\\svm\\_base.py:1249: ConvergenceWarning: Liblinear failed to converge, increase the number of iterations.\n",
      "  warnings.warn(\n"
     ]
    },
    {
     "data": {
      "image/png": "[encoded data removed]",
      "text/plain": [
       "<Figure size 1200x500 with 2 Axes>"
      ]
     },
     "metadata": {},
     "output_type": "display_data"
    }
   ],
   "source": [
    "import matplotlib.pyplot as plt\n",
    "from sklearn.metrics import log_loss, accuracy_score\n",
    "\n",
    "# Réinitialisation du modèle pour itérer manuellement\n",
    "lrc = LogisticRegression(solver='liblinear', penalty='l1', max_iter=1, warm_start=True, random_state=2)\n",
    "\n",
    "# Stockage des métriques\n",
    "history = {'loss': [], 'val_loss': [], 'accuracy': [], 'val_accuracy': []}\n",
    "\n",
    "for epoch in range(10):  # 100 itérations = \"epochs\"\n",
    "    lrc.fit(X_train, y_train)\n",
    "    \n",
    "    # Enregistrement de la loss (log-loss)\n",
    "    history['loss'].append(log_loss(y_train, lrc.predict_proba(X_train)))\n",
    "    history['val_loss'].append(log_loss(y_test, lrc.predict_proba(X_test)))\n",
    "    \n",
    "    # Enregistrement de l'accuracy\n",
    "    history['accuracy'].append(accuracy_score(y_train, lrc.predict(X_train)))\n",
    "    history['val_accuracy'].append(accuracy_score(y_test, lrc.predict(X_test)))\n",
    "\n",
    "# Affichage des courbes (comme dans Keras)\n",
    "plt.figure(figsize=(12, 5))\n",
    "\n",
    "# Courbe de Loss\n",
    "plt.subplot(1, 2, 1)\n",
    "plt.plot(history['loss'], label='Train Loss')\n",
    "plt.plot(history['val_loss'], label='Validation Loss')\n",
    "plt.title('Loss over iterations')\n",
    "plt.xlabel('Iterations')\n",
    "plt.ylabel('Loss')\n",
    "plt.legend()\n",
    "\n",
    "# Courbe d'Accuracy\n",
    "plt.subplot(1, 2, 2)\n",
    "plt.plot(history['accuracy'], label='Train Accuracy')\n",
    "plt.plot(history['val_accuracy'], label='Validation Accuracy')\n",
    "plt.title('Accuracy over iterations')\n",
    "plt.xlabel('Iterations')\n",
    "plt.ylabel('Accuracy')\n",
    "plt.legend()\n",
    "\n",
    "plt.tight_layout()\n",
    "plt.show()"
   ]
  },
  {
   "cell_type": "code",
   "execution_count": 23,
   "id": "dab03f6d-aa5a-4ddf-83df-e6b507e90892",
   "metadata": {},
   "outputs": [],
   "source": [
    "# Fonction pour prédire si un texte est sqli ou non\n",
    "def predict_message(message):\n",
    "       # Preprocess the message\n",
    "      # Ensure you define this function for text preprocessing\n",
    "    message_vectorized = tfidf.transform([message]) # Convert to dense array\n",
    "    prediction = lrc.predict(message_vectorized)  # Make the prediction\n",
    "    probas = lrc.predict_proba(message_vectorized)  # Get the probabilities\n",
    "    label = \"sql injection\" if prediction[0] == 1 else \"not sql injection\"  # Assign label based on prediction\n",
    "    return label, probas[0]\n",
    "\n"
   ]
  },
  {
   "cell_type": "code",
   "execution_count": 24,
   "id": "ea1986ec-7f1d-48df-9bae-d6fe82e00d71",
   "metadata": {},
   "outputs": [
    {
     "name": "stdout",
     "output_type": "stream",
     "text": [
      "                                                 payload  label\n",
      "7909                                 1 where 8889 = 8889    1.0\n",
      "102                                          admin' or '    1.0\n",
      "7608   1'  )  )   as cpwx where 5378 = 5378 rlike  ( ...    1.0\n",
      "4256   1  )  )   procedure analyse ( extractvalue ( 9...    1.0\n",
      "5475   1'+ ( select 'jtvq' where 8288 = 8288 and  ( s...    1.0\n",
      "...                                                  ...    ...\n",
      "6426      -5780 or make_set ( 3464 = 4518,4518 ) -- icit    1.0\n",
      "4041   1%'  )  )   )  or exp ( ~ ( select * from  ( s...    1.0\n",
      "9727   1'  )  )   )  and elt ( 2506 = 2383,2383 )  an...    1.0\n",
      "11375  1\"  )  )   )  or char ( 119 ) ||char ( 100 ) |...    1.0\n",
      "6543   select case when 7649 = 9297 then 1 else null ...    1.0\n",
      "\n",
      "[1000 rows x 2 columns]\n"
     ]
    }
   ],
   "source": [
    "\n",
    "import os\n",
    "\n",
    "\n",
    "# Définition du chemin relatif du fichier CSV\n",
    "dataset_path = \"sqliv2.csv\"\n",
    "\n",
    "# Vérification de l'existence du fichier\n",
    "if os.path.exists(dataset_path):\n",
    "    try:\n",
    "        # Détection de l'encodage du fichier\n",
    "        with open(dataset_path, 'rb') as f:\n",
    "            result = chardet.detect(f.read())\n",
    "\n",
    "        # Lecture du fichier CSV avec l'encodage détecté\n",
    "        df_original = pd.read_csv(dataset_path, sep=',', encoding=result['encoding'], header=None, names=[\"payload\", \"label\"], on_bad_lines='skip')\n",
    "        \n",
    "        # Vérification et conversion de la colonne label en numérique\n",
    "        df_original['label'] = pd.to_numeric(df_original['label'], errors='coerce')\n",
    "        \n",
    "        # Suppression des lignes avec des valeurs NaN dans label\n",
    "        df_original = df_original.dropna(subset=['label'])\n",
    "        \n",
    "        # Filtrer les lignes où label == 1\n",
    "        df_filtered = df_original[df_original['label'] == 1]\n",
    "        \n",
    "        # Vérifier si df_filtered n'est pas vide avant l'échantillonnage\n",
    "        if not df_filtered.empty:\n",
    "            # Sélection aléatoire de 1000 lignes si possible\n",
    "            df2 = df_filtered.sample(n=min(1000, len(df_filtered)), random_state=42)\n",
    "            print(df2)\n",
    "        else:\n",
    "            print(\"Aucune donnée avec label = 1 trouvée dans le fichier.\")\n",
    "    except UnicodeDecodeError:\n",
    "        print(\"Erreur d'encodage lors de la lecture du fichier. Essayez un autre encodage comme 'latin1' ou 'utf-16'.\")\n",
    "else:\n",
    "    print(f\"Le fichier {dataset_path} n'existe pas.\")"
   ]
  },
  {
   "cell_type": "code",
   "execution_count": 27,
   "id": "4fe0a894-00db-4335-b469-d86dc74444a6",
   "metadata": {},
   "outputs": [
    {
     "name": "stdout",
     "output_type": "stream",
     "text": [
      "Nombre de SQL Injections détectées : 957\n"
     ]
    }
   ],
   "source": [
    "\n",
    "\n",
    "# Supprimer les lignes contenant des valeurs NaN dans la colonne 'payload'\n",
    "df2 = df2.dropna(subset=['payload'])\n",
    "\n",
    "# Application de la fonction de prédiction sur df2\n",
    "df2[['prediction', 'probability']] = df2['payload'].apply(lambda x: pd.Series(predict_message(x)))\n",
    "\n",
    "# Compter les SQL injections détectées\n",
    "sql_injection_count = (df2['prediction'] == \"sql injection\").sum()\n",
    "print(f\"Nombre de SQL Injections détectées : {sql_injection_count}\")"
   ]
  },
  {
   "cell_type": "code",
   "execution_count": 28,
   "id": "f303d6e3-c8cf-4af8-900e-b9a4c31c17c8",
   "metadata": {},
   "outputs": [
    {
     "name": "stdout",
     "output_type": "stream",
     "text": [
      "                                                 payload  label\n",
      "21297                                           marbella    0.0\n",
      "30871                                              03520    0.0\n",
      "17788                                               4364    0.0\n",
      "21021                                       enjabonadura    0.0\n",
      "26714                                            pt*rido    0.0\n",
      "...                                                  ...    ...\n",
      "23306                                        ab6ga*d45co    0.0\n",
      "25771                                          l680jis45    0.0\n",
      "24610                                         eliana, l'    0.0\n",
      "19112                          wickens@cpanelhost.com.ht    0.0\n",
      "3793    The meeting point one half hour tour Nuclear ...    0.0\n",
      "\n",
      "[1000 rows x 2 columns]\n"
     ]
    }
   ],
   "source": [
    "\n",
    "import os\n",
    "\n",
    "\n",
    "# Définition du chemin relatif du fichier CSV\n",
    "dataset_path = \"sqliv2.csv\"\n",
    "\n",
    "# Vérification de l'existence du fichier\n",
    "if os.path.exists(dataset_path):\n",
    "    try:\n",
    "        # Détection de l'encodage du fichier\n",
    "        with open(dataset_path, 'rb') as f:\n",
    "            result = chardet.detect(f.read())\n",
    "\n",
    "        # Lecture du fichier CSV avec l'encodage détecté\n",
    "        df_original1 = pd.read_csv(dataset_path, sep=',', encoding=result['encoding'], header=None, names=[\"payload\", \"label\"], on_bad_lines='skip')\n",
    "        \n",
    "        # Vérification et conversion de la colonne label en numérique\n",
    "        df_original1['label'] = pd.to_numeric(df_original['label'], errors='coerce')\n",
    "        \n",
    "        # Suppression des lignes avec des valeurs NaN dans label\n",
    "        df_original1 = df_original1.dropna(subset=['label'])\n",
    "        \n",
    "        # Filtrer les lignes où label == 1\n",
    "        df_filtered1 = df_original1[df_original1['label'] == 0]\n",
    "        \n",
    "        # Vérifier si df_filtered n'est pas vide avant l'échantillonnage\n",
    "        if not df_filtered1.empty:\n",
    "            # Sélection aléatoire de 1000 lignes si possible\n",
    "            df3 = df_filtered1.sample(n=min(1000, len(df_filtered1)), random_state=42)\n",
    "            print(df3)\n",
    "        else:\n",
    "            print(\"Aucune donnée avec label = 1 trouvée dans le fichier.\")\n",
    "    except UnicodeDecodeError:\n",
    "        print(\"Erreur d'encodage lors de la lecture du fichier. Essayez un autre encodage comme 'latin1' ou 'utf-16'.\")\n",
    "else:\n",
    "    print(f\"Le fichier {dataset_path} n'existe pas.\")"
   ]
  },
  {
   "cell_type": "code",
   "execution_count": 29,
   "id": "884c95c5-b9e0-4ba7-95ef-7cb87699f9a7",
   "metadata": {},
   "outputs": [
    {
     "name": "stdout",
     "output_type": "stream",
     "text": [
      "Nombre de non SQL Injections détectées : 992\n"
     ]
    }
   ],
   "source": [
    "\n",
    "\n",
    "# Supprimer les lignes contenant des valeurs NaN dans la colonne 'payload'\n",
    "df3 = df3.dropna(subset=['payload'])\n",
    "\n",
    "# Application de la fonction de prédiction sur df2\n",
    "df3[['prediction', 'probability']] = df3['payload'].apply(lambda x: pd.Series(predict_message(x)))\n",
    "\n",
    "# Compter les SQL injections détectées\n",
    "non_sql_injection_count = (df3['prediction'] == \"not sql injection\").sum()\n",
    "print(f\"Nombre de non SQL Injections détectées : {non_sql_injection_count}\")"
   ]
  },
  {
   "cell_type": "code",
   "execution_count": 31,
   "id": "68a812f3-a9c7-4434-bf56-6fd9cb35f4dd",
   "metadata": {},
   "outputs": [
    {
     "name": "stdout",
     "output_type": "stream",
     "text": [
      "Nombre de lignes avec label = 1 après suppression des doublons : 11424\n",
      "Nombre de SQL Injections détectées correctement : 10894 / 11424\n",
      "Accuracy : 95.36%\n",
      "Precision : 100.00%\n",
      "Recall : 95.36%\n",
      "F1 Score : 97.63%\n"
     ]
    }
   ],
   "source": [
    "import os\n",
    "import pandas as pd\n",
    "import chardet\n",
    "from sklearn.metrics import accuracy_score, precision_score, recall_score, f1_score\n",
    "\n",
    "# Définition du chemin du fichier CSV\n",
    "dataset_path = \"sqliv2.csv\"\n",
    "\n",
    "# Vérification de l'existence du fichier\n",
    "if os.path.exists(dataset_path):\n",
    "    try:\n",
    "        # Détection de l'encodage du fichier\n",
    "        with open(dataset_path, 'rb') as f:\n",
    "            result = chardet.detect(f.read())\n",
    "\n",
    "        # Lecture du fichier CSV\n",
    "        df = pd.read_csv(dataset_path, sep=',', encoding=result['encoding'],\n",
    "                         header=None, names=[\"payload\", \"label\"], on_bad_lines='skip')\n",
    "\n",
    "        # Nettoyage des données\n",
    "        df['label'] = pd.to_numeric(df['label'], errors='coerce')\n",
    "        df = df.dropna(subset=['label', 'payload'])\n",
    "\n",
    "        # Filtrer uniquement les lignes avec label == 1\n",
    "        df_label1 = df[df['label'] == 1]\n",
    "\n",
    "        # Supprimer les doublons (garder le premier)\n",
    "        df_label1 = df_label1.drop_duplicates(subset='payload', keep='first')\n",
    "\n",
    "        print(f\"Nombre de lignes avec label = 1 après suppression des doublons : {len(df_label1)}\")\n",
    "\n",
    "        # Appliquer la prédiction\n",
    "        df_label1[['prediction', 'probability']] = df_label1['payload'].apply(lambda x: pd.Series(predict_message(x)))\n",
    "\n",
    "        # Convertir la prédiction en labels binaires pour métriques\n",
    "        # 1 si prédiction est 'sql injection', sinon 0\n",
    "        y_true = [1] * len(df_label1)  # Car tous sont label=1\n",
    "        y_pred = [1 if pred == \"sql injection\" else 0 for pred in df_label1['prediction']]\n",
    "\n",
    "        # Calcul des métriques\n",
    "        accuracy = accuracy_score(y_true, y_pred)\n",
    "        precision = precision_score(y_true, y_pred, zero_division=0)\n",
    "        recall = recall_score(y_true, y_pred, zero_division=0)\n",
    "        f1 = f1_score(y_true, y_pred, zero_division=0)\n",
    "\n",
    "        # Affichage des résultats\n",
    "        print(f\"Nombre de SQL Injections détectées correctement : {(df_label1['prediction'] == 'sql injection').sum()} / {len(df_label1)}\")\n",
    "        print(f\"Accuracy : {accuracy*100:.2f}%\")\n",
    "        print(f\"Precision : {precision*100:.2f}%\")\n",
    "        print(f\"Recall : {recall*100:.2f}%\")\n",
    "        print(f\"F1 Score : {f1*100:.2f}%\")\n",
    "\n",
    "    except UnicodeDecodeError:\n",
    "        print(\"Erreur d'encodage. Essayez 'latin1' ou 'utf-8-sig'.\")\n",
    "else:\n",
    "    print(f\"Le fichier {dataset_path} n'existe pas.\")\n"
   ]
  },
  {
   "cell_type": "code",
   "execution_count": 36,
   "id": "ee534425-29f8-4524-a116-45ebb0e129ca",
   "metadata": {},
   "outputs": [
    {
     "name": "stdout",
     "output_type": "stream",
     "text": [
      "Nombre de lignes avec label = 0 après suppression des doublons : 22303\n",
      "Nombre de payloads normaux correctement détectés : 22197 / 22303\n",
      "Accuracy : 99.52%\n",
      "Precision (pour label=0 comme positif) : 100.00%\n",
      "Recall (pour label=0 comme positif) : 99.52%\n",
      "F1 Score (pour label=0 comme positif) : 99.76%\n"
     ]
    }
   ],
   "source": [
    "import os\n",
    "import pandas as pd\n",
    "import chardet\n",
    "from sklearn.metrics import accuracy_score, precision_score, recall_score, f1_score\n",
    "\n",
    "# Définition du chemin du fichier CSV\n",
    "dataset_path = \"sqliv2.csv\"\n",
    "\n",
    "# Vérification de l'existence du fichier\n",
    "if os.path.exists(dataset_path):\n",
    "    try:\n",
    "        # Détection de l'encodage du fichier\n",
    "        with open(dataset_path, 'rb') as f:\n",
    "            result = chardet.detect(f.read())\n",
    "\n",
    "        # Lecture du fichier CSV\n",
    "        df = pd.read_csv(dataset_path, sep=',', encoding=result['encoding'],\n",
    "                         header=None, names=[\"payload\", \"label\"], on_bad_lines='skip')\n",
    "\n",
    "        # Nettoyage des données\n",
    "        df['label'] = pd.to_numeric(df['label'], errors='coerce')\n",
    "        df = df.dropna(subset=['label', 'payload'])\n",
    "\n",
    "        # Filtrer uniquement les lignes avec label == 0\n",
    "        df_label0 = df[df['label'] == 0]\n",
    "\n",
    "        # Supprimer les doublons (garder le premier)\n",
    "        df_label0 = df_label0.drop_duplicates(subset='payload', keep='first')\n",
    "\n",
    "        print(f\"Nombre de lignes avec label = 0 après suppression des doublons : {len(df_label0)}\")\n",
    "\n",
    "        # Appliquer la prédiction\n",
    "        df_label0[['prediction', 'probability']] = df_label0['payload'].apply(lambda x: pd.Series(predict_message(x)))\n",
    "\n",
    "        # Convertir la prédiction en labels binaires pour métriques\n",
    "        # 0 si 'not sql injection', 1 si 'sql injection'\n",
    "        y_true = [0] * len(df_label0)  # Car tous sont label=0 (payloads normaux)\n",
    "        y_pred = [1 if pred == \"sql injection\" else 0 for pred in df_label0['prediction']]\n",
    "\n",
    "        # Calcul des métriques\n",
    "        accuracy = accuracy_score(y_true, y_pred)\n",
    "        precision = precision_score(y_true, y_pred, zero_division=0, pos_label=0)\n",
    "        recall = recall_score(y_true, y_pred, zero_division=0, pos_label=0)\n",
    "        f1 = f1_score(y_true, y_pred, zero_division=0, pos_label=0)\n",
    "\n",
    "        # Affichage des résultats\n",
    "        print(f\"Nombre de payloads normaux correctement détectés : {(df_label0['prediction'] == 'not sql injection').sum()} / {len(df_label0)}\")\n",
    "        print(f\"Accuracy : {accuracy*100:.2f}%\")\n",
    "        print(f\"Precision (pour label=0 comme positif) : {precision*100:.2f}%\")\n",
    "        print(f\"Recall (pour label=0 comme positif) : {recall*100:.2f}%\")\n",
    "        print(f\"F1 Score (pour label=0 comme positif) : {f1*100:.2f}%\")\n",
    "\n",
    "    except UnicodeDecodeError:\n",
    "        print(\"Erreur d'encodage. Essayez 'latin1' ou 'utf-8-sig'.\")\n",
    "else:\n",
    "    print(f\"Le fichier {dataset_path} n'existe pas.\")\n"
   ]
  },
  {
   "cell_type": "code",
   "execution_count": 34,
   "id": "f305c458-cb36-4ac0-9b87-2f2cb3811ee3",
   "metadata": {},
   "outputs": [
    {
     "name": "stdout",
     "output_type": "stream",
     "text": [
      "Nombre total de lignes après nettoyage : 33725\n",
      "Accuracy : 98.11%\n",
      "Precision : 99.04%\n",
      "Recall : 95.36%\n",
      "F1 Score : 97.16%\n"
     ]
    }
   ],
   "source": [
    "import os\n",
    "import pandas as pd\n",
    "import chardet\n",
    "from sklearn.metrics import accuracy_score, precision_score, recall_score, f1_score\n",
    "\n",
    "# Définition du chemin du fichier CSV\n",
    "dataset_path = \"sqliv2.csv\"\n",
    "\n",
    "if os.path.exists(dataset_path):\n",
    "    try:\n",
    "        # Détection de l'encodage\n",
    "        with open(dataset_path, 'rb') as f:\n",
    "            result = chardet.detect(f.read())\n",
    "\n",
    "        # Lecture du fichier\n",
    "        df = pd.read_csv(dataset_path, sep=',', encoding=result['encoding'],\n",
    "                         header=None, names=[\"payload\", \"label\"], on_bad_lines='skip')\n",
    "\n",
    "        # Nettoyage\n",
    "        df['label'] = pd.to_numeric(df['label'], errors='coerce')\n",
    "        df = df.dropna(subset=['label', 'payload'])\n",
    "\n",
    "        # Supprimer les doublons\n",
    "        df = df.drop_duplicates(subset='payload', keep='first')\n",
    "\n",
    "        print(f\"Nombre total de lignes après nettoyage : {len(df)}\")\n",
    "\n",
    "        # Appliquer la prédiction sur TOUT\n",
    "        df[['prediction', 'probability']] = df['payload'].apply(lambda x: pd.Series(predict_message(x)))\n",
    "\n",
    "        # Créer y_true et y_pred\n",
    "        y_true = df['label'].astype(int).tolist()\n",
    "        y_pred = [1 if pred == \"sql injection\" else 0 for pred in df['prediction']]\n",
    "\n",
    "        # Calcul des métriques\n",
    "        accuracy = accuracy_score(y_true, y_pred)\n",
    "        precision = precision_score(y_true, y_pred, zero_division=0)\n",
    "        recall = recall_score(y_true, y_pred, zero_division=0)\n",
    "        f1 = f1_score(y_true, y_pred, zero_division=0)\n",
    "\n",
    "        # Affichage\n",
    "        print(f\"Accuracy : {accuracy*100:.2f}%\")\n",
    "        print(f\"Precision : {precision*100:.2f}%\")\n",
    "        print(f\"Recall : {recall*100:.2f}%\")\n",
    "        print(f\"F1 Score : {f1*100:.2f}%\")\n",
    "\n",
    "    except UnicodeDecodeError:\n",
    "        print(\"Erreur d'encodage. Essayez 'latin1' ou 'utf-8-sig'.\")\n",
    "else:\n",
    "    print(f\"Le fichier {dataset_path} n'existe pas.\")\n"
   ]
  },
  {
   "cell_type": "code",
   "execution_count": null,
   "id": "f9011653-99a4-4649-ad65-a47b9c1d447f",
   "metadata": {},
   "outputs": [],
   "source": []
  }
 ],
 "metadata": {
  "kernelspec": {
   "display_name": "Python 3 (ipykernel)",
   "language": "python",
   "name": "python3"
  },
  "language_info": {
   "codemirror_mode": {
    "name": "ipython",
    "version": 3
   },
   "file_extension": ".py",
   "mimetype": "text/x-python",
   "name": "python",
   "nbconvert_exporter": "python",
   "pygments_lexer": "ipython3",
   "version": "3.9.18"
  }
 },
 "nbformat": 4,
 "nbformat_minor": 5
}
