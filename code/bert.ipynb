{
 "cells": [
  {
   "cell_type": "code",
   "execution_count": 1,
   "id": "93473f99",
   "metadata": {},
   "outputs": [
    {
     "name": "stderr",
     "output_type": "stream",
     "text": [
      "c:\\Users\\Public\\anaconda3\\envs\\ktrain_envvv22\\lib\\site-packages\\tqdm\\auto.py:21: TqdmWarning: IProgress not found. Please update jupyter and ipywidgets. See https://ipywidgets.readthedocs.io/en/stable/user_install.html\n",
      "  from .autonotebook import tqdm as notebook_tqdm\n"
     ]
    }
   ],
   "source": [
    "import numpy as np\n",
    "import ktrain\n",
    "from ktrain import text\n",
    "import pandas as pd\n",
    "import chardet\n",
    "import matplotlib.pyplot as plt\n",
    "import matplotlib\n",
    "from sklearn.model_selection import train_test_split\n",
    "import seaborn as sns\n",
    "import pickle"
   ]
  },
  {
   "cell_type": "code",
   "execution_count": 2,
   "id": "f2bf57b8",
   "metadata": {},
   "outputs": [
    {
     "name": "stdout",
     "output_type": "stream",
     "text": [
      "                                                Sentence  Label\n",
      "0                      \" or pg_sleep  (  __TIME__  )  --      1\n",
      "1      create user name identified by pass123 tempora...      1\n",
      "2       AND 1  =  utl_inaddr.get_host_address   (    ...      1\n",
      "3       select * from users where id  =  '1' or @ @1 ...      1\n",
      "4       select * from users where id  =  1 or 1#\"  ( ...      1\n",
      "...                                                  ...    ...\n",
      "30609              DELETE FROM door WHERE grow = 'small'      0\n",
      "30610                               DELETE FROM tomorrow      0\n",
      "30611                       SELECT wide ( s )  FROM west      0\n",
      "30612       SELECT * FROM  ( SELECT slide FROM breath )       0\n",
      "30613                           SELECT TOP 3 * FROM race      0\n",
      "\n",
      "[30614 rows x 2 columns]\n"
     ]
    }
   ],
   "source": [
    "df = pd.read_csv(\"SQLIV3_cleaned2.csv\")\n",
    "print(df)"
   ]
  },
  {
   "cell_type": "code",
   "execution_count": 3,
   "id": "b30e0f14",
   "metadata": {},
   "outputs": [
    {
     "data": {
      "text/plain": [
       "(30614, 2)"
      ]
     },
     "execution_count": 3,
     "metadata": {},
     "output_type": "execute_result"
    }
   ],
   "source": [
    "df.shape"
   ]
  },
  {
   "cell_type": "code",
   "execution_count": 4,
   "id": "148ee4d0",
   "metadata": {},
   "outputs": [
    {
     "name": "stdout",
     "output_type": "stream",
     "text": [
      "----------------------------------------------------\n",
      "<class 'pandas.core.frame.DataFrame'>\n",
      "RangeIndex: 30614 entries, 0 to 30613\n",
      "Data columns (total 2 columns):\n",
      " #   Column    Non-Null Count  Dtype \n",
      "---  ------    --------------  ----- \n",
      " 0   Sentence  30614 non-null  object\n",
      " 1   Label     30614 non-null  int64 \n",
      "dtypes: int64(1), object(1)\n",
      "memory usage: 478.5+ KB\n",
      "----------------------------------------------------\n"
     ]
    }
   ],
   "source": [
    "print(\"----------------------------------------------------\")\n",
    "df.info()\n",
    "print(\"----------------------------------------------------\")"
   ]
  },
  {
   "cell_type": "code",
   "execution_count": 5,
   "id": "609f67a7",
   "metadata": {},
   "outputs": [
    {
     "data": {
      "text/plain": [
       "count    30614.000000\n",
       "mean         0.370615\n",
       "std          0.482977\n",
       "min          0.000000\n",
       "25%          0.000000\n",
       "50%          0.000000\n",
       "75%          1.000000\n",
       "max          1.000000\n",
       "Name: Label, dtype: float64"
      ]
     },
     "execution_count": 5,
     "metadata": {},
     "output_type": "execute_result"
    }
   ],
   "source": [
    "df['Label'].describe()\n"
   ]
  },
  {
   "cell_type": "code",
   "execution_count": 6,
   "id": "ea56261b",
   "metadata": {},
   "outputs": [
    {
     "data": {
      "text/plain": [
       "0"
      ]
     },
     "execution_count": 6,
     "metadata": {},
     "output_type": "execute_result"
    }
   ],
   "source": [
    "df['Label'].isna().sum() # Count NaN label values.\n"
   ]
  },
  {
   "cell_type": "code",
   "execution_count": 7,
   "id": "c1615f9c",
   "metadata": {},
   "outputs": [
    {
     "data": {
      "text/plain": [
       "count    30614.000000\n",
       "mean         0.370615\n",
       "std          0.482977\n",
       "min          0.000000\n",
       "25%          0.000000\n",
       "50%          0.000000\n",
       "75%          1.000000\n",
       "max          1.000000\n",
       "Name: Label, dtype: float64"
      ]
     },
     "execution_count": 7,
     "metadata": {},
     "output_type": "execute_result"
    }
   ],
   "source": [
    "df['Label'].describe()\n"
   ]
  },
  {
   "cell_type": "code",
   "execution_count": 8,
   "id": "69a8ff89",
   "metadata": {},
   "outputs": [
    {
     "name": "stdout",
     "output_type": "stream",
     "text": [
      "[1 0]\n"
     ]
    }
   ],
   "source": [
    "# Get unique values existing in the label column.\n",
    "\n",
    "unique_label = pd.unique(df['Label'])\n",
    "\n",
    "print(unique_label)"
   ]
  },
  {
   "cell_type": "code",
   "execution_count": 9,
   "id": "5f8dc219",
   "metadata": {},
   "outputs": [
    {
     "data": {
      "text/plain": [
       "Sentence    11346\n",
       "Label       11346\n",
       "dtype: int64"
      ]
     },
     "execution_count": 9,
     "metadata": {},
     "output_type": "execute_result"
    }
   ],
   "source": [
    "df[df['Label'] == 1].count() # Count how much label are 1.\n"
   ]
  },
  {
   "cell_type": "code",
   "execution_count": 10,
   "id": "9e054b40",
   "metadata": {},
   "outputs": [
    {
     "data": {
      "text/plain": [
       "Sentence    19268\n",
       "Label       19268\n",
       "dtype: int64"
      ]
     },
     "execution_count": 10,
     "metadata": {},
     "output_type": "execute_result"
    }
   ],
   "source": [
    "df[df['Label'] == 0].count() # Count how much label are 0.\n"
   ]
  },
  {
   "cell_type": "code",
   "execution_count": 11,
   "id": "ee4b477b",
   "metadata": {},
   "outputs": [
    {
     "data": {
      "image/png": "[encoded data removed]",
      "text/plain": [
       "<Figure size 1200x800 with 2 Axes>"
      ]
     },
     "metadata": {},
     "output_type": "display_data"
    }
   ],
   "source": [
    "import matplotlib.colors as mcolors\n",
    "f, ax = plt.subplots(1, 2, figsize=(12, 8))\n",
    "colors = list(mcolors.TABLEAU_COLORS.values())\n",
    "df['Label'].value_counts().plot.pie(explode=[0, 0.1], autopct='%1.1f%%', ax=ax[0], wedgeprops={'edgecolor': 'white', 'linewidth': 2, 'antialiased': True}, colors=colors)\n",
    "\n",
    "ax[0].set_title('Label')\n",
    "ax[0].set_ylabel('')\n",
    "sns.countplot(x='Label', data=df, ax=ax[1], palette=colors)\n",
    "ax[1].set_title('Label')\n",
    "plt.show()"
   ]
  },
  {
   "cell_type": "code",
   "execution_count": 12,
   "id": "f3a04fee",
   "metadata": {},
   "outputs": [
    {
     "name": "stdout",
     "output_type": "stream",
     "text": [
      "preprocessing train...\n",
      "language: en\n"
     ]
    },
    {
     "data": {
      "text/html": [
       "\n",
       "<style>\n",
       "    /* Turns off some styling */\n",
       "    progress {\n",
       "        /* gets rid of default border in Firefox and Opera. */\n",
       "        border: none;\n",
       "        /* Needs to be in here for Safari polyfill so background images work as expected. */\n",
       "        background-size: auto;\n",
       "    }\n",
       "    progress:not([value]), progress:not([value])::-webkit-progress-bar {\n",
       "        background: repeating-linear-gradient(45deg, #7e7e7e, #7e7e7e 10px, #5c5c5c 10px, #5c5c5c 20px);\n",
       "    }\n",
       "    .progress-bar-interrupted, .progress-bar-interrupted::-webkit-progress-bar {\n",
       "        background: #F44336;\n",
       "    }\n",
       "</style>\n"
      ],
      "text/plain": [
       "<IPython.core.display.HTML object>"
      ]
     },
     "metadata": {},
     "output_type": "display_data"
    },
    {
     "data": {
      "text/html": [
       "done."
      ],
      "text/plain": [
       "<IPython.core.display.HTML object>"
      ]
     },
     "metadata": {},
     "output_type": "display_data"
    },
    {
     "name": "stdout",
     "output_type": "stream",
     "text": [
      "Is Multi-Label? False\n",
      "preprocessing test...\n",
      "language: en\n"
     ]
    },
    {
     "data": {
      "text/html": [
       "\n",
       "<style>\n",
       "    /* Turns off some styling */\n",
       "    progress {\n",
       "        /* gets rid of default border in Firefox and Opera. */\n",
       "        border: none;\n",
       "        /* Needs to be in here for Safari polyfill so background images work as expected. */\n",
       "        background-size: auto;\n",
       "    }\n",
       "    progress:not([value]), progress:not([value])::-webkit-progress-bar {\n",
       "        background: repeating-linear-gradient(45deg, #7e7e7e, #7e7e7e 10px, #5c5c5c 10px, #5c5c5c 20px);\n",
       "    }\n",
       "    .progress-bar-interrupted, .progress-bar-interrupted::-webkit-progress-bar {\n",
       "        background: #F44336;\n",
       "    }\n",
       "</style>\n"
      ],
      "text/plain": [
       "<IPython.core.display.HTML object>"
      ]
     },
     "metadata": {},
     "output_type": "display_data"
    },
    {
     "data": {
      "text/html": [
       "done."
      ],
      "text/plain": [
       "<IPython.core.display.HTML object>"
      ]
     },
     "metadata": {},
     "output_type": "display_data"
    },
    {
     "name": "stdout",
     "output_type": "stream",
     "text": [
      "task: text classification\n"
     ]
    }
   ],
   "source": [
    "sentences = df['Sentence'].tolist()\n",
    "labels = df['Label'].tolist()\n",
    "(x_train, y_train), (x_test, y_test), preproc = text.texts_from_array(sentences, labels,\n",
    "                                                                       preprocess_mode='bert',\n",
    "                                                                       maxlen=100,\n",
    "                                                                      val_pct=0.2,\n",
    "                                                                      class_names=list(set(labels))\n",
    "                                                                      )"
   ]
  }
 ],
 "metadata": {
  "kernelspec": {
   "display_name": "ktrain_envvv22",
   "language": "python",
   "name": "python3"
  },
  "language_info": {
   "codemirror_mode": {
    "name": "ipython",
    "version": 3
   },
   "file_extension": ".py",
   "mimetype": "text/x-python",
   "name": "python",
   "nbconvert_exporter": "python",
   "pygments_lexer": "ipython3",
   "version": "3.7.12"
  }
 },
 "nbformat": 4,
 "nbformat_minor": 5
}
