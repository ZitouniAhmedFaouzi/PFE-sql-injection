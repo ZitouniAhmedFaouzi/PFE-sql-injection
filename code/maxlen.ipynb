{
 "cells": [
  {
   "cell_type": "code",
   "execution_count": 11,
   "id": "bbd379bc",
   "metadata": {},
   "outputs": [],
   "source": [
    "import numpy as np\n",
    "import pandas as pd\n",
    "import chardet"
   ]
  },
  {
   "cell_type": "code",
   "execution_count": 12,
   "id": "eca55027",
   "metadata": {},
   "outputs": [],
   "source": [
    "\n",
    "with open('SQLiV3_cleaned2.csv', 'rb') as f:\n",
    "\n",
    "    result = chardet.detect(f.read())\n",
    "\n",
    "df = pd.read_csv('SQLiV3_cleaned2.csv', sep=',', encoding=result['encoding'])"
   ]
  },
  {
   "cell_type": "code",
   "execution_count": 13,
   "id": "aee2180f",
   "metadata": {},
   "outputs": [],
   "source": [
    "sentences = df['Sentence'].tolist()\n"
   ]
  },
  {
   "cell_type": "code",
   "execution_count": 14,
   "id": "6ed5349f",
   "metadata": {},
   "outputs": [
    {
     "name": "stdout",
     "output_type": "stream",
     "text": [
      "2800 1\n"
     ]
    }
   ],
   "source": [
    "from transformers import BertTokenizer\n",
    "tokenizer = BertTokenizer.from_pretrained('bert-base-uncased')\n",
    "\n",
    "token_lengths = [len(tokenizer.tokenize(text)) for text in sentences]\n",
    "print(max(token_lengths), sum(l > 220 for l in token_lengths))\n"
   ]
  }
 ],
 "metadata": {
  "kernelspec": {
   "display_name": "ktrain_envvv22",
   "language": "python",
   "name": "python3"
  },
  "language_info": {
   "codemirror_mode": {
    "name": "ipython",
    "version": 3
   },
   "file_extension": ".py",
   "mimetype": "text/x-python",
   "name": "python",
   "nbconvert_exporter": "python",
   "pygments_lexer": "ipython3",
   "version": "3.7.12"
  }
 },
 "nbformat": 4,
 "nbformat_minor": 5
}
