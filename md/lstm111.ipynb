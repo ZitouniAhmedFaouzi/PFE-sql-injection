{
  "cells": [
    {
      "cell_type": "markdown",
      "id": "e31abb6e",
      "metadata": {
        "id": "e31abb6e"
      },
      "source": [
        "#### Importing the libraries"
      ]
    },
    {
      "cell_type": "code",
      "execution_count": 222,
      "id": "341d7f68-8c98-4351-9d89-6b894dc567b6",
      "metadata": {
        "id": "341d7f68-8c98-4351-9d89-6b894dc567b6"
      },
      "outputs": [],
      "source": [
        "import pandas as pd\n",
        "import numpy as np\n",
        "import re\n",
        "from keras.models import Sequential\n",
        "from keras.layers import LSTM, Dense, Dropout, Embedding\n",
        "from keras import optimizers\n",
        "from sklearn.model_selection import train_test_split\n",
        "from tensorflow.keras.preprocessing.text import Tokenizer\n",
        "from tensorflow.keras.preprocessing.sequence import pad_sequences\n",
        "from keras.callbacks import EarlyStopping, ReduceLROnPlateau"
      ]
    },
    {
      "cell_type": "markdown",
      "id": "6156e841",
      "metadata": {
        "id": "6156e841"
      },
      "source": [
        "#### loading and displaying the datasets"
      ]
    },
    {
      "cell_type": "code",
      "execution_count": 223,
      "id": "08768d3a-27c6-4b67-b91e-45a9a6e55ea1",
      "metadata": {
        "colab": {
          "base_uri": "https://localhost:8080/"
        },
        "id": "08768d3a-27c6-4b67-b91e-45a9a6e55ea1",
        "outputId": "bafba53f-2843-477e-9ba5-5b6480fbf7fa"
      },
      "outputs": [
        {
          "output_type": "stream",
          "name": "stdout",
          "text": [
            "                                                Sentence  Label\n",
            "0                      \" or pg_sleep  (  __TIME__  )  --      1\n",
            "1      create user name identified by pass123 tempora...      1\n",
            "2       AND 1  =  utl_inaddr.get_host_address   (    ...      1\n",
            "3       select * from users where id  =  '1' or @ @1 ...      1\n",
            "4       select * from users where id  =  1 or 1#\"  ( ...      1\n",
            "...                                                  ...    ...\n",
            "30609              DELETE FROM door WHERE grow = 'small'      0\n",
            "30610                               DELETE FROM tomorrow      0\n",
            "30611                       SELECT wide ( s )  FROM west      0\n",
            "30612       SELECT * FROM  ( SELECT slide FROM breath )       0\n",
            "30613                           SELECT TOP 3 * FROM race      0\n",
            "\n",
            "[30614 rows x 2 columns]\n"
          ]
        }
      ],
      "source": [
        "\n",
        "train_data = pd.read_csv('/content/SQLIV3_cleaned2.csv')\n",
        "test_data = pd.read_csv('/content/sqliv2_utf8.csv')\n",
        "print(train_data)"
      ]
    },
    {
      "cell_type": "code",
      "execution_count": 224,
      "id": "6c93df19-dcf0-4d39-92a6-99a42005c248",
      "metadata": {
        "colab": {
          "base_uri": "https://localhost:8080/"
        },
        "id": "6c93df19-dcf0-4d39-92a6-99a42005c248",
        "outputId": "4e46c434-ead6-4708-84d2-ea334422ddc5"
      },
      "outputs": [
        {
          "output_type": "execute_result",
          "data": {
            "text/plain": [
              "np.int64(12)"
            ]
          },
          "metadata": {},
          "execution_count": 224
        }
      ],
      "source": [
        "train_data.duplicated().sum()"
      ]
    },
    {
      "cell_type": "markdown",
      "id": "f9043862",
      "metadata": {
        "id": "f9043862"
      },
      "source": [
        "#### Remove duplicates from train and test sets.\n"
      ]
    },
    {
      "cell_type": "code",
      "execution_count": 225,
      "id": "6ad6fd6a-437f-4136-8055-f229bb2784d0",
      "metadata": {
        "id": "6ad6fd6a-437f-4136-8055-f229bb2784d0"
      },
      "outputs": [],
      "source": [
        "\n",
        "train_data.drop_duplicates(subset='Sentence', keep='first', inplace=True)\n",
        "test_data.drop_duplicates(subset='Sentence', keep='first', inplace=True)\n"
      ]
    },
    {
      "cell_type": "code",
      "execution_count": 226,
      "id": "516fbe5e-1c28-4747-b36f-cdda3619b219",
      "metadata": {
        "colab": {
          "base_uri": "https://localhost:8080/"
        },
        "id": "516fbe5e-1c28-4747-b36f-cdda3619b219",
        "outputId": "db720b4a-c562-4fea-9528-49bf46580c3c"
      },
      "outputs": [
        {
          "output_type": "execute_result",
          "data": {
            "text/plain": [
              "np.int64(0)"
            ]
          },
          "metadata": {},
          "execution_count": 226
        }
      ],
      "source": [
        "train_data.duplicated().sum()"
      ]
    },
    {
      "cell_type": "markdown",
      "id": "1a9c8abe",
      "metadata": {
        "id": "1a9c8abe"
      },
      "source": [
        "#### 'Label' Data Distribution\n"
      ]
    },
    {
      "cell_type": "code",
      "execution_count": 227,
      "id": "66ca8ae2",
      "metadata": {
        "colab": {
          "base_uri": "https://localhost:8080/",
          "height": 622
        },
        "id": "66ca8ae2",
        "outputId": "5cf1933a-5bb4-4209-c97e-8ac322b18e4e"
      },
      "outputs": [
        {
          "output_type": "stream",
          "name": "stderr",
          "text": [
            "<ipython-input-227-4b886529f260>:10: FutureWarning: \n",
            "\n",
            "Passing `palette` without assigning `hue` is deprecated and will be removed in v0.14.0. Assign the `x` variable to `hue` and set `legend=False` for the same effect.\n",
            "\n",
            "  sns.countplot(x='Label', data=train_data, ax=ax[1], palette=colors)\n",
            "<ipython-input-227-4b886529f260>:10: UserWarning: The palette list has more values (10) than needed (2), which may not be intended.\n",
            "  sns.countplot(x='Label', data=train_data, ax=ax[1], palette=colors)\n"
          ]
        },
        {
          "output_type": "display_data",
          "data": {
            "text/plain": [
              "<Figure size 1200x800 with 2 Axes>"
            ],
            "image/png": "[encoded data removed]"
          },
          "metadata": {}
        }
      ],
      "source": [
        "import matplotlib.pyplot as plt\n",
        "import matplotlib.colors as mcolors\n",
        "import seaborn as sns\n",
        "f, ax = plt.subplots(1, 2, figsize=(12, 8))\n",
        "colors = list(mcolors.TABLEAU_COLORS.values())\n",
        "train_data['Label'].value_counts().plot.pie(explode=[0, 0.1], autopct='%1.1f%%', ax=ax[0], wedgeprops={'edgecolor': 'white', 'linewidth': 2, 'antialiased': True}, colors=colors)\n",
        "\n",
        "ax[0].set_title('Label')\n",
        "ax[0].set_ylabel('')\n",
        "sns.countplot(x='Label', data=train_data, ax=ax[1], palette=colors)\n",
        "ax[1].set_title('Label')\n",
        "plt.show()"
      ]
    },
    {
      "cell_type": "code",
      "execution_count": 228,
      "id": "8819b5f6-6ee6-4a50-92ef-f3580546e163",
      "metadata": {
        "id": "8819b5f6-6ee6-4a50-92ef-f3580546e163"
      },
      "outputs": [],
      "source": [
        "\n",
        "##def clean_text(text):\n",
        "   ## return str(text).strip()\n",
        "\n",
        "#train_data['Sentence'] = train_data['Sentence'].apply(clean_text)\n",
        "#test_data['Sentence'] = test_data['Sentence'].apply(clean_text)"
      ]
    },
    {
      "cell_type": "code",
      "execution_count": 229,
      "id": "d9eaa2c9-ef51-4f7e-8eb5-64da4bce63f4",
      "metadata": {
        "colab": {
          "base_uri": "https://localhost:8080/",
          "height": 424
        },
        "id": "d9eaa2c9-ef51-4f7e-8eb5-64da4bce63f4",
        "outputId": "f0673aa8-e775-4d20-bcab-94cd9b41127c"
      },
      "outputs": [
        {
          "output_type": "execute_result",
          "data": {
            "text/plain": [
              "                                                Sentence  Label\n",
              "0                      \" or pg_sleep  (  __TIME__  )  --      1\n",
              "1      create user name identified by pass123 tempora...      1\n",
              "2       AND 1  =  utl_inaddr.get_host_address   (    ...      1\n",
              "3       select * from users where id  =  '1' or @ @1 ...      1\n",
              "4       select * from users where id  =  1 or 1#\"  ( ...      1\n",
              "...                                                  ...    ...\n",
              "30609              DELETE FROM door WHERE grow = 'small'      0\n",
              "30610                               DELETE FROM tomorrow      0\n",
              "30611                       SELECT wide ( s )  FROM west      0\n",
              "30612       SELECT * FROM  ( SELECT slide FROM breath )       0\n",
              "30613                           SELECT TOP 3 * FROM race      0\n",
              "\n",
              "[30600 rows x 2 columns]"
            ],
            "text/html": [
              "\n",
              "  <div id=\"df-988996e8-7879-4e55-9d79-dcb195440719\" class=\"colab-df-container\">\n",
              "    <div>\n",
              "<style scoped>\n",
              "    .dataframe tbody tr th:only-of-type {\n",
              "        vertical-align: middle;\n",
              "    }\n",
              "\n",
              "    .dataframe tbody tr th {\n",
              "        vertical-align: top;\n",
              "    }\n",
              "\n",
              "    .dataframe thead th {\n",
              "        text-align: right;\n",
              "    }\n",
              "</style>\n",
              "<table border=\"1\" class=\"dataframe\">\n",
              "  <thead>\n",
              "    <tr style=\"text-align: right;\">\n",
              "      <th></th>\n",
              "      <th>Sentence</th>\n",
              "      <th>Label</th>\n",
              "    </tr>\n",
              "  </thead>\n",
              "  <tbody>\n",
              "    <tr>\n",
              "      <th>0</th>\n",
              "      <td>\" or pg_sleep  (  __TIME__  )  --</td>\n",
              "      <td>1</td>\n",
              "    </tr>\n",
              "    <tr>\n",
              "      <th>1</th>\n",
              "      <td>create user name identified by pass123 tempora...</td>\n",
              "      <td>1</td>\n",
              "    </tr>\n",
              "    <tr>\n",
              "      <th>2</th>\n",
              "      <td>AND 1  =  utl_inaddr.get_host_address   (    ...</td>\n",
              "      <td>1</td>\n",
              "    </tr>\n",
              "    <tr>\n",
              "      <th>3</th>\n",
              "      <td>select * from users where id  =  '1' or @ @1 ...</td>\n",
              "      <td>1</td>\n",
              "    </tr>\n",
              "    <tr>\n",
              "      <th>4</th>\n",
              "      <td>select * from users where id  =  1 or 1#\"  ( ...</td>\n",
              "      <td>1</td>\n",
              "    </tr>\n",
              "    <tr>\n",
              "      <th>...</th>\n",
              "      <td>...</td>\n",
              "      <td>...</td>\n",
              "    </tr>\n",
              "    <tr>\n",
              "      <th>30609</th>\n",
              "      <td>DELETE FROM door WHERE grow = 'small'</td>\n",
              "      <td>0</td>\n",
              "    </tr>\n",
              "    <tr>\n",
              "      <th>30610</th>\n",
              "      <td>DELETE FROM tomorrow</td>\n",
              "      <td>0</td>\n",
              "    </tr>\n",
              "    <tr>\n",
              "      <th>30611</th>\n",
              "      <td>SELECT wide ( s )  FROM west</td>\n",
              "      <td>0</td>\n",
              "    </tr>\n",
              "    <tr>\n",
              "      <th>30612</th>\n",
              "      <td>SELECT * FROM  ( SELECT slide FROM breath )</td>\n",
              "      <td>0</td>\n",
              "    </tr>\n",
              "    <tr>\n",
              "      <th>30613</th>\n",
              "      <td>SELECT TOP 3 * FROM race</td>\n",
              "      <td>0</td>\n",
              "    </tr>\n",
              "  </tbody>\n",
              "</table>\n",
              "<p>30600 rows × 2 columns</p>\n",
              "</div>\n",
              "    <div class=\"colab-df-buttons\">\n",
              "\n",
              "  <div class=\"colab-df-container\">\n",
              "    <button class=\"colab-df-convert\" onclick=\"convertToInteractive('df-988996e8-7879-4e55-9d79-dcb195440719')\"\n",
              "            title=\"Convert this dataframe to an interactive table.\"\n",
              "            style=\"display:none;\">\n",
              "\n",
              "  <svg xmlns=\"http://www.w3.org/2000/svg\" height=\"24px\" viewBox=\"0 -960 960 960\">\n",
              "    <path d=\"M120-120v-720h720v720H120Zm60-500h600v-160H180v160Zm220 220h160v-160H400v160Zm0 220h160v-160H400v160ZM180-400h160v-160H180v160Zm440 0h160v-160H620v160ZM180-180h160v-160H180v160Zm440 0h160v-160H620v160Z\"/>\n",
              "  </svg>\n",
              "    </button>\n",
              "\n",
              "  <style>\n",
              "    .colab-df-container {\n",
              "      display:flex;\n",
              "      gap: 12px;\n",
              "    }\n",
              "\n",
              "    .colab-df-convert {\n",
              "      background-color: #E8F0FE;\n",
              "      border: none;\n",
              "      border-radius: 50%;\n",
              "      cursor: pointer;\n",
              "      display: none;\n",
              "      fill: #1967D2;\n",
              "      height: 32px;\n",
              "      padding: 0 0 0 0;\n",
              "      width: 32px;\n",
              "    }\n",
              "\n",
              "    .colab-df-convert:hover {\n",
              "      background-color: #E2EBFA;\n",
              "      box-shadow: 0px 1px 2px rgba(60, 64, 67, 0.3), 0px 1px 3px 1px rgba(60, 64, 67, 0.15);\n",
              "      fill: #174EA6;\n",
              "    }\n",
              "\n",
              "    .colab-df-buttons div {\n",
              "      margin-bottom: 4px;\n",
              "    }\n",
              "\n",
              "    [theme=dark] .colab-df-convert {\n",
              "      background-color: #3B4455;\n",
              "      fill: #D2E3FC;\n",
              "    }\n",
              "\n",
              "    [theme=dark] .colab-df-convert:hover {\n",
              "      background-color: #434B5C;\n",
              "      box-shadow: 0px 1px 3px 1px rgba(0, 0, 0, 0.15);\n",
              "      filter: drop-shadow(0px 1px 2px rgba(0, 0, 0, 0.3));\n",
              "      fill: #FFFFFF;\n",
              "    }\n",
              "  </style>\n",
              "\n",
              "    <script>\n",
              "      const buttonEl =\n",
              "        document.querySelector('#df-988996e8-7879-4e55-9d79-dcb195440719 button.colab-df-convert');\n",
              "      buttonEl.style.display =\n",
              "        google.colab.kernel.accessAllowed ? 'block' : 'none';\n",
              "\n",
              "      async function convertToInteractive(key) {\n",
              "        const element = document.querySelector('#df-988996e8-7879-4e55-9d79-dcb195440719');\n",
              "        const dataTable =\n",
              "          await google.colab.kernel.invokeFunction('convertToInteractive',\n",
              "                                                    [key], {});\n",
              "        if (!dataTable) return;\n",
              "\n",
              "        const docLinkHtml = 'Like what you see? Visit the ' +\n",
              "          '<a target=\"_blank\" href=https://colab.research.google.com/notebooks/data_table.ipynb>data table notebook</a>'\n",
              "          + ' to learn more about interactive tables.';\n",
              "        element.innerHTML = '';\n",
              "        dataTable['output_type'] = 'display_data';\n",
              "        await google.colab.output.renderOutput(dataTable, element);\n",
              "        const docLink = document.createElement('div');\n",
              "        docLink.innerHTML = docLinkHtml;\n",
              "        element.appendChild(docLink);\n",
              "      }\n",
              "    </script>\n",
              "  </div>\n",
              "\n",
              "\n",
              "    <div id=\"df-f888054c-fb8a-4817-a3df-521206995ac3\">\n",
              "      <button class=\"colab-df-quickchart\" onclick=\"quickchart('df-f888054c-fb8a-4817-a3df-521206995ac3')\"\n",
              "                title=\"Suggest charts\"\n",
              "                style=\"display:none;\">\n",
              "\n",
              "<svg xmlns=\"http://www.w3.org/2000/svg\" height=\"24px\"viewBox=\"0 0 24 24\"\n",
              "     width=\"24px\">\n",
              "    <g>\n",
              "        <path d=\"M19 3H5c-1.1 0-2 .9-2 2v14c0 1.1.9 2 2 2h14c1.1 0 2-.9 2-2V5c0-1.1-.9-2-2-2zM9 17H7v-7h2v7zm4 0h-2V7h2v10zm4 0h-2v-4h2v4z\"/>\n",
              "    </g>\n",
              "</svg>\n",
              "      </button>\n",
              "\n",
              "<style>\n",
              "  .colab-df-quickchart {\n",
              "      --bg-color: #E8F0FE;\n",
              "      --fill-color: #1967D2;\n",
              "      --hover-bg-color: #E2EBFA;\n",
              "      --hover-fill-color: #174EA6;\n",
              "      --disabled-fill-color: #AAA;\n",
              "      --disabled-bg-color: #DDD;\n",
              "  }\n",
              "\n",
              "  [theme=dark] .colab-df-quickchart {\n",
              "      --bg-color: #3B4455;\n",
              "      --fill-color: #D2E3FC;\n",
              "      --hover-bg-color: #434B5C;\n",
              "      --hover-fill-color: #FFFFFF;\n",
              "      --disabled-bg-color: #3B4455;\n",
              "      --disabled-fill-color: #666;\n",
              "  }\n",
              "\n",
              "  .colab-df-quickchart {\n",
              "    background-color: var(--bg-color);\n",
              "    border: none;\n",
              "    border-radius: 50%;\n",
              "    cursor: pointer;\n",
              "    display: none;\n",
              "    fill: var(--fill-color);\n",
              "    height: 32px;\n",
              "    padding: 0;\n",
              "    width: 32px;\n",
              "  }\n",
              "\n",
              "  .colab-df-quickchart:hover {\n",
              "    background-color: var(--hover-bg-color);\n",
              "    box-shadow: 0 1px 2px rgba(60, 64, 67, 0.3), 0 1px 3px 1px rgba(60, 64, 67, 0.15);\n",
              "    fill: var(--button-hover-fill-color);\n",
              "  }\n",
              "\n",
              "  .colab-df-quickchart-complete:disabled,\n",
              "  .colab-df-quickchart-complete:disabled:hover {\n",
              "    background-color: var(--disabled-bg-color);\n",
              "    fill: var(--disabled-fill-color);\n",
              "    box-shadow: none;\n",
              "  }\n",
              "\n",
              "  .colab-df-spinner {\n",
              "    border: 2px solid var(--fill-color);\n",
              "    border-color: transparent;\n",
              "    border-bottom-color: var(--fill-color);\n",
              "    animation:\n",
              "      spin 1s steps(1) infinite;\n",
              "  }\n",
              "\n",
              "  @keyframes spin {\n",
              "    0% {\n",
              "      border-color: transparent;\n",
              "      border-bottom-color: var(--fill-color);\n",
              "      border-left-color: var(--fill-color);\n",
              "    }\n",
              "    20% {\n",
              "      border-color: transparent;\n",
              "      border-left-color: var(--fill-color);\n",
              "      border-top-color: var(--fill-color);\n",
              "    }\n",
              "    30% {\n",
              "      border-color: transparent;\n",
              "      border-left-color: var(--fill-color);\n",
              "      border-top-color: var(--fill-color);\n",
              "      border-right-color: var(--fill-color);\n",
              "    }\n",
              "    40% {\n",
              "      border-color: transparent;\n",
              "      border-right-color: var(--fill-color);\n",
              "      border-top-color: var(--fill-color);\n",
              "    }\n",
              "    60% {\n",
              "      border-color: transparent;\n",
              "      border-right-color: var(--fill-color);\n",
              "    }\n",
              "    80% {\n",
              "      border-color: transparent;\n",
              "      border-right-color: var(--fill-color);\n",
              "      border-bottom-color: var(--fill-color);\n",
              "    }\n",
              "    90% {\n",
              "      border-color: transparent;\n",
              "      border-bottom-color: var(--fill-color);\n",
              "    }\n",
              "  }\n",
              "</style>\n",
              "\n",
              "      <script>\n",
              "        async function quickchart(key) {\n",
              "          const quickchartButtonEl =\n",
              "            document.querySelector('#' + key + ' button');\n",
              "          quickchartButtonEl.disabled = true;  // To prevent multiple clicks.\n",
              "          quickchartButtonEl.classList.add('colab-df-spinner');\n",
              "          try {\n",
              "            const charts = await google.colab.kernel.invokeFunction(\n",
              "                'suggestCharts', [key], {});\n",
              "          } catch (error) {\n",
              "            console.error('Error during call to suggestCharts:', error);\n",
              "          }\n",
              "          quickchartButtonEl.classList.remove('colab-df-spinner');\n",
              "          quickchartButtonEl.classList.add('colab-df-quickchart-complete');\n",
              "        }\n",
              "        (() => {\n",
              "          let quickchartButtonEl =\n",
              "            document.querySelector('#df-f888054c-fb8a-4817-a3df-521206995ac3 button');\n",
              "          quickchartButtonEl.style.display =\n",
              "            google.colab.kernel.accessAllowed ? 'block' : 'none';\n",
              "        })();\n",
              "      </script>\n",
              "    </div>\n",
              "\n",
              "  <div id=\"id_38bc8def-36e8-4d59-9067-7bf78a378037\">\n",
              "    <style>\n",
              "      .colab-df-generate {\n",
              "        background-color: #E8F0FE;\n",
              "        border: none;\n",
              "        border-radius: 50%;\n",
              "        cursor: pointer;\n",
              "        display: none;\n",
              "        fill: #1967D2;\n",
              "        height: 32px;\n",
              "        padding: 0 0 0 0;\n",
              "        width: 32px;\n",
              "      }\n",
              "\n",
              "      .colab-df-generate:hover {\n",
              "        background-color: #E2EBFA;\n",
              "        box-shadow: 0px 1px 2px rgba(60, 64, 67, 0.3), 0px 1px 3px 1px rgba(60, 64, 67, 0.15);\n",
              "        fill: #174EA6;\n",
              "      }\n",
              "\n",
              "      [theme=dark] .colab-df-generate {\n",
              "        background-color: #3B4455;\n",
              "        fill: #D2E3FC;\n",
              "      }\n",
              "\n",
              "      [theme=dark] .colab-df-generate:hover {\n",
              "        background-color: #434B5C;\n",
              "        box-shadow: 0px 1px 3px 1px rgba(0, 0, 0, 0.15);\n",
              "        filter: drop-shadow(0px 1px 2px rgba(0, 0, 0, 0.3));\n",
              "        fill: #FFFFFF;\n",
              "      }\n",
              "    </style>\n",
              "    <button class=\"colab-df-generate\" onclick=\"generateWithVariable('train_data')\"\n",
              "            title=\"Generate code using this dataframe.\"\n",
              "            style=\"display:none;\">\n",
              "\n",
              "  <svg xmlns=\"http://www.w3.org/2000/svg\" height=\"24px\"viewBox=\"0 0 24 24\"\n",
              "       width=\"24px\">\n",
              "    <path d=\"M7,19H8.4L18.45,9,17,7.55,7,17.6ZM5,21V16.75L18.45,3.32a2,2,0,0,1,2.83,0l1.4,1.43a1.91,1.91,0,0,1,.58,1.4,1.91,1.91,0,0,1-.58,1.4L9.25,21ZM18.45,9,17,7.55Zm-12,3A5.31,5.31,0,0,0,4.9,8.1,5.31,5.31,0,0,0,1,6.5,5.31,5.31,0,0,0,4.9,4.9,5.31,5.31,0,0,0,6.5,1,5.31,5.31,0,0,0,8.1,4.9,5.31,5.31,0,0,0,12,6.5,5.46,5.46,0,0,0,6.5,12Z\"/>\n",
              "  </svg>\n",
              "    </button>\n",
              "    <script>\n",
              "      (() => {\n",
              "      const buttonEl =\n",
              "        document.querySelector('#id_38bc8def-36e8-4d59-9067-7bf78a378037 button.colab-df-generate');\n",
              "      buttonEl.style.display =\n",
              "        google.colab.kernel.accessAllowed ? 'block' : 'none';\n",
              "\n",
              "      buttonEl.onclick = () => {\n",
              "        google.colab.notebook.generateWithVariable('train_data');\n",
              "      }\n",
              "      })();\n",
              "    </script>\n",
              "  </div>\n",
              "\n",
              "    </div>\n",
              "  </div>\n"
            ],
            "application/vnd.google.colaboratory.intrinsic+json": {
              "type": "dataframe",
              "variable_name": "train_data",
              "summary": "{\n  \"name\": \"train_data\",\n  \"rows\": 30600,\n  \"fields\": [\n    {\n      \"column\": \"Sentence\",\n      \"properties\": {\n        \"dtype\": \"string\",\n        \"num_unique_values\": 30600,\n        \"samples\": [\n          \"-3026  )   or 4493  =  utl_inaddr.get_host_address  (  chr  (  113  )  ||chr  (  113  )  ||chr  (  112  )  ||chr  (  106  )  ||chr  (  113  )  ||  (  select   (  case when   (  4493  =  4493  )   then 1 else 0 end  )   from dual  )  ||chr  (  113  )  ||chr  (  122  )  ||chr  (  118  )  ||chr  (  122  )  ||chr  (  113   )    ) \",\n          \"1'  )   rlike   (  select   (  case when   (  2671  =  4485  )   then 1 else 0x28 end   )    )    and   (  'ezco' like 'ezco\",\n          \"bisaurri\"\n        ],\n        \"semantic_type\": \"\",\n        \"description\": \"\"\n      }\n    },\n    {\n      \"column\": \"Label\",\n      \"properties\": {\n        \"dtype\": \"number\",\n        \"std\": 0,\n        \"min\": 0,\n        \"max\": 1,\n        \"num_unique_values\": 2,\n        \"samples\": [\n          0,\n          1\n        ],\n        \"semantic_type\": \"\",\n        \"description\": \"\"\n      }\n    }\n  ]\n}"
            }
          },
          "metadata": {},
          "execution_count": 229
        }
      ],
      "source": [
        "train_data"
      ]
    },
    {
      "cell_type": "markdown",
      "id": "2b5e4c11",
      "metadata": {
        "id": "2b5e4c11"
      },
      "source": [
        "#### Tokenization (keeping all characters)\n"
      ]
    },
    {
      "cell_type": "code",
      "execution_count": 230,
      "id": "3309dbb8-d044-4655-af63-8643e7a315a2",
      "metadata": {
        "id": "3309dbb8-d044-4655-af63-8643e7a315a2"
      },
      "outputs": [],
      "source": [
        "\n",
        "vocab_size = 15000\n",
        "tokenizer = Tokenizer(\n",
        "    num_words=vocab_size,\n",
        "    oov_token=\"<OOV>\",\n",
        "    filters='',\n",
        "    lower=False\n",
        ")\n",
        "tokenizer.fit_on_texts(train_data['Sentence'])\n"
      ]
    },
    {
      "cell_type": "markdown",
      "id": "eba05ec7",
      "metadata": {
        "id": "eba05ec7"
      },
      "source": [
        "#### Adaptive Padding"
      ]
    },
    {
      "cell_type": "code",
      "execution_count": 231,
      "id": "cdfa3d5c-7550-4560-a45e-685adea63418",
      "metadata": {
        "id": "cdfa3d5c-7550-4560-a45e-685adea63418"
      },
      "outputs": [],
      "source": [
        "\n",
        "max_len = int(np.percentile([len(x.split()) for x in train_data['Sentence']], 95))\n",
        "X = tokenizer.texts_to_sequences(train_data['Sentence'])\n",
        "X = pad_sequences(X, padding='post', maxlen=max_len)\n",
        "y = train_data['Label'].astype('int')\n"
      ]
    },
    {
      "cell_type": "markdown",
      "id": "60e6e251",
      "metadata": {
        "id": "60e6e251"
      },
      "source": [
        "#### Train/Validation Split\n"
      ]
    },
    {
      "cell_type": "code",
      "execution_count": 232,
      "id": "69183a6e-1cfc-46f9-857a-5c7f893c5fd5",
      "metadata": {
        "id": "69183a6e-1cfc-46f9-857a-5c7f893c5fd5"
      },
      "outputs": [],
      "source": [
        "\n",
        "X_train, X_val, y_train, y_val = train_test_split(X, y, test_size=0.2, random_state=42)\n"
      ]
    },
    {
      "cell_type": "markdown",
      "id": "9b289938",
      "metadata": {
        "id": "9b289938"
      },
      "source": [
        "#### Model Architecture"
      ]
    },
    {
      "cell_type": "code",
      "execution_count": 233,
      "id": "d9c39577-3b77-4532-a0db-82aaea41cd68",
      "metadata": {
        "colab": {
          "base_uri": "https://localhost:8080/"
        },
        "id": "d9c39577-3b77-4532-a0db-82aaea41cd68",
        "outputId": "bf4ed7ee-48ef-475f-b579-2b56ed51bb79"
      },
      "outputs": [
        {
          "output_type": "stream",
          "name": "stderr",
          "text": [
            "/usr/local/lib/python3.11/dist-packages/keras/src/layers/core/embedding.py:90: UserWarning: Argument `input_length` is deprecated. Just remove it.\n",
            "  warnings.warn(\n"
          ]
        }
      ],
      "source": [
        "\n",
        "embedding_dim = 256\n",
        "model = Sequential([\n",
        "    Embedding(input_dim=vocab_size, output_dim=embedding_dim, input_length=max_len),\n",
        "    LSTM(256, return_sequences=True),\n",
        "    Dropout(0.3),\n",
        "    LSTM(128),\n",
        "    Dense(64, activation='relu'),\n",
        "    Dense(1, activation='sigmoid')\n",
        "])"
      ]
    },
    {
      "cell_type": "markdown",
      "id": "2c8652b4",
      "metadata": {
        "id": "2c8652b4"
      },
      "source": [
        "#### Model Compilation with Early Stopping and Adam Optimizer\n"
      ]
    },
    {
      "cell_type": "code",
      "execution_count": 234,
      "id": "a9cd681a-e242-4811-8950-065bc3c019dc",
      "metadata": {
        "id": "a9cd681a-e242-4811-8950-065bc3c019dc"
      },
      "outputs": [],
      "source": [
        "early_stop = EarlyStopping(patience=3, restore_best_weights=True)\n",
        "optimizer = optimizers.Adam(learning_rate=0.001)\n",
        "model.compile(loss='binary_crossentropy', optimizer=optimizer, metrics=['accuracy'])\n"
      ]
    },
    {
      "cell_type": "markdown",
      "id": "4b86e84c",
      "metadata": {
        "id": "4b86e84c"
      },
      "source": [
        "#### Model Training"
      ]
    },
    {
      "cell_type": "code",
      "execution_count": 235,
      "id": "a3ed5019-1fe6-48a6-b905-fbcad7b0b795",
      "metadata": {
        "colab": {
          "base_uri": "https://localhost:8080/"
        },
        "id": "a3ed5019-1fe6-48a6-b905-fbcad7b0b795",
        "outputId": "d85c7806-4b0d-476a-efaf-cf9824c5b152"
      },
      "outputs": [
        {
          "output_type": "stream",
          "name": "stdout",
          "text": [
            "Epoch 1/30\n",
            "\u001b[1m383/383\u001b[0m \u001b[32m━━━━━━━━━━━━━━━━━━━━\u001b[0m\u001b[37m\u001b[0m \u001b[1m9s\u001b[0m 16ms/step - accuracy: 0.9439 - loss: 0.1400 - val_accuracy: 0.9948 - val_loss: 0.0376\n",
            "Epoch 2/30\n",
            "\u001b[1m383/383\u001b[0m \u001b[32m━━━━━━━━━━━━━━━━━━━━\u001b[0m\u001b[37m\u001b[0m \u001b[1m5s\u001b[0m 14ms/step - accuracy: 0.8677 - loss: 0.2540 - val_accuracy: 0.7783 - val_loss: 0.3926\n",
            "Epoch 3/30\n",
            "\u001b[1m383/383\u001b[0m \u001b[32m━━━━━━━━━━━━━━━━━━━━\u001b[0m\u001b[37m\u001b[0m \u001b[1m10s\u001b[0m 14ms/step - accuracy: 0.7709 - loss: 0.3990 - val_accuracy: 0.7788 - val_loss: 0.3920\n",
            "Epoch 4/30\n",
            "\u001b[1m383/383\u001b[0m \u001b[32m━━━━━━━━━━━━━━━━━━━━\u001b[0m\u001b[37m\u001b[0m \u001b[1m10s\u001b[0m 14ms/step - accuracy: 0.7737 - loss: 0.3977 - val_accuracy: 0.7788 - val_loss: 0.3921\n"
          ]
        }
      ],
      "source": [
        "\n",
        "history = model.fit(\n",
        "    X_train, y_train,\n",
        "    epochs=30,\n",
        "    batch_size=64,\n",
        "    validation_data=(X_val, y_val),\n",
        "    callbacks=[early_stop]\n",
        ")"
      ]
    },
    {
      "cell_type": "markdown",
      "id": "ecc7f77f",
      "metadata": {
        "id": "ecc7f77f"
      },
      "source": [
        "#### Plotting Loss and Accuracy over Epochs\n"
      ]
    },
    {
      "cell_type": "code",
      "execution_count": 236,
      "id": "d9a56bff-b99c-4eca-9ae5-537717202a36",
      "metadata": {
        "colab": {
          "base_uri": "https://localhost:8080/",
          "height": 927
        },
        "id": "d9a56bff-b99c-4eca-9ae5-537717202a36",
        "outputId": "42abe242-b30f-49b1-ab22-8dde201eaabb"
      },
      "outputs": [
        {
          "output_type": "display_data",
          "data": {
            "text/plain": [
              "<Figure size 640x480 with 1 Axes>"
            ],
            "image/png": "[encoded data removed]"
          },
          "metadata": {}
        },
        {
          "output_type": "display_data",
          "data": {
            "text/plain": [
              "<Figure size 640x480 with 1 Axes>"
            ],
            "image/png": "[encoded data removed]"
          },
          "metadata": {}
        }
      ],
      "source": [
        "import matplotlib.pyplot as plt\n",
        "plt.plot(history.history['loss'], label='Train Loss')\n",
        "plt.plot(history.history['val_loss'], label='Validation Loss')\n",
        "plt.title('Loss over epochs')\n",
        "plt.xlabel('Epochs')\n",
        "plt.ylabel('Loss')\n",
        "plt.legend()\n",
        "plt.show()\n",
        "\n",
        "plt.plot(history.history['accuracy'], label='Train Accuracy')\n",
        "plt.plot(history.history['val_accuracy'], label='Validation Accuracy')\n",
        "plt.title('Accuracy over epochs')\n",
        "plt.xlabel('Epochs')\n",
        "plt.ylabel('Accuracy')\n",
        "plt.legend()\n",
        "plt.show()"
      ]
    },
    {
      "cell_type": "markdown",
      "id": "5daa1253",
      "metadata": {
        "id": "5daa1253"
      },
      "source": [
        "#### Évaluation"
      ]
    },
    {
      "cell_type": "code",
      "execution_count": 237,
      "id": "b08fb74d-d4ed-45f1-81bc-66f05e49345e",
      "metadata": {
        "colab": {
          "base_uri": "https://localhost:8080/"
        },
        "id": "b08fb74d-d4ed-45f1-81bc-66f05e49345e",
        "outputId": "c7db5894-bc0b-43e0-8044-ea0ca4c52f82"
      },
      "outputs": [
        {
          "output_type": "stream",
          "name": "stdout",
          "text": [
            "\u001b[1m1054/1054\u001b[0m \u001b[32m━━━━━━━━━━━━━━━━━━━━\u001b[0m\u001b[37m\u001b[0m \u001b[1m5s\u001b[0m 4ms/step - accuracy: 0.9781 - loss: 0.1545\n",
            "\n",
            "✅ Test Accuracy: 0.9942\n",
            "❌ Test Loss: 0.0417\n"
          ]
        }
      ],
      "source": [
        "test_data['Sentence'] = test_data['Sentence'].astype(str).fillna('')\n",
        "X_test = tokenizer.texts_to_sequences(test_data['Sentence'])\n",
        "X_test = pad_sequences(X_test, padding='post', maxlen=max_len)\n",
        "y_test = test_data['Label'].astype('int')\n",
        "test_loss, test_accuracy = model.evaluate(X_test, y_test)\n",
        "print(f'\\n✅ Test Accuracy: {test_accuracy:.4f}')\n",
        "print(f'❌ Test Loss: {test_loss:.4f}')"
      ]
    },
    {
      "cell_type": "markdown",
      "id": "92099028",
      "metadata": {
        "id": "92099028"
      },
      "source": [
        "#### Filter Only SQL Injection (Label = 1)\n"
      ]
    },
    {
      "cell_type": "code",
      "execution_count": 238,
      "id": "11186d97-c576-480c-aa72-49cec0cdff6b",
      "metadata": {
        "colab": {
          "base_uri": "https://localhost:8080/"
        },
        "id": "11186d97-c576-480c-aa72-49cec0cdff6b",
        "outputId": "57909c14-54cd-4fb2-a9de-aa5a4b2aa810"
      },
      "outputs": [
        {
          "output_type": "stream",
          "name": "stdout",
          "text": [
            "\n",
            "📌 Nombre total des injections SQL dans test_data : 11424\n"
          ]
        }
      ],
      "source": [
        "\n",
        "from sklearn.metrics import precision_score, recall_score, f1_score, accuracy_score\n",
        "\n",
        "sqli_only = test_data[test_data['Label'] == 1].copy()\n",
        "print(f\"\\n📌 Nombre total des injections SQL dans test_data : {len(sqli_only)}\")\n",
        "\n",
        "# Nettoyage éventuel\n",
        "##sqli_only['Sentence'] = sqli_only['Sentence'].apply(clean_text)\n",
        "\n",
        "\n"
      ]
    },
    {
      "cell_type": "markdown",
      "id": "a9ca3b0b",
      "metadata": {
        "id": "a9ca3b0b"
      },
      "source": [
        "#### Preprocessing SQL Injection Sentences\n"
      ]
    },
    {
      "cell_type": "code",
      "execution_count": 239,
      "id": "2b94d474",
      "metadata": {
        "id": "2b94d474"
      },
      "outputs": [],
      "source": [
        "\n",
        "X_sqli = tokenizer.texts_to_sequences(sqli_only['Sentence'])\n",
        "X_sqli = pad_sequences(X_sqli, padding='post', maxlen=max_len)\n",
        "y_sqli_true = np.ones(len(sqli_only))  # Tous sont censés être des injections"
      ]
    },
    {
      "cell_type": "markdown",
      "id": "b2d084a6",
      "metadata": {
        "id": "b2d084a6"
      },
      "source": [
        "#### Prediction and Metrics Evaluation\n"
      ]
    },
    {
      "cell_type": "code",
      "execution_count": 240,
      "id": "529708b4",
      "metadata": {
        "colab": {
          "base_uri": "https://localhost:8080/"
        },
        "id": "529708b4",
        "outputId": "0a6320b8-d642-4ce0-a110-37f1e41848a8"
      },
      "outputs": [
        {
          "output_type": "stream",
          "name": "stdout",
          "text": [
            "\u001b[1m357/357\u001b[0m \u001b[32m━━━━━━━━━━━━━━━━━━━━\u001b[0m\u001b[37m\u001b[0m \u001b[1m1s\u001b[0m 3ms/step\n"
          ]
        }
      ],
      "source": [
        "\n",
        "sqli_preds = model.predict(X_sqli)\n",
        "sqli_preds_labels = (sqli_preds > 0.5).astype(int)"
      ]
    },
    {
      "cell_type": "code",
      "execution_count": 241,
      "id": "026fd4ed",
      "metadata": {
        "id": "026fd4ed"
      },
      "outputs": [],
      "source": [
        "\n",
        "true_positives = np.sum(sqli_preds_labels == 1)\n",
        "detection_rate = (true_positives / len(sqli_only)) * 100\n",
        "accuracy = accuracy_score(y_sqli_true, sqli_preds_labels)\n",
        "precision = precision_score(y_sqli_true, sqli_preds_labels)\n",
        "recall = recall_score(y_sqli_true, sqli_preds_labels)\n",
        "f1 = f1_score(y_sqli_true, sqli_preds_labels)"
      ]
    },
    {
      "cell_type": "code",
      "execution_count": 242,
      "id": "65bf8856",
      "metadata": {
        "colab": {
          "base_uri": "https://localhost:8080/"
        },
        "id": "65bf8856",
        "outputId": "191c7af0-5605-4cf6-dbfa-c03aaf055157"
      },
      "outputs": [
        {
          "output_type": "stream",
          "name": "stdout",
          "text": [
            "\n",
            "✅ Injections correctement détectées : 11231\n",
            "📊 Taux de détection : 98.31%\n",
            "\n",
            "🔍 Évaluation sur les requêtes SQL (Label = 1) :\n",
            "✅ Accuracy  : 98.31%\n",
            "✅ Precision : 100.00%\n",
            "✅ Recall    : 98.31%\n",
            "✅ F1 Score  : 99.15%\n"
          ]
        }
      ],
      "source": [
        "\n",
        "print(f\"\\n✅ Injections correctement détectées : {true_positives}\")\n",
        "print(f\"📊 Taux de détection : {detection_rate:.2f}%\")\n",
        "print(f\"\\n🔍 Évaluation sur les requêtes SQL (Label = 1) :\")\n",
        "print(f\"✅ Accuracy  : {accuracy * 100:.2f}%\")\n",
        "print(f\"✅ Precision : {precision * 100:.2f}%\")\n",
        "print(f\"✅ Recall    : {recall * 100:.2f}%\")\n",
        "print(f\"✅ F1 Score  : {f1 * 100:.2f}%\")\n"
      ]
    },
    {
      "cell_type": "markdown",
      "id": "8ba0ddcf",
      "metadata": {
        "id": "8ba0ddcf"
      },
      "source": [
        "#### Filter Only Normal Queries (Label = 0)\n"
      ]
    },
    {
      "cell_type": "code",
      "execution_count": 243,
      "id": "1e88ea8b-f233-4cd5-87f8-da3fd5f31a62",
      "metadata": {
        "colab": {
          "base_uri": "https://localhost:8080/"
        },
        "id": "1e88ea8b-f233-4cd5-87f8-da3fd5f31a62",
        "outputId": "d104fc67-4ada-42b3-ad35-22ab5e897cb6"
      },
      "outputs": [
        {
          "output_type": "stream",
          "name": "stdout",
          "text": [
            "\n",
            "📌 Nombre total des requêtes normales dans test_data : 22302\n"
          ]
        }
      ],
      "source": [
        "\n",
        "from sklearn.metrics import precision_score, recall_score, f1_score, accuracy_score\n",
        "\n",
        "normal_only = test_data[test_data['Label'] == 0].copy()\n",
        "print(f\"\\n📌 Nombre total des requêtes normales dans test_data : {len(normal_only)}\")\n",
        "\n",
        "\n",
        "#normal_only['Sentence'] = normal_only['Sentence'].apply(clean_text)\n",
        "\n",
        "  # Tous sont censés être des requêtes normales\n",
        "\n",
        "\n",
        "\n"
      ]
    },
    {
      "cell_type": "markdown",
      "id": "03da8176",
      "metadata": {
        "id": "03da8176"
      },
      "source": [
        "#### Preprocessing Normal Queries Sentences\n"
      ]
    },
    {
      "cell_type": "code",
      "execution_count": 244,
      "id": "a8ffe7b1",
      "metadata": {
        "id": "a8ffe7b1"
      },
      "outputs": [],
      "source": [
        "\n",
        "X_normal = tokenizer.texts_to_sequences(normal_only['Sentence'])\n",
        "X_normal = pad_sequences(X_normal, padding='post', maxlen=max_len)\n",
        "y_normal_true = np.zeros(len(normal_only))"
      ]
    },
    {
      "cell_type": "markdown",
      "id": "eb723bbb",
      "metadata": {
        "id": "eb723bbb"
      },
      "source": [
        "#### Prediction and Metrics Evaluation\n"
      ]
    },
    {
      "cell_type": "code",
      "execution_count": 220,
      "id": "d2cbeb95",
      "metadata": {
        "colab": {
          "base_uri": "https://localhost:8080/"
        },
        "id": "d2cbeb95",
        "outputId": "12dd604e-0158-4ed7-e35d-cddfa378f2b6"
      },
      "outputs": [
        {
          "output_type": "stream",
          "name": "stdout",
          "text": [
            "\u001b[1m697/697\u001b[0m \u001b[32m━━━━━━━━━━━━━━━━━━━━\u001b[0m\u001b[37m\u001b[0m \u001b[1m2s\u001b[0m 3ms/step\n"
          ]
        }
      ],
      "source": [
        "\n",
        "normal_preds = model.predict(X_normal)\n",
        "normal_preds_labels = (normal_preds > 0.5).astype(int)"
      ]
    },
    {
      "cell_type": "code",
      "execution_count": 221,
      "id": "aadfeab5",
      "metadata": {
        "colab": {
          "base_uri": "https://localhost:8080/"
        },
        "id": "aadfeab5",
        "outputId": "76319160-a1ec-4080-ee5c-fd6ded30a07d"
      },
      "outputs": [
        {
          "output_type": "stream",
          "name": "stdout",
          "text": [
            "\n",
            "📊 Évaluation sur les requêtes normales (Label = 0):\n",
            "✅ Accuracy : 99.83%\n",
            "✅ Precision : 100.00%\n",
            "✅ Recall : 99.83%\n",
            "✅ F1 Score : 99.91%\n"
          ]
        }
      ],
      "source": [
        "\n",
        "print(\"\\n📊 Évaluation sur les requêtes normales (Label = 0):\")\n",
        "print(f\"✅ Accuracy : {accuracy_score(y_normal_true, normal_preds_labels) * 100:.2f}%\")\n",
        "print(f\"✅ Precision : {precision_score(y_normal_true, normal_preds_labels, pos_label=0, zero_division=0) * 100:.2f}%\")\n",
        "print(f\"✅ Recall : {recall_score(y_normal_true, normal_preds_labels, pos_label=0, zero_division=0) * 100:.2f}%\")\n",
        "print(f\"✅ F1 Score : {f1_score(y_normal_true, normal_preds_labels, pos_label=0, zero_division=0) * 100:.2f}%\")\n"
      ]
    }
  ],
  "metadata": {
    "kernelspec": {
      "display_name": "Python 3",
      "name": "python3"
    },
    "language_info": {
      "codemirror_mode": {
        "name": "ipython",
        "version": 3
      },
      "file_extension": ".py",
      "mimetype": "text/x-python",
      "name": "python",
      "nbconvert_exporter": "python",
      "pygments_lexer": "ipython3",
      "version": "3.7.12"
    },
    "colab": {
      "provenance": [],
      "gpuType": "T4"
    },
    "accelerator": "GPU"
  },
  "nbformat": 4,
  "nbformat_minor": 5
}