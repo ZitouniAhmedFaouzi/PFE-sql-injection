{
 "cells": [
  {
   "cell_type": "code",
   "execution_count": 13,
   "id": "093444c7",
   "metadata": {},
   "outputs": [],
   "source": [
    "import pandas as pd\n",
    "import numpy as np\n",
    "import re\n",
    "from keras.models import Sequential\n",
    "from keras.layers import LSTM, Dense, Dropout, Embedding\n",
    "from keras import optimizers\n",
    "from sklearn.model_selection import train_test_split\n",
    "from tensorflow.keras.preprocessing.text import Tokenizer\n",
    "from tensorflow.keras.preprocessing.sequence import pad_sequences\n",
    "from keras.callbacks import EarlyStopping, ReduceLROnPlateau"
   ]
  },
  {
   "cell_type": "code",
   "execution_count": 14,
   "id": "545afa9a",
   "metadata": {},
   "outputs": [],
   "source": [
    "# 1. Chargement des données\n",
    "train_data = pd.read_csv('SQLIV3_cleaned2.csv')\n",
    "test_data = pd.read_csv('sqliv2_utf8.csv')\n"
   ]
  },
  {
   "cell_type": "code",
   "execution_count": 19,
   "id": "99ab4d84",
   "metadata": {},
   "outputs": [
    {
     "name": "stdout",
     "output_type": "stream",
     "text": [
      "                                                Sentence  Label\n",
      "0                      \" or pg_sleep  (  __TIME__  )  --      1\n",
      "1      create user name identified by pass123 tempora...      1\n",
      "2       AND 1  =  utl_inaddr.get_host_address   (    ...      1\n",
      "3       select * from users where id  =  '1' or @ @1 ...      1\n",
      "4       select * from users where id  =  1 or 1#\"  ( ...      1\n",
      "...                                                  ...    ...\n",
      "30609              DELETE FROM door WHERE grow = 'small'      0\n",
      "30610                               DELETE FROM tomorrow      0\n",
      "30611                       SELECT wide ( s )  FROM west      0\n",
      "30612       SELECT * FROM  ( SELECT slide FROM breath )       0\n",
      "30613                           SELECT TOP 3 * FROM race      0\n",
      "\n",
      "[30600 rows x 2 columns]\n"
     ]
    }
   ],
   "source": [
    "print(train_data)"
   ]
  },
  {
   "cell_type": "code",
   "execution_count": 16,
   "id": "4f8f36c8",
   "metadata": {},
   "outputs": [
    {
     "data": {
      "text/plain": [
       "12"
      ]
     },
     "execution_count": 16,
     "metadata": {},
     "output_type": "execute_result"
    }
   ],
   "source": [
    "train_data.duplicated().sum()"
   ]
  },
  {
   "cell_type": "code",
   "execution_count": 17,
   "id": "0db6eb62",
   "metadata": {},
   "outputs": [],
   "source": [
    "# 2. Suppression des doublons (en gardant la première occurrence)\n",
    "train_data.drop_duplicates(subset='Sentence', keep='first', inplace=True)\n",
    "test_data.drop_duplicates(subset='Sentence', keep='first', inplace=True)\n",
    "\n"
   ]
  },
  {
   "cell_type": "code",
   "execution_count": 18,
   "id": "abca2efa",
   "metadata": {},
   "outputs": [
    {
     "data": {
      "text/plain": [
       "0"
      ]
     },
     "execution_count": 18,
     "metadata": {},
     "output_type": "execute_result"
    }
   ],
   "source": [
    "train_data.duplicated().sum()"
   ]
  },
  {
   "cell_type": "code",
   "execution_count": 7,
   "id": "7a3c7b69",
   "metadata": {},
   "outputs": [
    {
     "name": "stdout",
     "output_type": "stream",
     "text": [
      "Structure du train_data :\n",
      "<class 'pandas.core.frame.DataFrame'>\n",
      "Index: 30600 entries, 0 to 30613\n",
      "Data columns (total 2 columns):\n",
      " #   Column    Non-Null Count  Dtype \n",
      "---  ------    --------------  ----- \n",
      " 0   Sentence  30600 non-null  object\n",
      " 1   Label     30600 non-null  int64 \n",
      "dtypes: int64(1), object(1)\n",
      "memory usage: 717.2+ KB\n",
      "None\n",
      "\n",
      "Statistiques :\n",
      "                                 Sentence         Label\n",
      "count                               30600  30600.000000\n",
      "unique                              30600           NaN\n",
      "top     \" or pg_sleep  (  __TIME__  )  --           NaN\n",
      "freq                                    1           NaN\n",
      "mean                                  NaN      0.370654\n",
      "std                                   NaN      0.482988\n",
      "min                                   NaN      0.000000\n",
      "25%                                   NaN      0.000000\n",
      "50%                                   NaN      0.000000\n",
      "75%                                   NaN      1.000000\n",
      "max                                   NaN      1.000000\n",
      "\n",
      "Structure du test_data :\n",
      "<class 'pandas.core.frame.DataFrame'>\n",
      "Index: 33726 entries, 0 to 33759\n",
      "Data columns (total 2 columns):\n",
      " #   Column    Non-Null Count  Dtype \n",
      "---  ------    --------------  ----- \n",
      " 0   Sentence  33725 non-null  object\n",
      " 1   Label     33726 non-null  int64 \n",
      "dtypes: int64(1), object(1)\n",
      "memory usage: 790.5+ KB\n",
      "None\n"
     ]
    }
   ],
   "source": [
    "# 3. Affichage de la structure des datasets\n",
    "print(\"Structure du train_data :\")\n",
    "print(train_data.info())\n",
    "print(\"\\nStatistiques :\")\n",
    "print(train_data.describe(include='all'))\n",
    "\n",
    "print(\"\\nStructure du test_data :\")\n",
    "print(test_data.info())"
   ]
  },
  {
   "cell_type": "code",
   "execution_count": 7,
   "id": "a9304a79",
   "metadata": {},
   "outputs": [],
   "source": [
    "# 4. Nettoyage minimal (on garde les caractères spéciaux)\n",
    "def clean_text(text):\n",
    "    return str(text).strip()\n",
    "\n",
    "train_data['Sentence'] = train_data['Sentence'].apply(clean_text)\n",
    "test_data['Sentence'] = test_data['Sentence'].apply(clean_text)"
   ]
  },
  {
   "cell_type": "code",
   "execution_count": 8,
   "id": "0ff70300",
   "metadata": {},
   "outputs": [
    {
     "data": {
      "text/html": [
       "<div>\n",
       "<style scoped>\n",
       "    .dataframe tbody tr th:only-of-type {\n",
       "        vertical-align: middle;\n",
       "    }\n",
       "\n",
       "    .dataframe tbody tr th {\n",
       "        vertical-align: top;\n",
       "    }\n",
       "\n",
       "    .dataframe thead th {\n",
       "        text-align: right;\n",
       "    }\n",
       "</style>\n",
       "<table border=\"1\" class=\"dataframe\">\n",
       "  <thead>\n",
       "    <tr style=\"text-align: right;\">\n",
       "      <th></th>\n",
       "      <th>Sentence</th>\n",
       "      <th>Label</th>\n",
       "    </tr>\n",
       "  </thead>\n",
       "  <tbody>\n",
       "    <tr>\n",
       "      <th>0</th>\n",
       "      <td>\" or pg_sleep  (  __TIME__  )  --</td>\n",
       "      <td>1</td>\n",
       "    </tr>\n",
       "    <tr>\n",
       "      <th>1</th>\n",
       "      <td>create user name identified by pass123 tempora...</td>\n",
       "      <td>1</td>\n",
       "    </tr>\n",
       "    <tr>\n",
       "      <th>2</th>\n",
       "      <td>AND 1  =  utl_inaddr.get_host_address   (    (...</td>\n",
       "      <td>1</td>\n",
       "    </tr>\n",
       "    <tr>\n",
       "      <th>3</th>\n",
       "      <td>select * from users where id  =  '1' or @ @1  ...</td>\n",
       "      <td>1</td>\n",
       "    </tr>\n",
       "    <tr>\n",
       "      <th>4</th>\n",
       "      <td>select * from users where id  =  1 or 1#\"  (  ...</td>\n",
       "      <td>1</td>\n",
       "    </tr>\n",
       "    <tr>\n",
       "      <th>...</th>\n",
       "      <td>...</td>\n",
       "      <td>...</td>\n",
       "    </tr>\n",
       "    <tr>\n",
       "      <th>30609</th>\n",
       "      <td>DELETE FROM door WHERE grow = 'small'</td>\n",
       "      <td>0</td>\n",
       "    </tr>\n",
       "    <tr>\n",
       "      <th>30610</th>\n",
       "      <td>DELETE FROM tomorrow</td>\n",
       "      <td>0</td>\n",
       "    </tr>\n",
       "    <tr>\n",
       "      <th>30611</th>\n",
       "      <td>SELECT wide ( s )  FROM west</td>\n",
       "      <td>0</td>\n",
       "    </tr>\n",
       "    <tr>\n",
       "      <th>30612</th>\n",
       "      <td>SELECT * FROM  ( SELECT slide FROM breath )</td>\n",
       "      <td>0</td>\n",
       "    </tr>\n",
       "    <tr>\n",
       "      <th>30613</th>\n",
       "      <td>SELECT TOP 3 * FROM race</td>\n",
       "      <td>0</td>\n",
       "    </tr>\n",
       "  </tbody>\n",
       "</table>\n",
       "<p>30600 rows × 2 columns</p>\n",
       "</div>"
      ],
      "text/plain": [
       "                                                Sentence  Label\n",
       "0                      \" or pg_sleep  (  __TIME__  )  --      1\n",
       "1      create user name identified by pass123 tempora...      1\n",
       "2      AND 1  =  utl_inaddr.get_host_address   (    (...      1\n",
       "3      select * from users where id  =  '1' or @ @1  ...      1\n",
       "4      select * from users where id  =  1 or 1#\"  (  ...      1\n",
       "...                                                  ...    ...\n",
       "30609              DELETE FROM door WHERE grow = 'small'      0\n",
       "30610                               DELETE FROM tomorrow      0\n",
       "30611                       SELECT wide ( s )  FROM west      0\n",
       "30612        SELECT * FROM  ( SELECT slide FROM breath )      0\n",
       "30613                           SELECT TOP 3 * FROM race      0\n",
       "\n",
       "[30600 rows x 2 columns]"
      ]
     },
     "execution_count": 8,
     "metadata": {},
     "output_type": "execute_result"
    }
   ],
   "source": [
    "train_data"
   ]
  },
  {
   "cell_type": "code",
   "execution_count": 9,
   "id": "111e57e4",
   "metadata": {},
   "outputs": [],
   "source": [
    "# 5. Tokenisation\n",
    "vocab_size = 15000\n",
    "tokenizer = Tokenizer(\n",
    "    num_words=vocab_size,\n",
    "    oov_token=\"<OOV>\",\n",
    "    filters='',        # Garde les caractères spéciaux\n",
    "    lower=False\n",
    ")\n",
    "tokenizer.fit_on_texts(train_data['Sentence'])\n"
   ]
  },
  {
   "cell_type": "code",
   "execution_count": 20,
   "id": "9e3f7643",
   "metadata": {},
   "outputs": [
    {
     "name": "stdout",
     "output_type": "stream",
     "text": [
      "                                                Sentence  Label\n",
      "0                      \" or pg_sleep  (  __TIME__  )  --      1\n",
      "1      create user name identified by pass123 tempora...      1\n",
      "2       AND 1  =  utl_inaddr.get_host_address   (    ...      1\n",
      "3       select * from users where id  =  '1' or @ @1 ...      1\n",
      "4       select * from users where id  =  1 or 1#\"  ( ...      1\n",
      "...                                                  ...    ...\n",
      "30609              DELETE FROM door WHERE grow = 'small'      0\n",
      "30610                               DELETE FROM tomorrow      0\n",
      "30611                       SELECT wide ( s )  FROM west      0\n",
      "30612       SELECT * FROM  ( SELECT slide FROM breath )       0\n",
      "30613                           SELECT TOP 3 * FROM race      0\n",
      "\n",
      "[30600 rows x 2 columns]\n"
     ]
    }
   ],
   "source": [
    "print(train_data)"
   ]
  },
  {
   "cell_type": "code",
   "execution_count": 10,
   "id": "ea0cadf3",
   "metadata": {},
   "outputs": [],
   "source": [
    "# 6. Séquences et padding\n",
    "max_len = int(np.percentile([len(x.split()) for x in train_data['Sentence']], 95))\n",
    "X = tokenizer.texts_to_sequences(train_data['Sentence'])\n",
    "X = pad_sequences(X, padding='post', maxlen=max_len)\n",
    "y = train_data['Label'].astype('int')\n"
   ]
  },
  {
   "cell_type": "code",
   "execution_count": 11,
   "id": "01949903",
   "metadata": {},
   "outputs": [],
   "source": [
    "# 7. Split train/val\n",
    "X_train, X_val, y_train, y_val = train_test_split(X, y, test_size=0.2, random_state=42)\n"
   ]
  },
  {
   "cell_type": "code",
   "execution_count": 12,
   "id": "96bf9336",
   "metadata": {},
   "outputs": [
    {
     "name": "stderr",
     "output_type": "stream",
     "text": [
      "c:\\Users\\ASUS ROG\\anaconda3\\Lib\\site-packages\\keras\\src\\layers\\core\\embedding.py:90: UserWarning: Argument `input_length` is deprecated. Just remove it.\n",
      "  warnings.warn(\n"
     ]
    }
   ],
   "source": [
    "# 8. Architecture du modèle LSTM\n",
    "embedding_dim = 256\n",
    "model = Sequential([\n",
    "    Embedding(input_dim=vocab_size, output_dim=embedding_dim, input_length=max_len),\n",
    "    LSTM(256, return_sequences=True),\n",
    "    Dropout(0.3),\n",
    "    LSTM(128),\n",
    "    Dense(64, activation='relu'),\n",
    "    Dense(1, activation='sigmoid')\n",
    "])"
   ]
  },
  {
   "cell_type": "code",
   "execution_count": 13,
   "id": "69410deb",
   "metadata": {},
   "outputs": [],
   "source": [
    "# 9. Compilation du modèle\n",
    "optimizer = optimizers.Adam(learning_rate=0.0001)\n",
    "model.compile(loss='binary_crossentropy', optimizer=optimizer, metrics=['accuracy'])\n"
   ]
  },
  {
   "cell_type": "code",
   "execution_count": 14,
   "id": "a836d141",
   "metadata": {},
   "outputs": [
    {
     "name": "stdout",
     "output_type": "stream",
     "text": [
      "Epoch 1/30\n",
      "\u001b[1m383/383\u001b[0m \u001b[32m━━━━━━━━━━━━━━━━━━━━\u001b[0m\u001b[37m\u001b[0m \u001b[1m121s\u001b[0m 243ms/step - accuracy: 0.8587 - loss: 0.2992 - val_accuracy: 0.9933 - val_loss: 0.0419\n",
      "Epoch 2/30\n",
      "\u001b[1m383/383\u001b[0m \u001b[32m━━━━━━━━━━━━━━━━━━━━\u001b[0m\u001b[37m\u001b[0m \u001b[1m93s\u001b[0m 242ms/step - accuracy: 0.9932 - loss: 0.0393 - val_accuracy: 0.9962 - val_loss: 0.0340\n",
      "Epoch 3/30\n",
      "\u001b[1m383/383\u001b[0m \u001b[32m━━━━━━━━━━━━━━━━━━━━\u001b[0m\u001b[37m\u001b[0m \u001b[1m88s\u001b[0m 231ms/step - accuracy: 0.9953 - loss: 0.0303 - val_accuracy: 0.9959 - val_loss: 0.0253\n",
      "Epoch 4/30\n",
      "\u001b[1m383/383\u001b[0m \u001b[32m━━━━━━━━━━━━━━━━━━━━\u001b[0m\u001b[37m\u001b[0m \u001b[1m94s\u001b[0m 245ms/step - accuracy: 0.9954 - loss: 0.0281 - val_accuracy: 0.9959 - val_loss: 0.0254\n",
      "Epoch 5/30\n",
      "\u001b[1m383/383\u001b[0m \u001b[32m━━━━━━━━━━━━━━━━━━━━\u001b[0m\u001b[37m\u001b[0m \u001b[1m113s\u001b[0m 296ms/step - accuracy: 0.9955 - loss: 0.0273 - val_accuracy: 0.9959 - val_loss: 0.0253\n",
      "Epoch 6/30\n",
      "\u001b[1m383/383\u001b[0m \u001b[32m━━━━━━━━━━━━━━━━━━━━\u001b[0m\u001b[37m\u001b[0m \u001b[1m110s\u001b[0m 287ms/step - accuracy: 0.9955 - loss: 0.0274 - val_accuracy: 0.9964 - val_loss: 0.0229\n",
      "Epoch 7/30\n",
      "\u001b[1m383/383\u001b[0m \u001b[32m━━━━━━━━━━━━━━━━━━━━\u001b[0m\u001b[37m\u001b[0m \u001b[1m105s\u001b[0m 273ms/step - accuracy: 0.9959 - loss: 0.0253 - val_accuracy: 0.9964 - val_loss: 0.0229\n",
      "Epoch 8/30\n",
      "\u001b[1m383/383\u001b[0m \u001b[32m━━━━━━━━━━━━━━━━━━━━\u001b[0m\u001b[37m\u001b[0m \u001b[1m90s\u001b[0m 235ms/step - accuracy: 0.9957 - loss: 0.0262 - val_accuracy: 0.9964 - val_loss: 0.0229\n",
      "Epoch 9/30\n",
      "\u001b[1m383/383\u001b[0m \u001b[32m━━━━━━━━━━━━━━━━━━━━\u001b[0m\u001b[37m\u001b[0m \u001b[1m199s\u001b[0m 519ms/step - accuracy: 0.9955 - loss: 0.0274 - val_accuracy: 0.9964 - val_loss: 0.0227\n",
      "Epoch 10/30\n",
      "\u001b[1m383/383\u001b[0m \u001b[32m━━━━━━━━━━━━━━━━━━━━\u001b[0m\u001b[37m\u001b[0m \u001b[1m124s\u001b[0m 324ms/step - accuracy: 0.9968 - loss: 0.0204 - val_accuracy: 0.9964 - val_loss: 0.0229\n",
      "Epoch 11/30\n",
      "\u001b[1m383/383\u001b[0m \u001b[32m━━━━━━━━━━━━━━━━━━━━\u001b[0m\u001b[37m\u001b[0m \u001b[1m141s\u001b[0m 369ms/step - accuracy: 0.9966 - loss: 0.0219 - val_accuracy: 0.9964 - val_loss: 0.0227\n",
      "Epoch 12/30\n",
      "\u001b[1m383/383\u001b[0m \u001b[32m━━━━━━━━━━━━━━━━━━━━\u001b[0m\u001b[37m\u001b[0m \u001b[1m134s\u001b[0m 350ms/step - accuracy: 0.9961 - loss: 0.0241 - val_accuracy: 0.9971 - val_loss: 0.0194\n",
      "Epoch 13/30\n",
      "\u001b[1m383/383\u001b[0m \u001b[32m━━━━━━━━━━━━━━━━━━━━\u001b[0m\u001b[37m\u001b[0m \u001b[1m128s\u001b[0m 335ms/step - accuracy: 0.9970 - loss: 0.0195 - val_accuracy: 0.9975 - val_loss: 0.0166\n",
      "Epoch 14/30\n",
      "\u001b[1m383/383\u001b[0m \u001b[32m━━━━━━━━━━━━━━━━━━━━\u001b[0m\u001b[37m\u001b[0m \u001b[1m126s\u001b[0m 327ms/step - accuracy: 0.9978 - loss: 0.0155 - val_accuracy: 0.9975 - val_loss: 0.0166\n",
      "Epoch 15/30\n",
      "\u001b[1m383/383\u001b[0m \u001b[32m━━━━━━━━━━━━━━━━━━━━\u001b[0m\u001b[37m\u001b[0m \u001b[1m135s\u001b[0m 353ms/step - accuracy: 0.9982 - loss: 0.0129 - val_accuracy: 0.9975 - val_loss: 0.0166\n",
      "Epoch 16/30\n",
      "\u001b[1m383/383\u001b[0m \u001b[32m━━━━━━━━━━━━━━━━━━━━\u001b[0m\u001b[37m\u001b[0m \u001b[1m157s\u001b[0m 409ms/step - accuracy: 0.9985 - loss: 0.0110 - val_accuracy: 0.9975 - val_loss: 0.0166\n",
      "Epoch 17/30\n",
      "\u001b[1m383/383\u001b[0m \u001b[32m━━━━━━━━━━━━━━━━━━━━\u001b[0m\u001b[37m\u001b[0m \u001b[1m218s\u001b[0m 451ms/step - accuracy: 0.9979 - loss: 0.0148 - val_accuracy: 0.9974 - val_loss: 0.0180\n",
      "Epoch 18/30\n",
      "\u001b[1m383/383\u001b[0m \u001b[32m━━━━━━━━━━━━━━━━━━━━\u001b[0m\u001b[37m\u001b[0m \u001b[1m108s\u001b[0m 281ms/step - accuracy: 0.9982 - loss: 0.0126 - val_accuracy: 0.9974 - val_loss: 0.0179\n",
      "Epoch 19/30\n",
      "\u001b[1m383/383\u001b[0m \u001b[32m━━━━━━━━━━━━━━━━━━━━\u001b[0m\u001b[37m\u001b[0m \u001b[1m74s\u001b[0m 194ms/step - accuracy: 0.9980 - loss: 0.0142 - val_accuracy: 0.9972 - val_loss: 0.0196\n",
      "Epoch 20/30\n",
      "\u001b[1m383/383\u001b[0m \u001b[32m━━━━━━━━━━━━━━━━━━━━\u001b[0m\u001b[37m\u001b[0m \u001b[1m72s\u001b[0m 189ms/step - accuracy: 0.9986 - loss: 0.0106 - val_accuracy: 0.9958 - val_loss: 0.0312\n",
      "Epoch 21/30\n",
      "\u001b[1m383/383\u001b[0m \u001b[32m━━━━━━━━━━━━━━━━━━━━\u001b[0m\u001b[37m\u001b[0m \u001b[1m73s\u001b[0m 190ms/step - accuracy: 0.9986 - loss: 0.0105 - val_accuracy: 0.9969 - val_loss: 0.0212\n",
      "Epoch 22/30\n",
      "\u001b[1m383/383\u001b[0m \u001b[32m━━━━━━━━━━━━━━━━━━━━\u001b[0m\u001b[37m\u001b[0m \u001b[1m74s\u001b[0m 192ms/step - accuracy: 0.9987 - loss: 0.0096 - val_accuracy: 0.9972 - val_loss: 0.0178\n",
      "Epoch 23/30\n",
      "\u001b[1m383/383\u001b[0m \u001b[32m━━━━━━━━━━━━━━━━━━━━\u001b[0m\u001b[37m\u001b[0m \u001b[1m75s\u001b[0m 195ms/step - accuracy: 0.9971 - loss: 0.0199 - val_accuracy: 0.9946 - val_loss: 0.0360\n",
      "Epoch 24/30\n",
      "\u001b[1m383/383\u001b[0m \u001b[32m━━━━━━━━━━━━━━━━━━━━\u001b[0m\u001b[37m\u001b[0m \u001b[1m74s\u001b[0m 194ms/step - accuracy: 0.9977 - loss: 0.0154 - val_accuracy: 0.9962 - val_loss: 0.0214\n",
      "Epoch 25/30\n",
      "\u001b[1m383/383\u001b[0m \u001b[32m━━━━━━━━━━━━━━━━━━━━\u001b[0m\u001b[37m\u001b[0m \u001b[1m74s\u001b[0m 194ms/step - accuracy: 0.9961 - loss: 0.0213 - val_accuracy: 0.9918 - val_loss: 0.0444\n",
      "Epoch 26/30\n",
      "\u001b[1m383/383\u001b[0m \u001b[32m━━━━━━━━━━━━━━━━━━━━\u001b[0m\u001b[37m\u001b[0m \u001b[1m74s\u001b[0m 193ms/step - accuracy: 0.9936 - loss: 0.0355 - val_accuracy: 0.9902 - val_loss: 0.0499\n",
      "Epoch 27/30\n",
      "\u001b[1m383/383\u001b[0m \u001b[32m━━━━━━━━━━━━━━━━━━━━\u001b[0m\u001b[37m\u001b[0m \u001b[1m73s\u001b[0m 190ms/step - accuracy: 0.9932 - loss: 0.0372 - val_accuracy: 0.9975 - val_loss: 0.0167\n",
      "Epoch 28/30\n",
      "\u001b[1m383/383\u001b[0m \u001b[32m━━━━━━━━━━━━━━━━━━━━\u001b[0m\u001b[37m\u001b[0m \u001b[1m74s\u001b[0m 194ms/step - accuracy: 0.9987 - loss: 0.0099 - val_accuracy: 0.9961 - val_loss: 0.0246\n",
      "Epoch 29/30\n",
      "\u001b[1m383/383\u001b[0m \u001b[32m━━━━━━━━━━━━━━━━━━━━\u001b[0m\u001b[37m\u001b[0m \u001b[1m73s\u001b[0m 189ms/step - accuracy: 0.9990 - loss: 0.0072 - val_accuracy: 0.9908 - val_loss: 0.0646\n",
      "Epoch 30/30\n",
      "\u001b[1m383/383\u001b[0m \u001b[32m━━━━━━━━━━━━━━━━━━━━\u001b[0m\u001b[37m\u001b[0m \u001b[1m75s\u001b[0m 195ms/step - accuracy: 0.9987 - loss: 0.0086 - val_accuracy: 0.9943 - val_loss: 0.0411\n"
     ]
    }
   ],
   "source": [
    "# 11. Entraînement\n",
    "history = model.fit(\n",
    "    X_train, y_train,\n",
    "    epochs=30,\n",
    "    batch_size=64,\n",
    "    validation_data=(X_val, y_val),\n",
    ")"
   ]
  },
  {
   "cell_type": "code",
   "execution_count": 15,
   "id": "a6028c84",
   "metadata": {},
   "outputs": [],
   "source": [
    "# 12. Préparation des données de test\n",
    "X_test = tokenizer.texts_to_sequences(test_data['Sentence'])\n",
    "X_test = pad_sequences(X_test, padding='post', maxlen=max_len)\n",
    "y_test = test_data['Label'].astype('int')\n"
   ]
  },
  {
   "cell_type": "code",
   "execution_count": 16,
   "id": "35da4a26",
   "metadata": {},
   "outputs": [
    {
     "name": "stdout",
     "output_type": "stream",
     "text": [
      "\u001b[1m1054/1054\u001b[0m \u001b[32m━━━━━━━━━━━━━━━━━━━━\u001b[0m\u001b[37m\u001b[0m \u001b[1m45s\u001b[0m 43ms/step - accuracy: 0.9577 - loss: 0.3111\n",
      "\n",
      "✅ Test Accuracy: 0.9817\n"
     ]
    }
   ],
   "source": [
    "# 13. Évaluation\n",
    "test_loss, test_accuracy = model.evaluate(X_test, y_test)\n",
    "print(f'\\n✅ Test Accuracy: {test_accuracy:.4f}')"
   ]
  },
  {
   "cell_type": "code",
   "execution_count": null,
   "id": "061d9d12",
   "metadata": {},
   "outputs": [
    {
     "name": "stdout",
     "output_type": "stream",
     "text": [
      "\n",
      "📌 Nombre total de requêtes spam dans test_data : 11424\n"
     ]
    }
   ],
   "source": [
    "from sklearn.metrics import classification_report\n",
    "\n",
    "# 1. Récupérer uniquement les lignes spam (Label = 1)\n",
    "sqli_only = test_data[test_data['Label'] == 1].copy()\n",
    "print(f\"\\n📌 Nombre total des injections sql dans test_data : {len(sqli_only)}\")"
   ]
  },
  {
   "cell_type": "code",
   "execution_count": 25,
   "id": "867a43ed",
   "metadata": {},
   "outputs": [],
   "source": [
    "# 2. Nettoyage si besoin\n",
    "sqli_only['Sentence'] = sqli_only['Sentence'].apply(clean_text)\n"
   ]
  },
  {
   "cell_type": "code",
   "execution_count": 26,
   "id": "c178b20d",
   "metadata": {},
   "outputs": [],
   "source": [
    "# 3. Tokenisation + Padding\n",
    "X_sqli = tokenizer.texts_to_sequences(sqli_only['Sentence'])\n",
    "X_sqli = pad_sequences(X_sqli, padding='post', maxlen=max_len)"
   ]
  },
  {
   "cell_type": "code",
   "execution_count": 27,
   "id": "fcbd1617",
   "metadata": {},
   "outputs": [
    {
     "name": "stdout",
     "output_type": "stream",
     "text": [
      "\u001b[1m357/357\u001b[0m \u001b[32m━━━━━━━━━━━━━━━━━━━━\u001b[0m\u001b[37m\u001b[0m \u001b[1m13s\u001b[0m 37ms/step\n"
     ]
    }
   ],
   "source": [
    "# 4. Prédiction\n",
    "sqli_preds = model.predict(X_sqli)\n",
    "sqli_preds_labels = (sqli_preds > 0.5).astype(int)"
   ]
  },
  {
   "cell_type": "code",
   "execution_count": 28,
   "id": "d6ae012e",
   "metadata": {},
   "outputs": [],
   "source": [
    "# 5. Calcul du nombre de spams correctement détectés\n",
    "true_positives = np.sum(sqli_preds_labels == 1)\n",
    "total_sqli = len(sqli_only)\n",
    "detection_rate = (true_positives / total_sqli) * 100"
   ]
  },
  {
   "cell_type": "code",
   "execution_count": null,
   "id": "57198f19",
   "metadata": {},
   "outputs": [
    {
     "name": "stdout",
     "output_type": "stream",
     "text": [
      "✅ Spams correctement détectés : 11368\n",
      "📊 Taux de détection : 99.51%\n"
     ]
    }
   ],
   "source": [
    "# 6. Affichage\n",
    "print(f\"✅ les injections correctement détectés : {true_positives}\")\n",
    "print(f\"📊 Taux de détection : {detection_rate:.2f}%\")\n"
   ]
  }
 ],
 "metadata": {
  "kernelspec": {
   "display_name": "base",
   "language": "python",
   "name": "python3"
  },
  "language_info": {
   "codemirror_mode": {
    "name": "ipython",
    "version": 3
   },
   "file_extension": ".py",
   "mimetype": "text/x-python",
   "name": "python",
   "nbconvert_exporter": "python",
   "pygments_lexer": "ipython3",
   "version": "3.12.7"
  }
 },
 "nbformat": 4,
 "nbformat_minor": 5
}
