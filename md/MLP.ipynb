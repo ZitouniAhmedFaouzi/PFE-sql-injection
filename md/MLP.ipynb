{
 "cells": [
  {
   "cell_type": "code",
   "execution_count": 2,
   "id": "ece4526e",
   "metadata": {},
   "outputs": [],
   "source": [
    "import pandas as pd\n",
    "import numpy as np\n",
    "import matplotlib.pyplot as plt\n",
    "from keras.models import Sequential\n",
    "from keras.layers import Dense\n",
    "from keras import optimizers, regularizers"
   ]
  },
  {
   "cell_type": "code",
   "execution_count": 3,
   "id": "b706aca3",
   "metadata": {},
   "outputs": [],
   "source": [
    "train=pd.read_csv('SQLIV3_cleaned2.csv')\n",
    "test=pd.read_csv('sqliv2_utf8.csv')\n"
   ]
  },
  {
   "cell_type": "code",
   "execution_count": 4,
   "id": "1f671035",
   "metadata": {},
   "outputs": [
    {
     "data": {
      "text/plain": [
       "Label\n",
       "0    19268\n",
       "1    11346\n",
       "Name: count, dtype: int64"
      ]
     },
     "execution_count": 4,
     "metadata": {},
     "output_type": "execute_result"
    }
   ],
   "source": [
    "train.Label.value_counts()\n"
   ]
  },
  {
   "cell_type": "code",
   "execution_count": 5,
   "id": "1a92254a",
   "metadata": {},
   "outputs": [],
   "source": [
    "hidden_units1=512\n",
    "hidden_units2=256\n",
    "hidden_units3=128\n",
    "learning_rate=0.01\n",
    "hidden_layer_act='relu'\n",
    "output_layer_act='sigmoid'\n",
    "no_epochs=27"
   ]
  },
  {
   "cell_type": "code",
   "execution_count": 6,
   "id": "10209a8d",
   "metadata": {},
   "outputs": [],
   "source": [
    "model = Sequential()\n"
   ]
  },
  {
   "cell_type": "code",
   "execution_count": 7,
   "id": "1c8f9edf",
   "metadata": {},
   "outputs": [],
   "source": [
    "\n",
    "model.add(Dense(hidden_units1, input_dim=3000, activation=hidden_layer_act))\n",
    "model.add(Dense(hidden_units2, activation=hidden_layer_act))\n",
    "model.add(Dense(hidden_units3, activation=hidden_layer_act))\n",
    "model.add(Dense(1, activation=output_layer_act))  # Couche de sortie"
   ]
  },
  {
   "cell_type": "code",
   "execution_count": 8,
   "id": "72f4d94f",
   "metadata": {},
   "outputs": [],
   "source": [
    "sgd=optimizers.SGD(learning_rate=learning_rate)\n",
    "model.compile(loss='binary_crossentropy',optimizer=sgd, metrics=['accuracy'])"
   ]
  },
  {
   "cell_type": "code",
   "execution_count": 9,
   "id": "1817fa42",
   "metadata": {},
   "outputs": [
    {
     "data": {
      "text/html": [
       "<div>\n",
       "<style scoped>\n",
       "    .dataframe tbody tr th:only-of-type {\n",
       "        vertical-align: middle;\n",
       "    }\n",
       "\n",
       "    .dataframe tbody tr th {\n",
       "        vertical-align: top;\n",
       "    }\n",
       "\n",
       "    .dataframe thead th {\n",
       "        text-align: right;\n",
       "    }\n",
       "</style>\n",
       "<table border=\"1\" class=\"dataframe\">\n",
       "  <thead>\n",
       "    <tr style=\"text-align: right;\">\n",
       "      <th></th>\n",
       "      <th>Sentence</th>\n",
       "      <th>Label</th>\n",
       "    </tr>\n",
       "  </thead>\n",
       "  <tbody>\n",
       "    <tr>\n",
       "      <th>0</th>\n",
       "      <td>\" or pg_sleep  (  __TIME__  )  --</td>\n",
       "      <td>1</td>\n",
       "    </tr>\n",
       "    <tr>\n",
       "      <th>1</th>\n",
       "      <td>create user name identified by pass123 tempora...</td>\n",
       "      <td>1</td>\n",
       "    </tr>\n",
       "    <tr>\n",
       "      <th>2</th>\n",
       "      <td>AND 1  =  utl_inaddr.get_host_address   (    ...</td>\n",
       "      <td>1</td>\n",
       "    </tr>\n",
       "    <tr>\n",
       "      <th>3</th>\n",
       "      <td>select * from users where id  =  '1' or @ @1 ...</td>\n",
       "      <td>1</td>\n",
       "    </tr>\n",
       "    <tr>\n",
       "      <th>4</th>\n",
       "      <td>select * from users where id  =  1 or 1#\"  ( ...</td>\n",
       "      <td>1</td>\n",
       "    </tr>\n",
       "  </tbody>\n",
       "</table>\n",
       "</div>"
      ],
      "text/plain": [
       "                                            Sentence  Label\n",
       "0                  \" or pg_sleep  (  __TIME__  )  --      1\n",
       "1  create user name identified by pass123 tempora...      1\n",
       "2   AND 1  =  utl_inaddr.get_host_address   (    ...      1\n",
       "3   select * from users where id  =  '1' or @ @1 ...      1\n",
       "4   select * from users where id  =  1 or 1#\"  ( ...      1"
      ]
     },
     "execution_count": 9,
     "metadata": {},
     "output_type": "execute_result"
    }
   ],
   "source": [
    "train.head()"
   ]
  },
  {
   "cell_type": "code",
   "execution_count": 10,
   "id": "e55965e4",
   "metadata": {},
   "outputs": [],
   "source": [
    "train_x = train['Sentence'].values\n",
    "train_y = train['Label'].values\n",
    "\n",
    "##test_x = test['Sentence'].values\n",
    "##test_y = test['Label'].values"
   ]
  },
  {
   "cell_type": "code",
   "execution_count": 11,
   "id": "78503cfc",
   "metadata": {},
   "outputs": [],
   "source": [
    "from sklearn.feature_extraction.text import TfidfVectorizer\n",
    "vectorizer = TfidfVectorizer(max_features=3000)\n",
    "train_x = vectorizer.fit_transform(train_x).toarray()\n",
    "\n"
   ]
  },
  {
   "cell_type": "code",
   "execution_count": 12,
   "id": "4d221dfe",
   "metadata": {},
   "outputs": [
    {
     "name": "stdout",
     "output_type": "stream",
     "text": [
      "Epoch 1/27\n",
      "766/766 - 6s - loss: 0.6534 - accuracy: 0.6032 - val_loss: 0.6056 - val_accuracy: 0.9989 - 6s/epoch - 8ms/step\n",
      "Epoch 2/27\n",
      "766/766 - 5s - loss: 0.4791 - accuracy: 0.8887 - val_loss: 0.3787 - val_accuracy: 0.9776 - 5s/epoch - 7ms/step\n",
      "Epoch 3/27\n",
      "766/766 - 5s - loss: 0.2065 - accuracy: 0.9447 - val_loss: 0.2058 - val_accuracy: 0.9621 - 5s/epoch - 6ms/step\n",
      "Epoch 4/27\n",
      "766/766 - 4s - loss: 0.1219 - accuracy: 0.9580 - val_loss: 0.1312 - val_accuracy: 0.9719 - 4s/epoch - 6ms/step\n",
      "Epoch 5/27\n",
      "766/766 - 5s - loss: 0.0919 - accuracy: 0.9657 - val_loss: 0.1235 - val_accuracy: 0.9677 - 5s/epoch - 7ms/step\n",
      "Epoch 6/27\n",
      "766/766 - 5s - loss: 0.0750 - accuracy: 0.9760 - val_loss: 0.0982 - val_accuracy: 0.9704 - 5s/epoch - 6ms/step\n",
      "Epoch 7/27\n",
      "766/766 - 4s - loss: 0.0637 - accuracy: 0.9824 - val_loss: 0.0473 - val_accuracy: 0.9842 - 4s/epoch - 6ms/step\n",
      "Epoch 8/27\n",
      "766/766 - 5s - loss: 0.0561 - accuracy: 0.9871 - val_loss: 0.0395 - val_accuracy: 0.9869 - 5s/epoch - 6ms/step\n",
      "Epoch 9/27\n",
      "766/766 - 5s - loss: 0.0504 - accuracy: 0.9897 - val_loss: 0.0436 - val_accuracy: 0.9845 - 5s/epoch - 7ms/step\n",
      "Epoch 10/27\n",
      "766/766 - 5s - loss: 0.0464 - accuracy: 0.9909 - val_loss: 0.0330 - val_accuracy: 0.9889 - 5s/epoch - 6ms/step\n",
      "Epoch 11/27\n",
      "766/766 - 5s - loss: 0.0435 - accuracy: 0.9918 - val_loss: 0.0246 - val_accuracy: 0.9927 - 5s/epoch - 6ms/step\n",
      "Epoch 12/27\n",
      "766/766 - 6s - loss: 0.0407 - accuracy: 0.9927 - val_loss: 0.0821 - val_accuracy: 0.9709 - 6s/epoch - 7ms/step\n",
      "Epoch 13/27\n",
      "766/766 - 5s - loss: 0.0391 - accuracy: 0.9927 - val_loss: 0.0193 - val_accuracy: 0.9948 - 5s/epoch - 6ms/step\n",
      "Epoch 14/27\n",
      "766/766 - 5s - loss: 0.0375 - accuracy: 0.9931 - val_loss: 0.0561 - val_accuracy: 0.9793 - 5s/epoch - 6ms/step\n",
      "Epoch 15/27\n",
      "766/766 - 5s - loss: 0.0364 - accuracy: 0.9935 - val_loss: 0.0160 - val_accuracy: 0.9958 - 5s/epoch - 7ms/step\n",
      "Epoch 16/27\n",
      "766/766 - 5s - loss: 0.0352 - accuracy: 0.9937 - val_loss: 0.0185 - val_accuracy: 0.9946 - 5s/epoch - 6ms/step\n",
      "Epoch 17/27\n",
      "766/766 - 5s - loss: 0.0343 - accuracy: 0.9938 - val_loss: 0.0201 - val_accuracy: 0.9935 - 5s/epoch - 6ms/step\n",
      "Epoch 18/27\n",
      "766/766 - 5s - loss: 0.0338 - accuracy: 0.9941 - val_loss: 0.0186 - val_accuracy: 0.9941 - 5s/epoch - 7ms/step\n",
      "Epoch 19/27\n",
      "766/766 - 5s - loss: 0.0331 - accuracy: 0.9940 - val_loss: 0.0292 - val_accuracy: 0.9892 - 5s/epoch - 7ms/step\n",
      "Epoch 20/27\n",
      "766/766 - 5s - loss: 0.0326 - accuracy: 0.9936 - val_loss: 0.0129 - val_accuracy: 0.9961 - 5s/epoch - 6ms/step\n",
      "Epoch 21/27\n",
      "766/766 - 5s - loss: 0.0324 - accuracy: 0.9943 - val_loss: 0.0190 - val_accuracy: 0.9931 - 5s/epoch - 6ms/step\n",
      "Epoch 22/27\n",
      "766/766 - 6s - loss: 0.0319 - accuracy: 0.9939 - val_loss: 0.0282 - val_accuracy: 0.9895 - 6s/epoch - 8ms/step\n",
      "Epoch 23/27\n",
      "766/766 - 5s - loss: 0.0316 - accuracy: 0.9941 - val_loss: 0.0163 - val_accuracy: 0.9946 - 5s/epoch - 6ms/step\n",
      "Epoch 24/27\n",
      "766/766 - 5s - loss: 0.0315 - accuracy: 0.9943 - val_loss: 0.0213 - val_accuracy: 0.9918 - 5s/epoch - 6ms/step\n",
      "Epoch 25/27\n",
      "766/766 - 6s - loss: 0.0311 - accuracy: 0.9942 - val_loss: 0.0187 - val_accuracy: 0.9930 - 6s/epoch - 7ms/step\n",
      "Epoch 26/27\n",
      "766/766 - 5s - loss: 0.0309 - accuracy: 0.9944 - val_loss: 0.0118 - val_accuracy: 0.9967 - 5s/epoch - 6ms/step\n",
      "Epoch 27/27\n",
      "766/766 - 5s - loss: 0.0305 - accuracy: 0.9944 - val_loss: 0.0280 - val_accuracy: 0.9895 - 5s/epoch - 6ms/step\n"
     ]
    }
   ],
   "source": [
    "history = model.fit(train_x, train_y, epochs=no_epochs, batch_size=32, verbose=2, validation_split=0.2)\n"
   ]
  },
  {
   "cell_type": "code",
   "execution_count": 13,
   "id": "f697cbfb",
   "metadata": {},
   "outputs": [
    {
     "name": "stdout",
     "output_type": "stream",
     "text": [
      "Final Training Loss: 0.030535968020558357\n",
      "Final Training Accuracy: 0.9943652749061584\n"
     ]
    }
   ],
   "source": [
    "# Affichage de la loss et accuracy après l'entraînement\n",
    "print(\"Final Training Loss:\", history.history['loss'][-1])\n",
    "print(\"Final Training Accuracy:\", history.history['accuracy'][-1])\n",
    "\n"
   ]
  },
  {
   "cell_type": "code",
   "execution_count": 14,
   "id": "243ce912",
   "metadata": {},
   "outputs": [
    {
     "data": {
      "image/png": "[encoded data removed]",
      "text/plain": [
       "<Figure size 640x480 with 1 Axes>"
      ]
     },
     "metadata": {},
     "output_type": "display_data"
    },
    {
     "data": {
      "image/png": "[encoded data removed]",
      "text/plain": [
       "<Figure size 640x480 with 1 Axes>"
      ]
     },
     "metadata": {},
     "output_type": "display_data"
    }
   ],
   "source": [
    "plt.plot(history.history['loss'], label='Train Loss')\n",
    "plt.plot(history.history['val_loss'], label='Validation Loss')\n",
    "plt.title('Loss over epochs')\n",
    "plt.xlabel('Epochs')\n",
    "plt.ylabel('Loss')\n",
    "plt.legend()\n",
    "plt.show()\n",
    "\n",
    "plt.plot(history.history['accuracy'], label='Train Accuracy')\n",
    "plt.plot(history.history['val_accuracy'], label='Validation Accuracy')\n",
    "plt.title('Accuracy over epochs')\n",
    "plt.xlabel('Epochs')\n",
    "plt.ylabel('Accuracy')\n",
    "plt.legend()\n",
    "plt.show()"
   ]
  },
  {
   "cell_type": "code",
   "execution_count": 15,
   "id": "2a49ac54",
   "metadata": {},
   "outputs": [
    {
     "name": "stdout",
     "output_type": "stream",
     "text": [
      "Sentence    3\n",
      "Label       0\n",
      "dtype: int64\n"
     ]
    }
   ],
   "source": [
    "test_x = test['Sentence'].values\n",
    "test_y = test['Label'].values\n",
    "print(test.isnull().sum())\n"
   ]
  },
  {
   "cell_type": "code",
   "execution_count": 16,
   "id": "d51147db",
   "metadata": {},
   "outputs": [],
   "source": [
    "test = test.dropna(subset=['Sentence'])\n",
    "\n"
   ]
  },
  {
   "cell_type": "code",
   "execution_count": 17,
   "id": "53e4097e",
   "metadata": {},
   "outputs": [],
   "source": [
    "# Filtrer les lignes où Label == 1\n",
    "filtered = test[test['Label'] == 1]\n",
    "\n",
    "# Récupérer les 1000 exemples dans test_x et test_y\n",
    "test_x = filtered['Sentence'].values\n",
    "test_y = filtered['Label'].values\n",
    "\n",
    "\n",
    "test_x = vectorizer.transform(test_x).toarray()"
   ]
  },
  {
   "cell_type": "code",
   "execution_count": 23,
   "id": "07b84aad",
   "metadata": {},
   "outputs": [
    {
     "name": "stdout",
     "output_type": "stream",
     "text": [
      "\u001b[1m358/358\u001b[0m \u001b[32m━━━━━━━━━━━━━━━━━━━━\u001b[0m\u001b[37m\u001b[0m \u001b[1m2s\u001b[0m 4ms/step\n"
     ]
    }
   ],
   "source": [
    "predictions = model.predict(test_x)\n"
   ]
  },
  {
   "cell_type": "code",
   "execution_count": 24,
   "id": "9c83e70b",
   "metadata": {},
   "outputs": [
    {
     "name": "stdout",
     "output_type": "stream",
     "text": [
      "[1 1 1 ... 1 1 1]\n"
     ]
    }
   ],
   "source": [
    "# Convertir les probabilités en classes binaires\n",
    "predicted_classes = (predictions >= 0.5).astype(int)\n",
    "\n",
    "# Afficher les 20 premières prédictions\n",
    "print(predicted_classes.flatten())\n"
   ]
  },
  {
   "cell_type": "code",
   "execution_count": 25,
   "id": "f955babb",
   "metadata": {},
   "outputs": [
    {
     "name": "stdout",
     "output_type": "stream",
     "text": [
      "Nombre de requêtes détectées comme SQL injection : 11314\n"
     ]
    }
   ],
   "source": [
    "# Compter le nombre de prédictions égales à 1\n",
    "nombre_de_sql_injections = (predicted_classes == 1).sum()\n",
    "\n",
    "print(f\"Nombre de requêtes détectées comme SQL injection : {nombre_de_sql_injections}\")\n"
   ]
  },
  {
   "cell_type": "code",
   "execution_count": 26,
   "id": "dc0e02ef",
   "metadata": {},
   "outputs": [
    {
     "data": {
      "text/plain": [
       "Label\n",
       "0    22304\n",
       "1    11453\n",
       "Name: count, dtype: int64"
      ]
     },
     "execution_count": 26,
     "metadata": {},
     "output_type": "execute_result"
    }
   ],
   "source": [
    "test.Label.value_counts()\n"
   ]
  },
  {
   "cell_type": "code",
   "execution_count": 27,
   "id": "4c585a5b",
   "metadata": {},
   "outputs": [
    {
     "name": "stdout",
     "output_type": "stream",
     "text": [
      "accuracy aprés tester avec le deuxiéme dataset avec les injection sql est = 0.9878634418929538\n"
     ]
    }
   ],
   "source": [
    "print(f\"accuracy aprés tester avec le deuxiéme dataset avec les injection sql est = {nombre_de_sql_injections/len(test_x)}\")"
   ]
  },
  {
   "cell_type": "code",
   "execution_count": 20,
   "id": "c81a6a25",
   "metadata": {},
   "outputs": [],
   "source": [
    "# Filtrer les lignes où Label == 1\n",
    "filtered2 = test[test['Label'] == 0]\n",
    "\n",
    "# Récupérer les 1000 exemples dans test_x et test_y\n",
    "test_x2 = filtered2['Sentence'].values\n",
    "test_y2 = filtered2['Label'].values\n",
    "\n",
    "\n",
    "test_x2 = vectorizer.transform(test_x2).toarray()"
   ]
  },
  {
   "cell_type": "code",
   "execution_count": 21,
   "id": "9b6c6e18",
   "metadata": {},
   "outputs": [
    {
     "name": "stdout",
     "output_type": "stream",
     "text": [
      "697/697 [==============================] - 2s 3ms/step\n"
     ]
    }
   ],
   "source": [
    "predictions2 = model.predict(test_x2)\n"
   ]
  },
  {
   "cell_type": "code",
   "execution_count": 22,
   "id": "4894c68e",
   "metadata": {},
   "outputs": [
    {
     "name": "stdout",
     "output_type": "stream",
     "text": [
      "[1 0 0 ... 0 0 0]\n"
     ]
    }
   ],
   "source": [
    "# Convertir les probabilités en classes binaires\n",
    "predicted_classes2 = (predictions2 >= 0.5).astype(int)\n",
    "\n",
    "# Afficher les 20 premières prédictions\n",
    "print(predicted_classes2.flatten())\n"
   ]
  },
  {
   "cell_type": "code",
   "execution_count": 23,
   "id": "96145c11",
   "metadata": {},
   "outputs": [
    {
     "name": "stdout",
     "output_type": "stream",
     "text": [
      "Nombre de requêtes non détectées comme SQL injection : 21969\n"
     ]
    }
   ],
   "source": [
    "# Compter le nombre de prédictions égales à 1\n",
    "nombre_de_non_sql_injections = (predicted_classes2 == 0).sum()\n",
    "\n",
    "print(f\"Nombre de requêtes non détectées comme SQL injection : {nombre_de_non_sql_injections}\")\n"
   ]
  },
  {
   "cell_type": "code",
   "execution_count": 24,
   "id": "629fee9e",
   "metadata": {},
   "outputs": [
    {
     "data": {
      "text/plain": [
       "Label\n",
       "0    22304\n",
       "1    11453\n",
       "Name: count, dtype: int64"
      ]
     },
     "execution_count": 24,
     "metadata": {},
     "output_type": "execute_result"
    }
   ],
   "source": [
    "test.Label.value_counts()\n"
   ]
  },
  {
   "cell_type": "code",
   "execution_count": 25,
   "id": "e8999433",
   "metadata": {},
   "outputs": [
    {
     "name": "stdout",
     "output_type": "stream",
     "text": [
      "accuracy apres testé avec le deuxiéme datset avec les non sql injection est =0.9849802725968436 \n"
     ]
    }
   ],
   "source": [
    "print(f\"accuracy apres testé avec le deuxiéme datset avec les non sql injection est ={nombre_de_non_sql_injections/len(test_x2)} \")"
   ]
  },
  {
   "cell_type": "code",
   "execution_count": null,
   "id": "6494ad82-f94c-4b8f-ab38-948b0523e21c",
   "metadata": {},
   "outputs": [],
   "source": []
  }
 ],
 "metadata": {
  "kernelspec": {
   "display_name": "Python 3 (ipykernel)",
   "language": "python",
   "name": "python3"
  },
  "language_info": {
   "codemirror_mode": {
    "name": "ipython",
    "version": 3
   },
   "file_extension": ".py",
   "mimetype": "text/x-python",
   "name": "python",
   "nbconvert_exporter": "python",
   "pygments_lexer": "ipython3",
   "version": "3.9.18"
  }
 },
 "nbformat": 4,
 "nbformat_minor": 5
}
