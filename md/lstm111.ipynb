{
 "cells": [
  {
   "cell_type": "code",
   "execution_count": 4,
   "id": "341d7f68-8c98-4351-9d89-6b894dc567b6",
   "metadata": {},
   "outputs": [],
   "source": [
    "import pandas as pd\n",
    "import numpy as np\n",
    "import re\n",
    "from keras.models import Sequential\n",
    "from keras.layers import LSTM, Dense, Dropout, Embedding\n",
    "from keras import optimizers\n",
    "from sklearn.model_selection import train_test_split\n",
    "from tensorflow.keras.preprocessing.text import Tokenizer\n",
    "from tensorflow.keras.preprocessing.sequence import pad_sequences\n",
    "from keras.callbacks import EarlyStopping, ReduceLROnPlateau"
   ]
  },
  {
   "cell_type": "code",
   "execution_count": 5,
   "id": "08768d3a-27c6-4b67-b91e-45a9a6e55ea1",
   "metadata": {},
   "outputs": [],
   "source": [
    "# 1. Chargement des données\n",
    "train_data = pd.read_csv('SQLIV3_cleaned2.csv')\n",
    "test_data = pd.read_csv('sqliv2_utf8.csv')\n"
   ]
  },
  {
   "cell_type": "code",
   "execution_count": 6,
   "id": "c84f687e-17f2-4bb7-ad3e-8db12c6bb08a",
   "metadata": {},
   "outputs": [
    {
     "name": "stdout",
     "output_type": "stream",
     "text": [
      "                                                Sentence  Label\n",
      "0                      \" or pg_sleep  (  __TIME__  )  --      1\n",
      "1      create user name identified by pass123 tempora...      1\n",
      "2       AND 1  =  utl_inaddr.get_host_address   (    ...      1\n",
      "3       select * from users where id  =  '1' or @ @1 ...      1\n",
      "4       select * from users where id  =  1 or 1#\"  ( ...      1\n",
      "...                                                  ...    ...\n",
      "30609              DELETE FROM door WHERE grow = 'small'      0\n",
      "30610                               DELETE FROM tomorrow      0\n",
      "30611                       SELECT wide ( s )  FROM west      0\n",
      "30612       SELECT * FROM  ( SELECT slide FROM breath )       0\n",
      "30613                           SELECT TOP 3 * FROM race      0\n",
      "\n",
      "[30614 rows x 2 columns]\n"
     ]
    }
   ],
   "source": [
    "print(train_data)"
   ]
  },
  {
   "cell_type": "code",
   "execution_count": 7,
   "id": "6c93df19-dcf0-4d39-92a6-99a42005c248",
   "metadata": {},
   "outputs": [
    {
     "data": {
      "text/plain": [
       "12"
      ]
     },
     "execution_count": 7,
     "metadata": {},
     "output_type": "execute_result"
    }
   ],
   "source": [
    "train_data.duplicated().sum()"
   ]
  },
  {
   "cell_type": "code",
   "execution_count": 8,
   "id": "6ad6fd6a-437f-4136-8055-f229bb2784d0",
   "metadata": {},
   "outputs": [],
   "source": [
    "# 2. Suppression des doublons (en gardant la première occurrence)\n",
    "train_data.drop_duplicates(subset='Sentence', keep='first', inplace=True)\n",
    "test_data.drop_duplicates(subset='Sentence', keep='first', inplace=True)\n",
    "\n"
   ]
  },
  {
   "cell_type": "code",
   "execution_count": 9,
   "id": "516fbe5e-1c28-4747-b36f-cdda3619b219",
   "metadata": {},
   "outputs": [
    {
     "data": {
      "text/plain": [
       "0"
      ]
     },
     "execution_count": 9,
     "metadata": {},
     "output_type": "execute_result"
    }
   ],
   "source": [
    "train_data.duplicated().sum()"
   ]
  },
  {
   "cell_type": "code",
   "execution_count": 10,
   "id": "f6b85053-6c8b-46fd-aabb-f292927fe958",
   "metadata": {},
   "outputs": [
    {
     "name": "stdout",
     "output_type": "stream",
     "text": [
      "Structure du train_data :\n",
      "<class 'pandas.core.frame.DataFrame'>\n",
      "Index: 30600 entries, 0 to 30613\n",
      "Data columns (total 2 columns):\n",
      " #   Column    Non-Null Count  Dtype \n",
      "---  ------    --------------  ----- \n",
      " 0   Sentence  30600 non-null  object\n",
      " 1   Label     30600 non-null  int64 \n",
      "dtypes: int64(1), object(1)\n",
      "memory usage: 717.2+ KB\n",
      "None\n",
      "\n",
      "Statistiques :\n",
      "                                 Sentence         Label\n",
      "count                               30600  30600.000000\n",
      "unique                              30600           NaN\n",
      "top     \" or pg_sleep  (  __TIME__  )  --           NaN\n",
      "freq                                    1           NaN\n",
      "mean                                  NaN      0.370654\n",
      "std                                   NaN      0.482988\n",
      "min                                   NaN      0.000000\n",
      "25%                                   NaN      0.000000\n",
      "50%                                   NaN      0.000000\n",
      "75%                                   NaN      1.000000\n",
      "max                                   NaN      1.000000\n",
      "\n",
      "Structure du test_data :\n",
      "<class 'pandas.core.frame.DataFrame'>\n",
      "Index: 33726 entries, 0 to 33759\n",
      "Data columns (total 2 columns):\n",
      " #   Column    Non-Null Count  Dtype \n",
      "---  ------    --------------  ----- \n",
      " 0   Sentence  33725 non-null  object\n",
      " 1   Label     33726 non-null  int64 \n",
      "dtypes: int64(1), object(1)\n",
      "memory usage: 790.5+ KB\n",
      "None\n"
     ]
    }
   ],
   "source": [
    "# 3. Affichage de la structure des datasets\n",
    "print(\"Structure du train_data :\")\n",
    "print(train_data.info())\n",
    "print(\"\\nStatistiques :\")\n",
    "print(train_data.describe(include='all'))\n",
    "\n",
    "print(\"\\nStructure du test_data :\")\n",
    "print(test_data.info())"
   ]
  },
  {
   "cell_type": "code",
   "execution_count": 11,
   "id": "8819b5f6-6ee6-4a50-92ef-f3580546e163",
   "metadata": {},
   "outputs": [],
   "source": [
    "# 4. Nettoyage minimal (on garde les caractères spéciaux)\n",
    "def clean_text(text):\n",
    "    return str(text).strip()\n",
    "\n",
    "train_data['Sentence'] = train_data['Sentence'].apply(clean_text)\n",
    "test_data['Sentence'] = test_data['Sentence'].apply(clean_text)"
   ]
  },
  {
   "cell_type": "code",
   "execution_count": 12,
   "id": "d9eaa2c9-ef51-4f7e-8eb5-64da4bce63f4",
   "metadata": {},
   "outputs": [
    {
     "data": {
      "text/html": [
       "<div>\n",
       "<style scoped>\n",
       "    .dataframe tbody tr th:only-of-type {\n",
       "        vertical-align: middle;\n",
       "    }\n",
       "\n",
       "    .dataframe tbody tr th {\n",
       "        vertical-align: top;\n",
       "    }\n",
       "\n",
       "    .dataframe thead th {\n",
       "        text-align: right;\n",
       "    }\n",
       "</style>\n",
       "<table border=\"1\" class=\"dataframe\">\n",
       "  <thead>\n",
       "    <tr style=\"text-align: right;\">\n",
       "      <th></th>\n",
       "      <th>Sentence</th>\n",
       "      <th>Label</th>\n",
       "    </tr>\n",
       "  </thead>\n",
       "  <tbody>\n",
       "    <tr>\n",
       "      <th>0</th>\n",
       "      <td>\" or pg_sleep  (  __TIME__  )  --</td>\n",
       "      <td>1</td>\n",
       "    </tr>\n",
       "    <tr>\n",
       "      <th>1</th>\n",
       "      <td>create user name identified by pass123 tempora...</td>\n",
       "      <td>1</td>\n",
       "    </tr>\n",
       "    <tr>\n",
       "      <th>2</th>\n",
       "      <td>AND 1  =  utl_inaddr.get_host_address   (    (...</td>\n",
       "      <td>1</td>\n",
       "    </tr>\n",
       "    <tr>\n",
       "      <th>3</th>\n",
       "      <td>select * from users where id  =  '1' or @ @1  ...</td>\n",
       "      <td>1</td>\n",
       "    </tr>\n",
       "    <tr>\n",
       "      <th>4</th>\n",
       "      <td>select * from users where id  =  1 or 1#\"  (  ...</td>\n",
       "      <td>1</td>\n",
       "    </tr>\n",
       "    <tr>\n",
       "      <th>...</th>\n",
       "      <td>...</td>\n",
       "      <td>...</td>\n",
       "    </tr>\n",
       "    <tr>\n",
       "      <th>30609</th>\n",
       "      <td>DELETE FROM door WHERE grow = 'small'</td>\n",
       "      <td>0</td>\n",
       "    </tr>\n",
       "    <tr>\n",
       "      <th>30610</th>\n",
       "      <td>DELETE FROM tomorrow</td>\n",
       "      <td>0</td>\n",
       "    </tr>\n",
       "    <tr>\n",
       "      <th>30611</th>\n",
       "      <td>SELECT wide ( s )  FROM west</td>\n",
       "      <td>0</td>\n",
       "    </tr>\n",
       "    <tr>\n",
       "      <th>30612</th>\n",
       "      <td>SELECT * FROM  ( SELECT slide FROM breath )</td>\n",
       "      <td>0</td>\n",
       "    </tr>\n",
       "    <tr>\n",
       "      <th>30613</th>\n",
       "      <td>SELECT TOP 3 * FROM race</td>\n",
       "      <td>0</td>\n",
       "    </tr>\n",
       "  </tbody>\n",
       "</table>\n",
       "<p>30600 rows × 2 columns</p>\n",
       "</div>"
      ],
      "text/plain": [
       "                                                Sentence  Label\n",
       "0                      \" or pg_sleep  (  __TIME__  )  --      1\n",
       "1      create user name identified by pass123 tempora...      1\n",
       "2      AND 1  =  utl_inaddr.get_host_address   (    (...      1\n",
       "3      select * from users where id  =  '1' or @ @1  ...      1\n",
       "4      select * from users where id  =  1 or 1#\"  (  ...      1\n",
       "...                                                  ...    ...\n",
       "30609              DELETE FROM door WHERE grow = 'small'      0\n",
       "30610                               DELETE FROM tomorrow      0\n",
       "30611                       SELECT wide ( s )  FROM west      0\n",
       "30612        SELECT * FROM  ( SELECT slide FROM breath )      0\n",
       "30613                           SELECT TOP 3 * FROM race      0\n",
       "\n",
       "[30600 rows x 2 columns]"
      ]
     },
     "execution_count": 12,
     "metadata": {},
     "output_type": "execute_result"
    }
   ],
   "source": [
    "train_data"
   ]
  },
  {
   "cell_type": "code",
   "execution_count": 13,
   "id": "3309dbb8-d044-4655-af63-8643e7a315a2",
   "metadata": {},
   "outputs": [],
   "source": [
    "# 5. Tokenisation\n",
    "vocab_size = 15000\n",
    "tokenizer = Tokenizer(\n",
    "    num_words=vocab_size,\n",
    "    oov_token=\"<OOV>\",\n",
    "    filters='',        # Garde les caractères spéciaux\n",
    "    lower=False\n",
    ")\n",
    "tokenizer.fit_on_texts(train_data['Sentence'])\n"
   ]
  },
  {
   "cell_type": "code",
   "execution_count": 14,
   "id": "1064fa88-4f45-4d5f-8224-d5c9d174c254",
   "metadata": {},
   "outputs": [
    {
     "name": "stdout",
     "output_type": "stream",
     "text": [
      "                                                Sentence  Label\n",
      "0                      \" or pg_sleep  (  __TIME__  )  --      1\n",
      "1      create user name identified by pass123 tempora...      1\n",
      "2      AND 1  =  utl_inaddr.get_host_address   (    (...      1\n",
      "3      select * from users where id  =  '1' or @ @1  ...      1\n",
      "4      select * from users where id  =  1 or 1#\"  (  ...      1\n",
      "...                                                  ...    ...\n",
      "30609              DELETE FROM door WHERE grow = 'small'      0\n",
      "30610                               DELETE FROM tomorrow      0\n",
      "30611                       SELECT wide ( s )  FROM west      0\n",
      "30612        SELECT * FROM  ( SELECT slide FROM breath )      0\n",
      "30613                           SELECT TOP 3 * FROM race      0\n",
      "\n",
      "[30600 rows x 2 columns]\n"
     ]
    }
   ],
   "source": [
    "print(train_data)"
   ]
  },
  {
   "cell_type": "code",
   "execution_count": 15,
   "id": "cdfa3d5c-7550-4560-a45e-685adea63418",
   "metadata": {},
   "outputs": [],
   "source": [
    "# 6. Séquences et padding\n",
    "max_len = int(np.percentile([len(x.split()) for x in train_data['Sentence']], 95))\n",
    "X = tokenizer.texts_to_sequences(train_data['Sentence'])\n",
    "X = pad_sequences(X, padding='post', maxlen=max_len)\n",
    "y = train_data['Label'].astype('int')\n"
   ]
  },
  {
   "cell_type": "code",
   "execution_count": 16,
   "id": "69183a6e-1cfc-46f9-857a-5c7f893c5fd5",
   "metadata": {},
   "outputs": [],
   "source": [
    "# 7. Split train/val\n",
    "X_train, X_val, y_train, y_val = train_test_split(X, y, test_size=0.2, random_state=42)\n"
   ]
  },
  {
   "cell_type": "code",
   "execution_count": 17,
   "id": "d9c39577-3b77-4532-a0db-82aaea41cd68",
   "metadata": {},
   "outputs": [],
   "source": [
    "# 8. Architecture du modèle LSTM\n",
    "embedding_dim = 256\n",
    "model = Sequential([\n",
    "    Embedding(input_dim=vocab_size, output_dim=embedding_dim, input_length=max_len),\n",
    "    LSTM(256, return_sequences=True),\n",
    "    Dropout(0.3),\n",
    "    LSTM(128),\n",
    "    Dense(64, activation='relu'),\n",
    "    Dense(1, activation='sigmoid')\n",
    "])"
   ]
  },
  {
   "cell_type": "code",
   "execution_count": 18,
   "id": "a9cd681a-e242-4811-8950-065bc3c019dc",
   "metadata": {},
   "outputs": [],
   "source": [
    "# 9. Compilation du modèle\n",
    "optimizer = optimizers.Adam(learning_rate=0.0001)\n",
    "model.compile(loss='binary_crossentropy', optimizer=optimizer, metrics=['accuracy'])\n"
   ]
  },
  {
   "cell_type": "code",
   "execution_count": 19,
   "id": "a3ed5019-1fe6-48a6-b905-fbcad7b0b795",
   "metadata": {},
   "outputs": [
    {
     "name": "stdout",
     "output_type": "stream",
     "text": [
      "Epoch 1/30\n",
      "383/383 [==============================] - 98s 240ms/step - loss: 0.1821 - accuracy: 0.9339 - val_loss: 0.0300 - val_accuracy: 0.9954\n",
      "Epoch 2/30\n",
      "383/383 [==============================] - 91s 239ms/step - loss: 0.0278 - accuracy: 0.9955 - val_loss: 0.0247 - val_accuracy: 0.9961\n",
      "Epoch 3/30\n",
      "383/383 [==============================] - 93s 242ms/step - loss: 0.0310 - accuracy: 0.9944 - val_loss: 0.1308 - val_accuracy: 0.9690\n",
      "Epoch 4/30\n",
      "383/383 [==============================] - 93s 243ms/step - loss: 0.0588 - accuracy: 0.9878 - val_loss: 0.0356 - val_accuracy: 0.9936\n",
      "Epoch 5/30\n",
      "383/383 [==============================] - 93s 244ms/step - loss: 0.0358 - accuracy: 0.9937 - val_loss: 0.0340 - val_accuracy: 0.9940\n",
      "Epoch 6/30\n",
      "383/383 [==============================] - 93s 243ms/step - loss: 0.0325 - accuracy: 0.9943 - val_loss: 0.0315 - val_accuracy: 0.9944\n",
      "Epoch 7/30\n",
      "383/383 [==============================] - 94s 245ms/step - loss: 0.0306 - accuracy: 0.9947 - val_loss: 0.0268 - val_accuracy: 0.9954\n",
      "Epoch 8/30\n",
      "383/383 [==============================] - 95s 248ms/step - loss: 0.0279 - accuracy: 0.9953 - val_loss: 0.0253 - val_accuracy: 0.9958\n",
      "Epoch 9/30\n",
      "383/383 [==============================] - 95s 248ms/step - loss: 0.0266 - accuracy: 0.9956 - val_loss: 0.0255 - val_accuracy: 0.9958\n",
      "Epoch 10/30\n",
      "383/383 [==============================] - 111s 291ms/step - loss: 0.0263 - accuracy: 0.9956 - val_loss: 0.0243 - val_accuracy: 0.9961\n",
      "Epoch 11/30\n",
      "383/383 [==============================] - 103s 269ms/step - loss: 0.0254 - accuracy: 0.9958 - val_loss: 0.0224 - val_accuracy: 0.9962\n",
      "Epoch 12/30\n",
      "383/383 [==============================] - 105s 274ms/step - loss: 0.0222 - accuracy: 0.9961 - val_loss: 0.0207 - val_accuracy: 0.9964\n",
      "Epoch 13/30\n",
      "383/383 [==============================] - 107s 278ms/step - loss: 0.0136 - accuracy: 0.9971 - val_loss: 0.0161 - val_accuracy: 0.9972\n",
      "Epoch 14/30\n",
      "383/383 [==============================] - 104s 270ms/step - loss: 0.0098 - accuracy: 0.9984 - val_loss: 0.0133 - val_accuracy: 0.9972\n",
      "Epoch 15/30\n",
      "383/383 [==============================] - 96s 251ms/step - loss: 0.0086 - accuracy: 0.9985 - val_loss: 0.0132 - val_accuracy: 0.9962\n",
      "Epoch 16/30\n",
      "383/383 [==============================] - 94s 244ms/step - loss: 0.0082 - accuracy: 0.9987 - val_loss: 0.0159 - val_accuracy: 0.9948\n",
      "Epoch 17/30\n",
      "383/383 [==============================] - 109s 285ms/step - loss: 0.0080 - accuracy: 0.9987 - val_loss: 0.0128 - val_accuracy: 0.9972\n",
      "Epoch 18/30\n",
      "383/383 [==============================] - 108s 283ms/step - loss: 0.0078 - accuracy: 0.9987 - val_loss: 0.0150 - val_accuracy: 0.9966\n",
      "Epoch 19/30\n",
      "383/383 [==============================] - 105s 274ms/step - loss: 0.0075 - accuracy: 0.9987 - val_loss: 0.0161 - val_accuracy: 0.9966\n",
      "Epoch 20/30\n",
      "383/383 [==============================] - 109s 286ms/step - loss: 0.0082 - accuracy: 0.9986 - val_loss: 0.0149 - val_accuracy: 0.9972\n",
      "Epoch 21/30\n",
      "383/383 [==============================] - 108s 283ms/step - loss: 0.0263 - accuracy: 0.9921 - val_loss: 0.0182 - val_accuracy: 0.9969\n",
      "Epoch 22/30\n",
      "383/383 [==============================] - 113s 294ms/step - loss: 0.0143 - accuracy: 0.9976 - val_loss: 0.0179 - val_accuracy: 0.9969\n",
      "Epoch 23/30\n",
      "383/383 [==============================] - 97s 253ms/step - loss: 0.0120 - accuracy: 0.9980 - val_loss: 0.0191 - val_accuracy: 0.9966\n",
      "Epoch 24/30\n",
      "383/383 [==============================] - 104s 271ms/step - loss: 0.0169 - accuracy: 0.9968 - val_loss: 0.0172 - val_accuracy: 0.9969\n",
      "Epoch 25/30\n",
      "383/383 [==============================] - 103s 269ms/step - loss: 0.0105 - accuracy: 0.9982 - val_loss: 0.0150 - val_accuracy: 0.9974\n",
      "Epoch 26/30\n",
      "383/383 [==============================] - 117s 306ms/step - loss: 0.0077 - accuracy: 0.9988 - val_loss: 0.0145 - val_accuracy: 0.9975\n",
      "Epoch 27/30\n",
      "383/383 [==============================] - 109s 285ms/step - loss: 0.0072 - accuracy: 0.9989 - val_loss: 0.0178 - val_accuracy: 0.9972\n",
      "Epoch 28/30\n",
      "383/383 [==============================] - 119s 311ms/step - loss: 0.0066 - accuracy: 0.9990 - val_loss: 0.0180 - val_accuracy: 0.9972\n",
      "Epoch 29/30\n",
      "383/383 [==============================] - 119s 312ms/step - loss: 0.0066 - accuracy: 0.9990 - val_loss: 0.0182 - val_accuracy: 0.9972\n",
      "Epoch 30/30\n",
      "383/383 [==============================] - 105s 275ms/step - loss: 0.0066 - accuracy: 0.9990 - val_loss: 0.0184 - val_accuracy: 0.9972\n"
     ]
    }
   ],
   "source": [
    "# 11. Entraînement\n",
    "history = model.fit(\n",
    "    X_train, y_train,\n",
    "    epochs=30,\n",
    "    batch_size=64,\n",
    "    validation_data=(X_val, y_val),\n",
    ")"
   ]
  },
  {
   "cell_type": "code",
   "execution_count": 20,
   "id": "d9a56bff-b99c-4eca-9ae5-537717202a36",
   "metadata": {},
   "outputs": [
    {
     "data": {
      "image/png": "[encoded data removed]",
      "text/plain": [
       "<Figure size 640x480 with 1 Axes>"
      ]
     },
     "metadata": {},
     "output_type": "display_data"
    },
    {
     "data": {
      "image/png": "[encoded data removed]",
      "text/plain": [
       "<Figure size 640x480 with 1 Axes>"
      ]
     },
     "metadata": {},
     "output_type": "display_data"
    }
   ],
   "source": [
    "import matplotlib.pyplot as plt\n",
    "plt.plot(history.history['loss'], label='Train Loss')\n",
    "plt.plot(history.history['val_loss'], label='Validation Loss')\n",
    "plt.title('Loss over epochs')\n",
    "plt.xlabel('Epochs')\n",
    "plt.ylabel('Loss')\n",
    "plt.legend()\n",
    "plt.show()\n",
    "\n",
    "plt.plot(history.history['accuracy'], label='Train Accuracy')\n",
    "plt.plot(history.history['val_accuracy'], label='Validation Accuracy')\n",
    "plt.title('Accuracy over epochs')\n",
    "plt.xlabel('Epochs')\n",
    "plt.ylabel('Accuracy')\n",
    "plt.legend()\n",
    "plt.show()"
   ]
  },
  {
   "cell_type": "code",
   "execution_count": 21,
   "id": "b08fb74d-d4ed-45f1-81bc-66f05e49345e",
   "metadata": {},
   "outputs": [
    {
     "name": "stdout",
     "output_type": "stream",
     "text": [
      "1054/1054 [==============================] - 52s 49ms/step - loss: 0.0481 - accuracy: 0.9945\n",
      "\n",
      "✅ Test Accuracy: 0.9945\n",
      "❌ Test Loss: 0.0481\n"
     ]
    }
   ],
   "source": [
    "X_test = tokenizer.texts_to_sequences(test_data['Sentence'])\n",
    "X_test = pad_sequences(X_test, padding='post', maxlen=max_len)\n",
    "y_test = test_data['Label'].astype('int')\n",
    "test_loss, test_accuracy = model.evaluate(X_test, y_test)\n",
    "print(f'\\n✅ Test Accuracy: {test_accuracy:.4f}')\n",
    "print(f'❌ Test Loss: {test_loss:.4f}')"
   ]
  },
  {
   "cell_type": "code",
   "execution_count": 22,
   "id": "11186d97-c576-480c-aa72-49cec0cdff6b",
   "metadata": {},
   "outputs": [
    {
     "name": "stdout",
     "output_type": "stream",
     "text": [
      "\n",
      "📌 Nombre total des injections SQL dans test_data : 11424\n",
      "357/357 [==============================] - 22s 58ms/step\n",
      "\n",
      "✅ Injections correctement détectées : 11360\n",
      "📊 Taux de détection : 99.44%\n",
      "\n",
      "🔍 Évaluation sur les requêtes SQL (Label = 1) :\n",
      "✅ Accuracy  : 99.44%\n",
      "✅ Precision : 100.00%\n",
      "✅ Recall    : 99.44%\n",
      "✅ F1 Score  : 99.72%\n"
     ]
    }
   ],
   "source": [
    "# 8. Évaluation sur les SQLi (label = 1 uniquement)\n",
    "from sklearn.metrics import precision_score, recall_score, f1_score, accuracy_score\n",
    "\n",
    "sqli_only = test_data[test_data['Label'] == 1].copy()\n",
    "print(f\"\\n📌 Nombre total des injections SQL dans test_data : {len(sqli_only)}\")\n",
    "\n",
    "# Nettoyage éventuel\n",
    "sqli_only['Sentence'] = sqli_only['Sentence'].apply(clean_text)\n",
    "\n",
    "# Tokenisation + Padding\n",
    "X_sqli = tokenizer.texts_to_sequences(sqli_only['Sentence'])\n",
    "X_sqli = pad_sequences(X_sqli, padding='post', maxlen=max_len)\n",
    "y_sqli_true = np.ones(len(sqli_only))  # Tous sont censés être des injections\n",
    "\n",
    "# Prédiction\n",
    "sqli_preds = model.predict(X_sqli)\n",
    "sqli_preds_labels = (sqli_preds > 0.5).astype(int)\n",
    "\n",
    "# Métriques\n",
    "true_positives = np.sum(sqli_preds_labels == 1)\n",
    "detection_rate = (true_positives / len(sqli_only)) * 100\n",
    "accuracy = accuracy_score(y_sqli_true, sqli_preds_labels)\n",
    "precision = precision_score(y_sqli_true, sqli_preds_labels)\n",
    "recall = recall_score(y_sqli_true, sqli_preds_labels)\n",
    "f1 = f1_score(y_sqli_true, sqli_preds_labels)\n",
    "\n",
    "# Affichage\n",
    "print(f\"\\n✅ Injections correctement détectées : {true_positives}\")\n",
    "print(f\"📊 Taux de détection : {detection_rate:.2f}%\")\n",
    "print(f\"\\n🔍 Évaluation sur les requêtes SQL (Label = 1) :\")\n",
    "print(f\"✅ Accuracy  : {accuracy * 100:.2f}%\")\n",
    "print(f\"✅ Precision : {precision * 100:.2f}%\")\n",
    "print(f\"✅ Recall    : {recall * 100:.2f}%\")\n",
    "print(f\"✅ F1 Score  : {f1 * 100:.2f}%\")"
   ]
  },
  {
   "cell_type": "code",
   "execution_count": 24,
   "id": "1e88ea8b-f233-4cd5-87f8-da3fd5f31a62",
   "metadata": {},
   "outputs": [
    {
     "name": "stdout",
     "output_type": "stream",
     "text": [
      "\n",
      "📌 Nombre total des requêtes normales dans test_data : 22302\n",
      "697/697 [==============================] - 29s 42ms/step\n",
      "\n",
      "📊 Évaluation sur les requêtes normales (Label = 0):\n",
      "✅ Accuracy : 99.46%\n",
      "✅ Precision : 100.00%\n",
      "✅ Recall : 99.46%\n",
      "✅ F1 Score : 99.73%\n"
     ]
    }
   ],
   "source": [
    "# 8. Évaluation sur les requêtes normales (label = 0 uniquement)\n",
    "from sklearn.metrics import precision_score, recall_score, f1_score, accuracy_score\n",
    "\n",
    "normal_only = test_data[test_data['Label'] == 0].copy()\n",
    "print(f\"\\n📌 Nombre total des requêtes normales dans test_data : {len(normal_only)}\")\n",
    "\n",
    "# Nettoyage éventuel\n",
    "normal_only['Sentence'] = normal_only['Sentence'].apply(clean_text)\n",
    "\n",
    "# Tokenisation + Padding\n",
    "X_normal = tokenizer.texts_to_sequences(normal_only['Sentence'])\n",
    "X_normal = pad_sequences(X_normal, padding='post', maxlen=max_len)\n",
    "y_normal_true = np.zeros(len(normal_only))  # Tous sont censés être des requêtes normales\n",
    "\n",
    "# Prédiction\n",
    "normal_preds = model.predict(X_normal)\n",
    "normal_preds_labels = (normal_preds > 0.5).astype(int)\n",
    "\n",
    "# Affichage des métriques\n",
    "print(\"\\n📊 Évaluation sur les requêtes normales (Label = 0):\")\n",
    "print(f\"✅ Accuracy : {accuracy_score(y_normal_true, normal_preds_labels) * 100:.2f}%\")\n",
    "print(f\"✅ Precision : {precision_score(y_normal_true, normal_preds_labels, pos_label=0, zero_division=0) * 100:.2f}%\")\n",
    "print(f\"✅ Recall : {recall_score(y_normal_true, normal_preds_labels, pos_label=0, zero_division=0) * 100:.2f}%\")\n",
    "print(f\"✅ F1 Score : {f1_score(y_normal_true, normal_preds_labels, pos_label=0, zero_division=0) * 100:.2f}%\")\n"
   ]
  },
  {
   "cell_type": "code",
   "execution_count": null,
   "id": "15f9b367-c26f-4f01-a698-749ac2fec068",
   "metadata": {},
   "outputs": [],
   "source": []
  }
 ],
 "metadata": {
  "kernelspec": {
   "display_name": "Python 3 (ipykernel)",
   "language": "python",
   "name": "python3"
  },
  "language_info": {
   "codemirror_mode": {
    "name": "ipython",
    "version": 3
   },
   "file_extension": ".py",
   "mimetype": "text/x-python",
   "name": "python",
   "nbconvert_exporter": "python",
   "pygments_lexer": "ipython3",
   "version": "3.9.18"
  }
 },
 "nbformat": 4,
 "nbformat_minor": 5
}
