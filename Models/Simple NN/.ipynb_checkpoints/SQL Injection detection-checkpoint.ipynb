{
 "cells": [
  {
   "cell_type": "code",
   "execution_count": 7,
   "id": "ece4526e",
   "metadata": {},
   "outputs": [],
   "source": [
    "import pandas as pd\n",
    "import numpy as np\n",
    "import matplotlib.pyplot as plt\n",
    "from keras.models import Sequential\n",
    "from keras.layers import Dense\n",
    "from keras import optimizers, regularizers"
   ]
  },
  {
   "cell_type": "code",
   "execution_count": 8,
   "id": "b706aca3",
   "metadata": {},
   "outputs": [],
   "source": [
    "train=pd.read_csv('SQLIV3_cleaned2.csv')\n",
    "test=pd.read_csv('sqliv2_utf8.csv')\n"
   ]
  },
  {
   "cell_type": "code",
   "execution_count": 9,
   "id": "1f671035",
   "metadata": {},
   "outputs": [
    {
     "data": {
      "text/plain": [
       "Label\n",
       "0    19268\n",
       "1    11346\n",
       "Name: count, dtype: int64"
      ]
     },
     "execution_count": 9,
     "metadata": {},
     "output_type": "execute_result"
    }
   ],
   "source": [
    "train.Label.value_counts()\n"
   ]
  },
  {
   "cell_type": "code",
   "execution_count": 10,
   "id": "1a92254a",
   "metadata": {},
   "outputs": [],
   "source": [
    "hidden_units1=512\n",
    "hidden_units2=256\n",
    "hidden_units3=128\n",
    "learning_rate=0.01\n",
    "hidden_layer_act='relu'\n",
    "output_layer_act='sigmoid'\n",
    "no_epochs=27"
   ]
  },
  {
   "cell_type": "code",
   "execution_count": 11,
   "id": "10209a8d",
   "metadata": {},
   "outputs": [],
   "source": [
    "model = Sequential()\n"
   ]
  },
  {
   "cell_type": "code",
   "execution_count": 12,
   "id": "1c8f9edf",
   "metadata": {},
   "outputs": [
    {
     "name": "stderr",
     "output_type": "stream",
     "text": [
      "c:\\Users\\ASUS ROG\\anaconda3\\Lib\\site-packages\\keras\\src\\layers\\core\\dense.py:87: UserWarning: Do not pass an `input_shape`/`input_dim` argument to a layer. When using Sequential models, prefer using an `Input(shape)` object as the first layer in the model instead.\n",
      "  super().__init__(activity_regularizer=activity_regularizer, **kwargs)\n"
     ]
    }
   ],
   "source": [
    "\n",
    "model.add(Dense(hidden_units1, input_dim=3000, activation=hidden_layer_act))\n",
    "model.add(Dense(hidden_units2, activation=hidden_layer_act))\n",
    "model.add(Dense(hidden_units3, activation=hidden_layer_act))\n",
    "model.add(Dense(1, activation=output_layer_act))  # Couche de sortie"
   ]
  },
  {
   "cell_type": "code",
   "execution_count": 13,
   "id": "72f4d94f",
   "metadata": {},
   "outputs": [],
   "source": [
    "sgd=optimizers.SGD(learning_rate=learning_rate)\n",
    "model.compile(loss='binary_crossentropy',optimizer=sgd, metrics=['accuracy'])"
   ]
  },
  {
   "cell_type": "code",
   "execution_count": 14,
   "id": "1817fa42",
   "metadata": {},
   "outputs": [
    {
     "data": {
      "text/html": [
       "<div>\n",
       "<style scoped>\n",
       "    .dataframe tbody tr th:only-of-type {\n",
       "        vertical-align: middle;\n",
       "    }\n",
       "\n",
       "    .dataframe tbody tr th {\n",
       "        vertical-align: top;\n",
       "    }\n",
       "\n",
       "    .dataframe thead th {\n",
       "        text-align: right;\n",
       "    }\n",
       "</style>\n",
       "<table border=\"1\" class=\"dataframe\">\n",
       "  <thead>\n",
       "    <tr style=\"text-align: right;\">\n",
       "      <th></th>\n",
       "      <th>Sentence</th>\n",
       "      <th>Label</th>\n",
       "    </tr>\n",
       "  </thead>\n",
       "  <tbody>\n",
       "    <tr>\n",
       "      <th>0</th>\n",
       "      <td>\" or pg_sleep  (  __TIME__  )  --</td>\n",
       "      <td>1</td>\n",
       "    </tr>\n",
       "    <tr>\n",
       "      <th>1</th>\n",
       "      <td>create user name identified by pass123 tempora...</td>\n",
       "      <td>1</td>\n",
       "    </tr>\n",
       "    <tr>\n",
       "      <th>2</th>\n",
       "      <td>AND 1  =  utl_inaddr.get_host_address   (    ...</td>\n",
       "      <td>1</td>\n",
       "    </tr>\n",
       "    <tr>\n",
       "      <th>3</th>\n",
       "      <td>select * from users where id  =  '1' or @ @1 ...</td>\n",
       "      <td>1</td>\n",
       "    </tr>\n",
       "    <tr>\n",
       "      <th>4</th>\n",
       "      <td>select * from users where id  =  1 or 1#\"  ( ...</td>\n",
       "      <td>1</td>\n",
       "    </tr>\n",
       "  </tbody>\n",
       "</table>\n",
       "</div>"
      ],
      "text/plain": [
       "                                            Sentence  Label\n",
       "0                  \" or pg_sleep  (  __TIME__  )  --      1\n",
       "1  create user name identified by pass123 tempora...      1\n",
       "2   AND 1  =  utl_inaddr.get_host_address   (    ...      1\n",
       "3   select * from users where id  =  '1' or @ @1 ...      1\n",
       "4   select * from users where id  =  1 or 1#\"  ( ...      1"
      ]
     },
     "execution_count": 14,
     "metadata": {},
     "output_type": "execute_result"
    }
   ],
   "source": [
    "train.head()"
   ]
  },
  {
   "cell_type": "code",
   "execution_count": 15,
   "id": "e55965e4",
   "metadata": {},
   "outputs": [],
   "source": [
    "train_x = train['Sentence'].values\n",
    "train_y = train['Label'].values\n",
    "\n",
    "##test_x = test['Sentence'].values\n",
    "##test_y = test['Label'].values"
   ]
  },
  {
   "cell_type": "code",
   "execution_count": 16,
   "id": "78503cfc",
   "metadata": {},
   "outputs": [],
   "source": [
    "from sklearn.feature_extraction.text import TfidfVectorizer\n",
    "vectorizer = TfidfVectorizer(max_features=3000)\n",
    "train_x = vectorizer.fit_transform(train_x).toarray()\n",
    "\n"
   ]
  },
  {
   "cell_type": "code",
   "execution_count": 17,
   "id": "4d221dfe",
   "metadata": {},
   "outputs": [
    {
     "name": "stdout",
     "output_type": "stream",
     "text": [
      "Epoch 1/27\n",
      "766/766 - 7s - 10ms/step - accuracy: 0.6468 - loss: 0.6659 - val_accuracy: 0.9998 - val_loss: 0.6301\n",
      "Epoch 2/27\n",
      "766/766 - 6s - 8ms/step - accuracy: 0.8717 - loss: 0.5605 - val_accuracy: 0.9301 - val_loss: 0.5533\n",
      "Epoch 3/27\n",
      "766/766 - 6s - 8ms/step - accuracy: 0.9372 - loss: 0.2756 - val_accuracy: 0.9775 - val_loss: 0.2265\n",
      "Epoch 4/27\n",
      "766/766 - 8s - 10ms/step - accuracy: 0.9555 - loss: 0.1401 - val_accuracy: 0.9747 - val_loss: 0.1459\n",
      "Epoch 5/27\n",
      "766/766 - 6s - 7ms/step - accuracy: 0.9630 - loss: 0.1009 - val_accuracy: 0.9786 - val_loss: 0.0906\n",
      "Epoch 6/27\n",
      "766/766 - 6s - 7ms/step - accuracy: 0.9716 - loss: 0.0805 - val_accuracy: 0.9786 - val_loss: 0.0745\n",
      "Epoch 7/27\n",
      "766/766 - 6s - 7ms/step - accuracy: 0.9800 - loss: 0.0675 - val_accuracy: 0.9766 - val_loss: 0.0740\n",
      "Epoch 8/27\n",
      "766/766 - 6s - 8ms/step - accuracy: 0.9857 - loss: 0.0588 - val_accuracy: 0.9716 - val_loss: 0.0898\n",
      "Epoch 9/27\n",
      "766/766 - 6s - 8ms/step - accuracy: 0.9891 - loss: 0.0521 - val_accuracy: 0.9833 - val_loss: 0.0457\n",
      "Epoch 10/27\n",
      "766/766 - 7s - 9ms/step - accuracy: 0.9909 - loss: 0.0475 - val_accuracy: 0.9845 - val_loss: 0.0421\n",
      "Epoch 11/27\n",
      "766/766 - 7s - 9ms/step - accuracy: 0.9922 - loss: 0.0442 - val_accuracy: 0.9904 - val_loss: 0.0287\n",
      "Epoch 12/27\n",
      "766/766 - 7s - 9ms/step - accuracy: 0.9920 - loss: 0.0414 - val_accuracy: 0.9878 - val_loss: 0.0314\n",
      "Epoch 13/27\n",
      "766/766 - 6s - 8ms/step - accuracy: 0.9929 - loss: 0.0393 - val_accuracy: 0.9904 - val_loss: 0.0280\n",
      "Epoch 14/27\n",
      "766/766 - 8s - 10ms/step - accuracy: 0.9932 - loss: 0.0378 - val_accuracy: 0.9936 - val_loss: 0.0221\n",
      "Epoch 15/27\n",
      "766/766 - 6s - 8ms/step - accuracy: 0.9931 - loss: 0.0365 - val_accuracy: 0.9946 - val_loss: 0.0201\n",
      "Epoch 16/27\n",
      "766/766 - 6s - 8ms/step - accuracy: 0.9936 - loss: 0.0352 - val_accuracy: 0.9972 - val_loss: 0.0139\n",
      "Epoch 17/27\n",
      "766/766 - 7s - 9ms/step - accuracy: 0.9936 - loss: 0.0349 - val_accuracy: 0.9938 - val_loss: 0.0205\n",
      "Epoch 18/27\n",
      "766/766 - 7s - 9ms/step - accuracy: 0.9936 - loss: 0.0339 - val_accuracy: 0.9940 - val_loss: 0.0194\n",
      "Epoch 19/27\n",
      "766/766 - 6s - 8ms/step - accuracy: 0.9941 - loss: 0.0330 - val_accuracy: 0.9943 - val_loss: 0.0178\n",
      "Epoch 20/27\n",
      "766/766 - 6s - 8ms/step - accuracy: 0.9939 - loss: 0.0327 - val_accuracy: 0.9964 - val_loss: 0.0150\n",
      "Epoch 21/27\n",
      "766/766 - 6s - 8ms/step - accuracy: 0.9939 - loss: 0.0322 - val_accuracy: 0.9348 - val_loss: 0.1801\n",
      "Epoch 22/27\n",
      "766/766 - 6s - 8ms/step - accuracy: 0.9942 - loss: 0.0318 - val_accuracy: 0.9917 - val_loss: 0.0229\n",
      "Epoch 23/27\n",
      "766/766 - 6s - 8ms/step - accuracy: 0.9941 - loss: 0.0316 - val_accuracy: 0.9943 - val_loss: 0.0167\n",
      "Epoch 24/27\n",
      "766/766 - 7s - 9ms/step - accuracy: 0.9944 - loss: 0.0313 - val_accuracy: 0.9936 - val_loss: 0.0184\n",
      "Epoch 25/27\n",
      "766/766 - 7s - 9ms/step - accuracy: 0.9942 - loss: 0.0310 - val_accuracy: 0.9956 - val_loss: 0.0146\n",
      "Epoch 26/27\n",
      "766/766 - 6s - 8ms/step - accuracy: 0.9940 - loss: 0.0307 - val_accuracy: 0.9954 - val_loss: 0.0152\n",
      "Epoch 27/27\n",
      "766/766 - 6s - 8ms/step - accuracy: 0.9941 - loss: 0.0304 - val_accuracy: 0.9909 - val_loss: 0.0229\n"
     ]
    }
   ],
   "source": [
    "history = model.fit(train_x, train_y, epochs=no_epochs, batch_size=32, verbose=2, validation_split=0.2)\n"
   ]
  },
  {
   "cell_type": "code",
   "execution_count": 18,
   "id": "f697cbfb",
   "metadata": {},
   "outputs": [
    {
     "name": "stdout",
     "output_type": "stream",
     "text": [
      "Final Training Loss: 0.030359432101249695\n",
      "Final Training Accuracy: 0.9940794706344604\n"
     ]
    }
   ],
   "source": [
    "# Affichage de la loss et accuracy après l'entraînement\n",
    "print(\"Final Training Loss:\", history.history['loss'][-1])\n",
    "print(\"Final Training Accuracy:\", history.history['accuracy'][-1])\n",
    "\n"
   ]
  },
  {
   "cell_type": "code",
   "execution_count": 19,
   "id": "243ce912",
   "metadata": {},
   "outputs": [
    {
     "data": {
      "image/png": "[encoded data removed]",
      "text/plain": [
       "<Figure size 640x480 with 1 Axes>"
      ]
     },
     "metadata": {},
     "output_type": "display_data"
    },
    {
     "data": {
      "image/png": "[encoded data removed]",
      "text/plain": [
       "<Figure size 640x480 with 1 Axes>"
      ]
     },
     "metadata": {},
     "output_type": "display_data"
    }
   ],
   "source": [
    "plt.plot(history.history['loss'], label='Train Loss')\n",
    "plt.plot(history.history['val_loss'], label='Validation Loss')\n",
    "plt.title('Loss over epochs')\n",
    "plt.xlabel('Epochs')\n",
    "plt.ylabel('Loss')\n",
    "plt.legend()\n",
    "plt.show()\n",
    "\n",
    "plt.plot(history.history['accuracy'], label='Train Accuracy')\n",
    "plt.plot(history.history['val_accuracy'], label='Validation Accuracy')\n",
    "plt.title('Accuracy over epochs')\n",
    "plt.xlabel('Epochs')\n",
    "plt.ylabel('Accuracy')\n",
    "plt.legend()\n",
    "plt.show()"
   ]
  },
  {
   "cell_type": "code",
   "execution_count": 20,
   "id": "2a49ac54",
   "metadata": {},
   "outputs": [
    {
     "name": "stdout",
     "output_type": "stream",
     "text": [
      "Sentence    3\n",
      "Label       0\n",
      "dtype: int64\n"
     ]
    }
   ],
   "source": [
    "test_x = test['Sentence'].values\n",
    "test_y = test['Label'].values\n",
    "print(test.isnull().sum())\n"
   ]
  },
  {
   "cell_type": "code",
   "execution_count": 21,
   "id": "d51147db",
   "metadata": {},
   "outputs": [],
   "source": [
    "test = test.dropna(subset=['Sentence'])\n",
    "\n"
   ]
  },
  {
   "cell_type": "code",
   "execution_count": 22,
   "id": "53e4097e",
   "metadata": {},
   "outputs": [],
   "source": [
    "# Filtrer les lignes où Label == 1\n",
    "filtered = test[test['Label'] == 1]\n",
    "\n",
    "# Récupérer les 1000 exemples dans test_x et test_y\n",
    "test_x = filtered['Sentence'].values\n",
    "test_y = filtered['Label'].values\n",
    "\n",
    "\n",
    "test_x = vectorizer.transform(test_x).toarray()"
   ]
  },
  {
   "cell_type": "code",
   "execution_count": 23,
   "id": "07b84aad",
   "metadata": {},
   "outputs": [
    {
     "name": "stdout",
     "output_type": "stream",
     "text": [
      "\u001b[1m358/358\u001b[0m \u001b[32m━━━━━━━━━━━━━━━━━━━━\u001b[0m\u001b[37m\u001b[0m \u001b[1m2s\u001b[0m 4ms/step\n"
     ]
    }
   ],
   "source": [
    "predictions = model.predict(test_x)\n"
   ]
  },
  {
   "cell_type": "code",
   "execution_count": 24,
   "id": "9c83e70b",
   "metadata": {},
   "outputs": [
    {
     "name": "stdout",
     "output_type": "stream",
     "text": [
      "[1 1 1 ... 1 1 1]\n"
     ]
    }
   ],
   "source": [
    "# Convertir les probabilités en classes binaires\n",
    "predicted_classes = (predictions >= 0.5).astype(int)\n",
    "\n",
    "# Afficher les 20 premières prédictions\n",
    "print(predicted_classes.flatten())\n"
   ]
  },
  {
   "cell_type": "code",
   "execution_count": 25,
   "id": "f955babb",
   "metadata": {},
   "outputs": [
    {
     "name": "stdout",
     "output_type": "stream",
     "text": [
      "Nombre de requêtes détectées comme SQL injection : 11314\n"
     ]
    }
   ],
   "source": [
    "# Compter le nombre de prédictions égales à 1\n",
    "nombre_de_sql_injections = (predicted_classes == 1).sum()\n",
    "\n",
    "print(f\"Nombre de requêtes détectées comme SQL injection : {nombre_de_sql_injections}\")\n"
   ]
  },
  {
   "cell_type": "code",
   "execution_count": 26,
   "id": "dc0e02ef",
   "metadata": {},
   "outputs": [
    {
     "data": {
      "text/plain": [
       "Label\n",
       "0    22304\n",
       "1    11453\n",
       "Name: count, dtype: int64"
      ]
     },
     "execution_count": 26,
     "metadata": {},
     "output_type": "execute_result"
    }
   ],
   "source": [
    "test.Label.value_counts()\n"
   ]
  },
  {
   "cell_type": "code",
   "execution_count": 27,
   "id": "4c585a5b",
   "metadata": {},
   "outputs": [
    {
     "name": "stdout",
     "output_type": "stream",
     "text": [
      "accuracy aprés tester avec le deuxiéme dataset avec les injection sql est = 0.9878634418929538\n"
     ]
    }
   ],
   "source": [
    "print(f\"accuracy aprés tester avec le deuxiéme dataset avec les injection sql est = {nombre_de_sql_injections/len(test_x)}\")"
   ]
  },
  {
   "cell_type": "code",
   "execution_count": 28,
   "id": "c81a6a25",
   "metadata": {},
   "outputs": [],
   "source": [
    "# Filtrer les lignes où Label == 1\n",
    "filtered2 = test[test['Label'] == 0]\n",
    "\n",
    "# Récupérer les 1000 exemples dans test_x et test_y\n",
    "test_x2 = filtered2['Sentence'].values\n",
    "test_y2 = filtered2['Label'].values\n",
    "\n",
    "\n",
    "test_x2 = vectorizer.transform(test_x2).toarray()"
   ]
  },
  {
   "cell_type": "code",
   "execution_count": 29,
   "id": "9b6c6e18",
   "metadata": {},
   "outputs": [
    {
     "name": "stdout",
     "output_type": "stream",
     "text": [
      "\u001b[1m697/697\u001b[0m \u001b[32m━━━━━━━━━━━━━━━━━━━━\u001b[0m\u001b[37m\u001b[0m \u001b[1m2s\u001b[0m 3ms/step\n"
     ]
    }
   ],
   "source": [
    "predictions2 = model.predict(test_x2)\n"
   ]
  },
  {
   "cell_type": "code",
   "execution_count": 30,
   "id": "4894c68e",
   "metadata": {},
   "outputs": [
    {
     "name": "stdout",
     "output_type": "stream",
     "text": [
      "[0 0 0 ... 0 0 0]\n"
     ]
    }
   ],
   "source": [
    "# Convertir les probabilités en classes binaires\n",
    "predicted_classes2 = (predictions2 >= 0.5).astype(int)\n",
    "\n",
    "# Afficher les 20 premières prédictions\n",
    "print(predicted_classes2.flatten())\n"
   ]
  },
  {
   "cell_type": "code",
   "execution_count": 31,
   "id": "96145c11",
   "metadata": {},
   "outputs": [
    {
     "name": "stdout",
     "output_type": "stream",
     "text": [
      "Nombre de requêtes non détectées comme SQL injection : 22053\n"
     ]
    }
   ],
   "source": [
    "# Compter le nombre de prédictions égales à 1\n",
    "nombre_de_non_sql_injections = (predicted_classes2 == 0).sum()\n",
    "\n",
    "print(f\"Nombre de requêtes non détectées comme SQL injection : {nombre_de_non_sql_injections}\")\n"
   ]
  },
  {
   "cell_type": "code",
   "execution_count": 32,
   "id": "629fee9e",
   "metadata": {},
   "outputs": [
    {
     "data": {
      "text/plain": [
       "Label\n",
       "0    22304\n",
       "1    11453\n",
       "Name: count, dtype: int64"
      ]
     },
     "execution_count": 32,
     "metadata": {},
     "output_type": "execute_result"
    }
   ],
   "source": [
    "test.Label.value_counts()\n"
   ]
  },
  {
   "cell_type": "code",
   "execution_count": 34,
   "id": "e8999433",
   "metadata": {},
   "outputs": [
    {
     "name": "stdout",
     "output_type": "stream",
     "text": [
      "accuracy apres testé avec le deuxiéme datset avec les non sql injection est =0.9887464131994261 \n"
     ]
    }
   ],
   "source": [
    "print(f\"accuracy apres testé avec le deuxiéme datset avec les non sql injection est ={nombre_de_non_sql_injections/len(test_x2)} \")"
   ]
  }
 ],
 "metadata": {
  "kernelspec": {
   "display_name": "base",
   "language": "python",
   "name": "python3"
  },
  "language_info": {
   "codemirror_mode": {
    "name": "ipython",
    "version": 3
   },
   "file_extension": ".py",
   "mimetype": "text/x-python",
   "name": "python",
   "nbconvert_exporter": "python",
   "pygments_lexer": "ipython3",
   "version": "3.12.7"
  }
 },
 "nbformat": 4,
 "nbformat_minor": 5
}
