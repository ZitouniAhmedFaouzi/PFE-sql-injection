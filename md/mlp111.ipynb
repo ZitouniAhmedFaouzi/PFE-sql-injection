{
 "cells": [
  {
   "cell_type": "code",
   "execution_count": 1,
   "id": "d7a3106a-daa7-42e0-bfa6-689ea9969cd0",
   "metadata": {},
   "outputs": [],
   "source": [
    "import pandas as pd\n",
    "import numpy as np\n",
    "import matplotlib.pyplot as plt\n",
    "from keras.models import Sequential\n",
    "from keras.layers import Dense\n",
    "from keras import optimizers, regularizers"
   ]
  },
  {
   "cell_type": "code",
   "execution_count": 2,
   "id": "d11b656b-df7b-49b0-84a7-c3a0a6f23aed",
   "metadata": {},
   "outputs": [],
   "source": [
    "train=pd.read_csv('SQLIV3_cleaned2.csv')\n",
    "test=pd.read_csv('sqliv2_utf8.csv')\n"
   ]
  },
  {
   "cell_type": "code",
   "execution_count": 3,
   "id": "75cf2f66-7b61-4d2d-b790-d4dd79f1c54f",
   "metadata": {},
   "outputs": [
    {
     "data": {
      "text/plain": [
       "Label\n",
       "0    19268\n",
       "1    11346\n",
       "Name: count, dtype: int64"
      ]
     },
     "execution_count": 3,
     "metadata": {},
     "output_type": "execute_result"
    }
   ],
   "source": [
    "train.Label.value_counts()\n"
   ]
  },
  {
   "cell_type": "code",
   "execution_count": 4,
   "id": "412073c3-1310-40fb-b4b3-0a28debc9847",
   "metadata": {},
   "outputs": [],
   "source": [
    "hidden_units1=512\n",
    "hidden_units2=256\n",
    "hidden_units3=128\n",
    "learning_rate=0.01\n",
    "hidden_layer_act='relu'\n",
    "output_layer_act='sigmoid'\n",
    "no_epochs=27"
   ]
  },
  {
   "cell_type": "code",
   "execution_count": 5,
   "id": "66a03633-c13c-459c-a8cc-c34b9a31d730",
   "metadata": {},
   "outputs": [],
   "source": [
    "model = Sequential()\n"
   ]
  },
  {
   "cell_type": "code",
   "execution_count": 6,
   "id": "e204224d-a150-489b-9427-3586a70bcb89",
   "metadata": {},
   "outputs": [],
   "source": [
    "\n",
    "model.add(Dense(hidden_units1, input_dim=3000, activation=hidden_layer_act))\n",
    "model.add(Dense(hidden_units2, activation=hidden_layer_act))\n",
    "model.add(Dense(hidden_units3, activation=hidden_layer_act))\n",
    "model.add(Dense(1, activation=output_layer_act))  # Couche de sortie"
   ]
  },
  {
   "cell_type": "code",
   "execution_count": 7,
   "id": "efe741ba-f8cb-420d-b7aa-689af9ea3f32",
   "metadata": {},
   "outputs": [],
   "source": [
    "sgd=optimizers.SGD(learning_rate=learning_rate)\n",
    "model.compile(loss='binary_crossentropy',optimizer=sgd, metrics=['accuracy'])"
   ]
  },
  {
   "cell_type": "code",
   "execution_count": 8,
   "id": "ce6059c8-7d31-432c-b70b-d8fbd1d634f1",
   "metadata": {},
   "outputs": [
    {
     "data": {
      "text/html": [
       "<div>\n",
       "<style scoped>\n",
       "    .dataframe tbody tr th:only-of-type {\n",
       "        vertical-align: middle;\n",
       "    }\n",
       "\n",
       "    .dataframe tbody tr th {\n",
       "        vertical-align: top;\n",
       "    }\n",
       "\n",
       "    .dataframe thead th {\n",
       "        text-align: right;\n",
       "    }\n",
       "</style>\n",
       "<table border=\"1\" class=\"dataframe\">\n",
       "  <thead>\n",
       "    <tr style=\"text-align: right;\">\n",
       "      <th></th>\n",
       "      <th>Sentence</th>\n",
       "      <th>Label</th>\n",
       "    </tr>\n",
       "  </thead>\n",
       "  <tbody>\n",
       "    <tr>\n",
       "      <th>0</th>\n",
       "      <td>\" or pg_sleep  (  __TIME__  )  --</td>\n",
       "      <td>1</td>\n",
       "    </tr>\n",
       "    <tr>\n",
       "      <th>1</th>\n",
       "      <td>create user name identified by pass123 tempora...</td>\n",
       "      <td>1</td>\n",
       "    </tr>\n",
       "    <tr>\n",
       "      <th>2</th>\n",
       "      <td>AND 1  =  utl_inaddr.get_host_address   (    ...</td>\n",
       "      <td>1</td>\n",
       "    </tr>\n",
       "    <tr>\n",
       "      <th>3</th>\n",
       "      <td>select * from users where id  =  '1' or @ @1 ...</td>\n",
       "      <td>1</td>\n",
       "    </tr>\n",
       "    <tr>\n",
       "      <th>4</th>\n",
       "      <td>select * from users where id  =  1 or 1#\"  ( ...</td>\n",
       "      <td>1</td>\n",
       "    </tr>\n",
       "  </tbody>\n",
       "</table>\n",
       "</div>"
      ],
      "text/plain": [
       "                                            Sentence  Label\n",
       "0                  \" or pg_sleep  (  __TIME__  )  --      1\n",
       "1  create user name identified by pass123 tempora...      1\n",
       "2   AND 1  =  utl_inaddr.get_host_address   (    ...      1\n",
       "3   select * from users where id  =  '1' or @ @1 ...      1\n",
       "4   select * from users where id  =  1 or 1#\"  ( ...      1"
      ]
     },
     "execution_count": 8,
     "metadata": {},
     "output_type": "execute_result"
    }
   ],
   "source": [
    "train.head()"
   ]
  },
  {
   "cell_type": "code",
   "execution_count": 9,
   "id": "878954f3-2e6a-466c-bcbd-6262f76a1ce0",
   "metadata": {},
   "outputs": [],
   "source": [
    "train_x = train['Sentence'].values\n",
    "train_y = train['Label'].values\n",
    "\n",
    "##test_x = test['Sentence'].values\n",
    "##test_y = test['Label'].values"
   ]
  },
  {
   "cell_type": "code",
   "execution_count": 10,
   "id": "65a2be1b-3646-44cc-9e87-370f43872943",
   "metadata": {},
   "outputs": [],
   "source": [
    "from sklearn.feature_extraction.text import TfidfVectorizer\n",
    "vectorizer = TfidfVectorizer(max_features=3000)\n",
    "train_x = vectorizer.fit_transform(train_x).toarray()\n",
    "\n"
   ]
  },
  {
   "cell_type": "code",
   "execution_count": 11,
   "id": "c63bcaa0-3606-4d24-a966-76e02f79a0e3",
   "metadata": {},
   "outputs": [
    {
     "name": "stdout",
     "output_type": "stream",
     "text": [
      "Epoch 1/27\n",
      "766/766 - 7s - loss: 0.6669 - accuracy: 0.6583 - val_loss: 0.6484 - val_accuracy: 0.9990 - 7s/epoch - 10ms/step\n",
      "Epoch 2/27\n",
      "766/766 - 9s - loss: 0.5621 - accuracy: 0.8846 - val_loss: 0.5423 - val_accuracy: 0.9525 - 9s/epoch - 11ms/step\n",
      "Epoch 3/27\n",
      "766/766 - 7s - loss: 0.2797 - accuracy: 0.9375 - val_loss: 0.2430 - val_accuracy: 0.9699 - 7s/epoch - 9ms/step\n",
      "Epoch 4/27\n",
      "766/766 - 8s - loss: 0.1409 - accuracy: 0.9557 - val_loss: 0.1804 - val_accuracy: 0.9595 - 8s/epoch - 10ms/step\n",
      "Epoch 5/27\n",
      "766/766 - 6s - loss: 0.1012 - accuracy: 0.9633 - val_loss: 0.0876 - val_accuracy: 0.9806 - 6s/epoch - 8ms/step\n",
      "Epoch 6/27\n",
      "766/766 - 6s - loss: 0.0806 - accuracy: 0.9724 - val_loss: 0.0831 - val_accuracy: 0.9770 - 6s/epoch - 8ms/step\n",
      "Epoch 7/27\n",
      "766/766 - 7s - loss: 0.0679 - accuracy: 0.9795 - val_loss: 0.0661 - val_accuracy: 0.9784 - 7s/epoch - 9ms/step\n",
      "Epoch 8/27\n",
      "766/766 - 6s - loss: 0.0591 - accuracy: 0.9851 - val_loss: 0.0382 - val_accuracy: 0.9892 - 6s/epoch - 8ms/step\n",
      "Epoch 9/27\n",
      "766/766 - 7s - loss: 0.0528 - accuracy: 0.9887 - val_loss: 0.0644 - val_accuracy: 0.9780 - 7s/epoch - 9ms/step\n",
      "Epoch 10/27\n",
      "766/766 - 8s - loss: 0.0480 - accuracy: 0.9901 - val_loss: 0.0286 - val_accuracy: 0.9912 - 8s/epoch - 10ms/step\n",
      "Epoch 11/27\n",
      "766/766 - 8s - loss: 0.0444 - accuracy: 0.9915 - val_loss: 0.0320 - val_accuracy: 0.9891 - 8s/epoch - 10ms/step\n",
      "Epoch 12/27\n",
      "766/766 - 5s - loss: 0.0420 - accuracy: 0.9923 - val_loss: 0.0535 - val_accuracy: 0.9817 - 5s/epoch - 6ms/step\n",
      "Epoch 13/27\n",
      "766/766 - 4s - loss: 0.0401 - accuracy: 0.9925 - val_loss: 0.0271 - val_accuracy: 0.9910 - 4s/epoch - 6ms/step\n",
      "Epoch 14/27\n",
      "766/766 - 5s - loss: 0.0381 - accuracy: 0.9931 - val_loss: 0.0219 - val_accuracy: 0.9930 - 5s/epoch - 7ms/step\n",
      "Epoch 15/27\n",
      "766/766 - 5s - loss: 0.0368 - accuracy: 0.9930 - val_loss: 0.0230 - val_accuracy: 0.9927 - 5s/epoch - 6ms/step\n",
      "Epoch 16/27\n",
      "766/766 - 5s - loss: 0.0359 - accuracy: 0.9934 - val_loss: 0.0244 - val_accuracy: 0.9920 - 5s/epoch - 6ms/step\n",
      "Epoch 17/27\n",
      "766/766 - 5s - loss: 0.0349 - accuracy: 0.9935 - val_loss: 0.0210 - val_accuracy: 0.9927 - 5s/epoch - 6ms/step\n",
      "Epoch 18/27\n",
      "766/766 - 5s - loss: 0.0339 - accuracy: 0.9936 - val_loss: 0.0207 - val_accuracy: 0.9931 - 5s/epoch - 7ms/step\n",
      "Epoch 19/27\n",
      "766/766 - 5s - loss: 0.0334 - accuracy: 0.9938 - val_loss: 0.0142 - val_accuracy: 0.9959 - 5s/epoch - 6ms/step\n",
      "Epoch 20/27\n",
      "766/766 - 5s - loss: 0.0326 - accuracy: 0.9940 - val_loss: 0.0331 - val_accuracy: 0.9868 - 5s/epoch - 6ms/step\n",
      "Epoch 21/27\n",
      "766/766 - 6s - loss: 0.0322 - accuracy: 0.9941 - val_loss: 0.0190 - val_accuracy: 0.9938 - 6s/epoch - 7ms/step\n",
      "Epoch 22/27\n",
      "766/766 - 5s - loss: 0.0317 - accuracy: 0.9940 - val_loss: 0.0731 - val_accuracy: 0.9753 - 5s/epoch - 6ms/step\n",
      "Epoch 23/27\n",
      "766/766 - 5s - loss: 0.0316 - accuracy: 0.9939 - val_loss: 0.0113 - val_accuracy: 0.9972 - 5s/epoch - 6ms/step\n",
      "Epoch 24/27\n",
      "766/766 - 5s - loss: 0.0312 - accuracy: 0.9945 - val_loss: 0.0213 - val_accuracy: 0.9927 - 5s/epoch - 7ms/step\n",
      "Epoch 25/27\n",
      "766/766 - 5s - loss: 0.0310 - accuracy: 0.9945 - val_loss: 0.0544 - val_accuracy: 0.9811 - 5s/epoch - 7ms/step\n",
      "Epoch 26/27\n",
      "766/766 - 5s - loss: 0.0309 - accuracy: 0.9944 - val_loss: 0.0544 - val_accuracy: 0.9807 - 5s/epoch - 6ms/step\n",
      "Epoch 27/27\n",
      "766/766 - 5s - loss: 0.0306 - accuracy: 0.9943 - val_loss: 0.0212 - val_accuracy: 0.9927 - 5s/epoch - 7ms/step\n"
     ]
    }
   ],
   "source": [
    "history = model.fit(train_x, train_y, epochs=no_epochs, batch_size=32, verbose=2, validation_split=0.2)\n"
   ]
  },
  {
   "cell_type": "code",
   "execution_count": 13,
   "id": "a8a51b22-e514-4235-b334-acba5ad1a549",
   "metadata": {},
   "outputs": [
    {
     "name": "stdout",
     "output_type": "stream",
     "text": [
      "Final Training Loss: 0.03064076416194439\n",
      "Final Training Accuracy: 0.9942836165428162\n"
     ]
    }
   ],
   "source": [
    "# Affichage de la loss et accuracy après l'entraînement\n",
    "print(\"Final Training Loss:\", history.history['loss'][-1])\n",
    "print(\"Final Training Accuracy:\", history.history['accuracy'][-1])\n",
    "\n"
   ]
  },
  {
   "cell_type": "code",
   "execution_count": 14,
   "id": "2e66b4b5-4d1e-470b-8367-aa7e0a4c49b3",
   "metadata": {},
   "outputs": [
    {
     "data": {
      "image/png": "[encoded data removed]",
      "text/plain": [
       "<Figure size 640x480 with 1 Axes>"
      ]
     },
     "metadata": {},
     "output_type": "display_data"
    },
    {
     "data": {
      "image/png": "[encoded data removed]",
      "text/plain": [
       "<Figure size 640x480 with 1 Axes>"
      ]
     },
     "metadata": {},
     "output_type": "display_data"
    }
   ],
   "source": [
    "plt.plot(history.history['loss'], label='Train Loss')\n",
    "plt.plot(history.history['val_loss'], label='Validation Loss')\n",
    "plt.title('Loss over epochs')\n",
    "plt.xlabel('Epochs')\n",
    "plt.ylabel('Loss')\n",
    "plt.legend()\n",
    "plt.show()\n",
    "\n",
    "plt.plot(history.history['accuracy'], label='Train Accuracy')\n",
    "plt.plot(history.history['val_accuracy'], label='Validation Accuracy')\n",
    "plt.title('Accuracy over epochs')\n",
    "plt.xlabel('Epochs')\n",
    "plt.ylabel('Accuracy')\n",
    "plt.legend()\n",
    "plt.show()"
   ]
  },
  {
   "cell_type": "code",
   "execution_count": 15,
   "id": "c01ac1ed-4d2b-4220-b02e-3d0af1fdda71",
   "metadata": {},
   "outputs": [
    {
     "name": "stdout",
     "output_type": "stream",
     "text": [
      "Sentence    3\n",
      "Label       0\n",
      "dtype: int64\n"
     ]
    }
   ],
   "source": [
    "test_x = test['Sentence'].values\n",
    "test_y = test['Label'].values\n",
    "print(test.isnull().sum())\n"
   ]
  },
  {
   "cell_type": "code",
   "execution_count": 16,
   "id": "930b3f21-dbbb-4b3b-8366-0b9e4f4b5a3b",
   "metadata": {},
   "outputs": [],
   "source": [
    "test = test.dropna(subset=['Sentence'])\n",
    "\n"
   ]
  },
  {
   "cell_type": "code",
   "execution_count": 17,
   "id": "665b1c51-7a84-4866-bec7-3bd66bfefe3e",
   "metadata": {},
   "outputs": [],
   "source": [
    "# Filtrer les lignes où Label == 1\n",
    "filtered = test[test['Label'] == 1]\n",
    "\n",
    "# Supprimer les doublons en gardant la première occurrence\n",
    "filtered = filtered.drop_duplicates(subset='Sentence', keep='first')\n",
    "\n",
    "# Récupérer les 1000 exemples dans test_x et test_y\n",
    "test_x = filtered['Sentence'].values\n",
    "test_y = filtered['Label'].values\n",
    "\n",
    "test_x = vectorizer.transform(test_x).toarray()\n"
   ]
  },
  {
   "cell_type": "code",
   "execution_count": 18,
   "id": "6354d79b-8cde-4c95-a6bf-c8090c7bd681",
   "metadata": {},
   "outputs": [
    {
     "name": "stdout",
     "output_type": "stream",
     "text": [
      "357/357 [==============================] - 1s 4ms/step\n"
     ]
    }
   ],
   "source": [
    "predictions = model.predict(test_x)\n"
   ]
  },
  {
   "cell_type": "code",
   "execution_count": 19,
   "id": "297b89a0-c9d5-4be6-bd80-3863920a4afd",
   "metadata": {},
   "outputs": [
    {
     "name": "stdout",
     "output_type": "stream",
     "text": [
      "[1 1 1 ... 1 1 1]\n"
     ]
    }
   ],
   "source": [
    "# Convertir les probabilités en classes binaires\n",
    "predicted_classes = (predictions >= 0.5).astype(int)\n",
    "\n",
    "# Afficher les 20 premières prédictions\n",
    "print(predicted_classes.flatten())\n"
   ]
  },
  {
   "cell_type": "code",
   "execution_count": 26,
   "id": "897b8dbb-f912-4179-8751-8523a26d65b9",
   "metadata": {},
   "outputs": [
    {
     "name": "stdout",
     "output_type": "stream",
     "text": [
      "Nombre de requêtes détectées comme SQL injection : 11287\n"
     ]
    }
   ],
   "source": [
    "# Compter le nombre de prédictions égales à 1\n",
    "nombre_de_sql_injections = (predicted_classes == 1).sum()\n",
    "\n",
    "print(f\"Nombre de requêtes détectées comme SQL injection : {nombre_de_sql_injections}\")\n"
   ]
  },
  {
   "cell_type": "code",
   "execution_count": 27,
   "id": "ea613088-a76a-48cc-9a08-862965a0179c",
   "metadata": {},
   "outputs": [
    {
     "data": {
      "text/plain": [
       "Label\n",
       "0    22304\n",
       "1    11453\n",
       "Name: count, dtype: int64"
      ]
     },
     "execution_count": 27,
     "metadata": {},
     "output_type": "execute_result"
    }
   ],
   "source": [
    "test.Label.value_counts()\n"
   ]
  },
  {
   "cell_type": "code",
   "execution_count": 29,
   "id": "567d18ee-2f71-4c95-8939-08a1a2bd5dd4",
   "metadata": {},
   "outputs": [
    {
     "name": "stdout",
     "output_type": "stream",
     "text": [
      "Nombre de requêtes détectées comme SQL injection : 11287 / 11424\n",
      "Accuracy après test avec le dataset filtré (SQL injections) : 98.80%\n",
      "Precision : 100.00%\n",
      "Recall : 98.80%\n",
      "F1 Score : 99.40%\n"
     ]
    }
   ],
   "source": [
    "from sklearn.metrics import accuracy_score, precision_score, recall_score, f1_score\n",
    "\n",
    "\n",
    "print(f\"Nombre de requêtes détectées comme SQL injection : {nombre_de_sql_injections} / {len(test_x)}\")\n",
    "print(f\"Accuracy après test avec le dataset filtré (SQL injections) : {accuracy_score(test_y, predicted_classes) * 100:.2f}%\")\n",
    "print(f\"Precision : {precision_score(test_y, predicted_classes, zero_division=0) * 100:.2f}%\")\n",
    "print(f\"Recall : {recall_score(test_y, predicted_classes, zero_division=0) * 100:.2f}%\")\n",
    "print(f\"F1 Score : {f1_score(test_y, predicted_classes, zero_division=0) * 100:.2f}%\")\n"
   ]
  },
  {
   "cell_type": "code",
   "execution_count": 30,
   "id": "304fecda-0937-4a24-aa21-84d571fdf73b",
   "metadata": {},
   "outputs": [],
   "source": [
    "# Filtrer les lignes où Label == 1\n",
    "filtered2 = test[test['Label'] == 0]\n",
    "filtered2 = filtered.drop_duplicates(subset='Sentence', keep='first')\n",
    "\n",
    "# Récupérer les 1000 exemples dans test_x et test_y\n",
    "test_x2 = filtered2['Sentence'].values\n",
    "test_y2 = filtered2['Label'].values\n",
    "\n",
    "\n",
    "test_x2 = vectorizer.transform(test_x2).toarray()"
   ]
  },
  {
   "cell_type": "code",
   "execution_count": 31,
   "id": "5219941a-913d-4dd9-a76c-d06ec9f6b6a4",
   "metadata": {},
   "outputs": [
    {
     "name": "stdout",
     "output_type": "stream",
     "text": [
      "357/357 [==============================] - 1s 3ms/step\n"
     ]
    }
   ],
   "source": [
    "predictions2 = model.predict(test_x2)\n"
   ]
  },
  {
   "cell_type": "code",
   "execution_count": 32,
   "id": "7ed7e654-891b-4e0c-98ce-2a5dcb61b884",
   "metadata": {},
   "outputs": [
    {
     "name": "stdout",
     "output_type": "stream",
     "text": [
      "[1 1 1 ... 1 1 1]\n"
     ]
    }
   ],
   "source": [
    "# Convertir les probabilités en classes binaires\n",
    "predicted_classes2 = (predictions2 >= 0.5).astype(int)\n",
    "\n",
    "# Afficher les 20 premières prédictions\n",
    "print(predicted_classes2.flatten())\n"
   ]
  },
  {
   "cell_type": "code",
   "execution_count": 33,
   "id": "963574de-32e1-4ec0-b4a4-326ad42c5cb9",
   "metadata": {},
   "outputs": [
    {
     "name": "stdout",
     "output_type": "stream",
     "text": [
      "Nombre de requêtes non détectées comme SQL injection : 137\n"
     ]
    }
   ],
   "source": [
    "# Compter le nombre de prédictions égales à 1\n",
    "nombre_de_non_sql_injections = (predicted_classes2 == 0).sum()\n",
    "\n",
    "print(f\"Nombre de requêtes non détectées comme SQL injection : {nombre_de_non_sql_injections}\")\n"
   ]
  },
  {
   "cell_type": "code",
   "execution_count": 34,
   "id": "bb432528-9479-4823-b496-f56738fd048e",
   "metadata": {},
   "outputs": [
    {
     "data": {
      "text/plain": [
       "Label\n",
       "0    22304\n",
       "1    11453\n",
       "Name: count, dtype: int64"
      ]
     },
     "execution_count": 34,
     "metadata": {},
     "output_type": "execute_result"
    }
   ],
   "source": [
    "test.Label.value_counts()\n"
   ]
  },
  {
   "cell_type": "code",
   "execution_count": 35,
   "id": "60db187a-b337-4f13-a841-58e326b643f2",
   "metadata": {},
   "outputs": [
    {
     "name": "stdout",
     "output_type": "stream",
     "text": [
      "accuracy apres testé avec le deuxiéme datset avec les non sql injection est =0.011992296918767508 \n"
     ]
    }
   ],
   "source": [
    "print(f\"accuracy apres testé avec le deuxiéme datset avec les non sql injection est ={nombre_de_non_sql_injections/len(test_x2)} \")"
   ]
  },
  {
   "cell_type": "code",
   "execution_count": 81,
   "id": "647ed4f8-56b8-4b6e-aba5-d6bd32bd704f",
   "metadata": {},
   "outputs": [
    {
     "name": "stdout",
     "output_type": "stream",
     "text": [
      "Nombre de requêtes détectées comme NON SQL injection : 22148 / 22304\n",
      "Accuracy après test avec le dataset des NON-SQL : 99.30%\n",
      "Precision : 100.00%\n",
      "Recall : 99.30%\n",
      "F1 Score : 99.65%\n"
     ]
    }
   ],
   "source": [
    "\n",
    "\n",
    "\n",
    "\n",
    "print(f\"Nombre de requêtes détectées comme NON SQL injection : {nombre_de_non_sql_injections} / {len(test_x2)}\")\n",
    "\n",
    "# 8. Afficher l’accuracy (et éventuellement d'autres métriques)\n",
    "print(f\"Accuracy après test avec le dataset des NON-SQL : {accuracy_score(test_y2, predicted_classes2) * 100:.2f}%\")\n",
    "print(f\"Precision : {precision_score(test_y2, predicted_classes2, zero_division=0, pos_label=0) * 100:.2f}%\")\n",
    "print(f\"Recall : {recall_score(test_y2, predicted_classes2, zero_division=0, pos_label=0) * 100:.2f}%\")\n",
    "print(f\"F1 Score : {f1_score(test_y2, predicted_classes2, zero_division=0, pos_label=0) * 100:.2f}%\")\n"
   ]
  },
  {
   "cell_type": "code",
   "execution_count": null,
   "id": "52674efe-96dc-4d99-bc50-81dc058abceb",
   "metadata": {},
   "outputs": [],
   "source": []
  },
  {
   "cell_type": "code",
   "execution_count": null,
   "id": "2e33af35-8df6-4c90-810c-e0167fba272c",
   "metadata": {},
   "outputs": [],
   "source": []
  },
  {
   "cell_type": "code",
   "execution_count": null,
   "id": "db444f14-e471-435b-a26c-2d7c85f89105",
   "metadata": {},
   "outputs": [],
   "source": []
  },
  {
   "cell_type": "code",
   "execution_count": null,
   "id": "aa71cef6-44b9-44cb-a324-afea5ad76b98",
   "metadata": {},
   "outputs": [],
   "source": []
  },
  {
   "cell_type": "code",
   "execution_count": null,
   "id": "9e1dc4f8-f872-42ac-b464-7ba63c1f2604",
   "metadata": {},
   "outputs": [],
   "source": []
  }
 ],
 "metadata": {
  "kernelspec": {
   "display_name": "Python 3 (ipykernel)",
   "language": "python",
   "name": "python3"
  },
  "language_info": {
   "codemirror_mode": {
    "name": "ipython",
    "version": 3
   },
   "file_extension": ".py",
   "mimetype": "text/x-python",
   "name": "python",
   "nbconvert_exporter": "python",
   "pygments_lexer": "ipython3",
   "version": "3.9.18"
  }
 },
 "nbformat": 4,
 "nbformat_minor": 5
}
