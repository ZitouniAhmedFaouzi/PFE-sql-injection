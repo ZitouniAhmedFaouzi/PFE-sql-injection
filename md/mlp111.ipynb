{
  "cells": [
    {
      "cell_type": "markdown",
      "id": "0f1171e1",
      "metadata": {
        "id": "0f1171e1"
      },
      "source": [
        "#### Importing the libraries"
      ]
    },
    {
      "cell_type": "code",
      "execution_count": 60,
      "id": "d7a3106a-daa7-42e0-bfa6-689ea9969cd0",
      "metadata": {
        "id": "d7a3106a-daa7-42e0-bfa6-689ea9969cd0"
      },
      "outputs": [],
      "source": [
        "import pandas as pd\n",
        "import numpy as np\n",
        "import matplotlib.pyplot as plt\n",
        "from keras.models import Sequential\n",
        "from keras.layers import Dense\n",
        "from keras import optimizers, regularizers\n",
        "import matplotlib.colors as mcolors\n",
        "import seaborn as sns\n",
        "from keras.callbacks import EarlyStopping, ReduceLROnPlateau"
      ]
    },
    {
      "cell_type": "markdown",
      "id": "563e938b",
      "metadata": {
        "id": "563e938b"
      },
      "source": [
        "#### loading and displaying the datasets"
      ]
    },
    {
      "cell_type": "code",
      "execution_count": 61,
      "id": "d11b656b-df7b-49b0-84a7-c3a0a6f23aed",
      "metadata": {
        "colab": {
          "base_uri": "https://localhost:8080/"
        },
        "id": "d11b656b-df7b-49b0-84a7-c3a0a6f23aed",
        "outputId": "222d24b8-447b-430b-ba46-ef7089f8c102"
      },
      "outputs": [
        {
          "output_type": "stream",
          "name": "stdout",
          "text": [
            "                                                Sentence  Label\n",
            "0                      \" or pg_sleep  (  __TIME__  )  --      1\n",
            "1      create user name identified by pass123 tempora...      1\n",
            "2       AND 1  =  utl_inaddr.get_host_address   (    ...      1\n",
            "3       select * from users where id  =  '1' or @ @1 ...      1\n",
            "4       select * from users where id  =  1 or 1#\"  ( ...      1\n",
            "...                                                  ...    ...\n",
            "30609              DELETE FROM door WHERE grow = 'small'      0\n",
            "30610                               DELETE FROM tomorrow      0\n",
            "30611                       SELECT wide ( s )  FROM west      0\n",
            "30612       SELECT * FROM  ( SELECT slide FROM breath )       0\n",
            "30613                           SELECT TOP 3 * FROM race      0\n",
            "\n",
            "[30614 rows x 2 columns]\n"
          ]
        }
      ],
      "source": [
        "train=pd.read_csv('/content/SQLIV3_cleaned2.csv')\n",
        "test=pd.read_csv('/content/sqliv2_utf8.csv')\n",
        "print(train)"
      ]
    },
    {
      "cell_type": "code",
      "execution_count": 62,
      "id": "75cf2f66-7b61-4d2d-b790-d4dd79f1c54f",
      "metadata": {
        "colab": {
          "base_uri": "https://localhost:8080/",
          "height": 178
        },
        "id": "75cf2f66-7b61-4d2d-b790-d4dd79f1c54f",
        "outputId": "f319c466-7d7a-4b86-e6cb-a821ebc2e3be"
      },
      "outputs": [
        {
          "output_type": "execute_result",
          "data": {
            "text/plain": [
              "Label\n",
              "0    19268\n",
              "1    11346\n",
              "Name: count, dtype: int64"
            ],
            "text/html": [
              "<div>\n",
              "<style scoped>\n",
              "    .dataframe tbody tr th:only-of-type {\n",
              "        vertical-align: middle;\n",
              "    }\n",
              "\n",
              "    .dataframe tbody tr th {\n",
              "        vertical-align: top;\n",
              "    }\n",
              "\n",
              "    .dataframe thead th {\n",
              "        text-align: right;\n",
              "    }\n",
              "</style>\n",
              "<table border=\"1\" class=\"dataframe\">\n",
              "  <thead>\n",
              "    <tr style=\"text-align: right;\">\n",
              "      <th></th>\n",
              "      <th>count</th>\n",
              "    </tr>\n",
              "    <tr>\n",
              "      <th>Label</th>\n",
              "      <th></th>\n",
              "    </tr>\n",
              "  </thead>\n",
              "  <tbody>\n",
              "    <tr>\n",
              "      <th>0</th>\n",
              "      <td>19268</td>\n",
              "    </tr>\n",
              "    <tr>\n",
              "      <th>1</th>\n",
              "      <td>11346</td>\n",
              "    </tr>\n",
              "  </tbody>\n",
              "</table>\n",
              "</div><br><label><b>dtype:</b> int64</label>"
            ]
          },
          "metadata": {},
          "execution_count": 62
        }
      ],
      "source": [
        "train.Label.value_counts()\n"
      ]
    },
    {
      "cell_type": "markdown",
      "id": "4c7c6c72",
      "metadata": {
        "id": "4c7c6c72"
      },
      "source": [
        "#### 'Label' Data Distribution\n"
      ]
    },
    {
      "cell_type": "code",
      "execution_count": 63,
      "id": "c3a76e13",
      "metadata": {
        "colab": {
          "base_uri": "https://localhost:8080/",
          "height": 639
        },
        "id": "c3a76e13",
        "outputId": "5186d735-d889-443b-c3a5-091e36a5fc9d"
      },
      "outputs": [
        {
          "output_type": "stream",
          "name": "stderr",
          "text": [
            "<ipython-input-63-3937f5fac716>:7: FutureWarning: \n",
            "\n",
            "Passing `palette` without assigning `hue` is deprecated and will be removed in v0.14.0. Assign the `x` variable to `hue` and set `legend=False` for the same effect.\n",
            "\n",
            "  sns.countplot(x='Label', data=train, ax=ax[1], palette=colors)\n",
            "<ipython-input-63-3937f5fac716>:7: UserWarning: The palette list has more values (10) than needed (2), which may not be intended.\n",
            "  sns.countplot(x='Label', data=train, ax=ax[1], palette=colors)\n"
          ]
        },
        {
          "output_type": "execute_result",
          "data": {
            "text/plain": [
              "Text(0.5, 1.0, 'Label')"
            ]
          },
          "metadata": {},
          "execution_count": 63
        },
        {
          "output_type": "display_data",
          "data": {
            "text/plain": [
              "<Figure size 1200x800 with 2 Axes>"
            ],
            "image/png": "[encoded data removed]"
          },
          "metadata": {}
        }
      ],
      "source": [
        "f, ax = plt.subplots(1, 2, figsize=(12, 8))\n",
        "colors = list(mcolors.TABLEAU_COLORS.values())\n",
        "train['Label'].value_counts().plot.pie(explode=[0, 0.1], autopct='%1.1f%%', ax=ax[0], wedgeprops={'edgecolor': 'white', 'linewidth': 2, 'antialiased': True}, colors=colors)\n",
        "\n",
        "ax[0].set_title('Label')\n",
        "ax[0].set_ylabel('')\n",
        "sns.countplot(x='Label', data=train, ax=ax[1], palette=colors)\n",
        "ax[1].set_title('Label')"
      ]
    },
    {
      "cell_type": "markdown",
      "id": "5d6f0549",
      "metadata": {
        "id": "5d6f0549"
      },
      "source": [
        "#### Model Configuration"
      ]
    },
    {
      "cell_type": "code",
      "execution_count": 64,
      "id": "412073c3-1310-40fb-b4b3-0a28debc9847",
      "metadata": {
        "id": "412073c3-1310-40fb-b4b3-0a28debc9847"
      },
      "outputs": [],
      "source": [
        "hidden_units1=512\n",
        "hidden_units2=256\n",
        "hidden_units3=128\n",
        "learning_rate=0.01\n",
        "hidden_layer_act='relu'\n",
        "output_layer_act='sigmoid'\n",
        "no_epochs=27"
      ]
    },
    {
      "cell_type": "code",
      "execution_count": 65,
      "id": "e204224d-a150-489b-9427-3586a70bcb89",
      "metadata": {
        "colab": {
          "base_uri": "https://localhost:8080/"
        },
        "id": "e204224d-a150-489b-9427-3586a70bcb89",
        "outputId": "a3cd72b2-2bd0-4840-faed-851f77d60829"
      },
      "outputs": [
        {
          "output_type": "stream",
          "name": "stderr",
          "text": [
            "/usr/local/lib/python3.11/dist-packages/keras/src/layers/core/dense.py:87: UserWarning: Do not pass an `input_shape`/`input_dim` argument to a layer. When using Sequential models, prefer using an `Input(shape)` object as the first layer in the model instead.\n",
            "  super().__init__(activity_regularizer=activity_regularizer, **kwargs)\n"
          ]
        }
      ],
      "source": [
        "model = Sequential()\n",
        "model.add(Dense(hidden_units1, input_dim=3000, activation=hidden_layer_act))\n",
        "model.add(Dense(hidden_units2, activation=hidden_layer_act))\n",
        "model.add(Dense(hidden_units3, activation=hidden_layer_act))\n",
        "model.add(Dense(1, activation=output_layer_act))  # Couche de sortie"
      ]
    },
    {
      "cell_type": "markdown",
      "id": "91245e30",
      "metadata": {
        "id": "91245e30"
      },
      "source": [
        "#### Compilation"
      ]
    },
    {
      "cell_type": "code",
      "execution_count": 66,
      "id": "efe741ba-f8cb-420d-b7aa-689af9ea3f32",
      "metadata": {
        "id": "efe741ba-f8cb-420d-b7aa-689af9ea3f32"
      },
      "outputs": [],
      "source": [
        "sgd=optimizers.SGD(learning_rate=learning_rate)\n",
        "model.compile(loss='binary_crossentropy',optimizer=sgd, metrics=['accuracy'])"
      ]
    },
    {
      "cell_type": "code",
      "execution_count": 67,
      "id": "878954f3-2e6a-466c-bcbd-6262f76a1ce0",
      "metadata": {
        "id": "878954f3-2e6a-466c-bcbd-6262f76a1ce0"
      },
      "outputs": [],
      "source": [
        "train_x = train['Sentence'].values\n",
        "train_y = train['Label'].values\n",
        "\n",
        "##test_x = test['Sentence'].values\n",
        "##test_y = test['Label'].values"
      ]
    },
    {
      "cell_type": "markdown",
      "id": "be81b3cd",
      "metadata": {
        "id": "be81b3cd"
      },
      "source": [
        "#### Text Vectorization"
      ]
    },
    {
      "cell_type": "code",
      "execution_count": 68,
      "id": "65a2be1b-3646-44cc-9e87-370f43872943",
      "metadata": {
        "id": "65a2be1b-3646-44cc-9e87-370f43872943"
      },
      "outputs": [],
      "source": [
        "from sklearn.feature_extraction.text import TfidfVectorizer\n",
        "vectorizer = TfidfVectorizer(max_features=3000)\n",
        "train_x = vectorizer.fit_transform(train_x).toarray()\n"
      ]
    },
    {
      "cell_type": "markdown",
      "id": "e019b191",
      "metadata": {
        "id": "e019b191"
      },
      "source": [
        "#### Model training"
      ]
    },
    {
      "cell_type": "code",
      "source": [
        "early_stop = EarlyStopping(patience=3, restore_best_weights=True)"
      ],
      "metadata": {
        "id": "y9-xnlvAeKhR"
      },
      "id": "y9-xnlvAeKhR",
      "execution_count": 69,
      "outputs": []
    },
    {
      "cell_type": "code",
      "execution_count": 70,
      "id": "c63bcaa0-3606-4d24-a966-76e02f79a0e3",
      "metadata": {
        "colab": {
          "base_uri": "https://localhost:8080/"
        },
        "id": "c63bcaa0-3606-4d24-a966-76e02f79a0e3",
        "outputId": "f9b9fdd6-8d14-4acb-e961-5ab774a68793"
      },
      "outputs": [
        {
          "output_type": "stream",
          "name": "stdout",
          "text": [
            "Epoch 1/27\n",
            "766/766 - 7s - 10ms/step - accuracy: 0.5938 - loss: 0.6634 - val_accuracy: 0.9984 - val_loss: 0.6342\n",
            "Epoch 2/27\n",
            "766/766 - 5s - 7ms/step - accuracy: 0.8864 - loss: 0.5356 - val_accuracy: 0.9664 - val_loss: 0.4742\n",
            "Epoch 3/27\n",
            "766/766 - 4s - 5ms/step - accuracy: 0.9378 - loss: 0.2453 - val_accuracy: 0.9691 - val_loss: 0.2133\n",
            "Epoch 4/27\n",
            "766/766 - 4s - 5ms/step - accuracy: 0.9560 - loss: 0.1322 - val_accuracy: 0.9832 - val_loss: 0.1111\n",
            "Epoch 5/27\n",
            "766/766 - 2s - 3ms/step - accuracy: 0.9629 - loss: 0.0976 - val_accuracy: 0.9864 - val_loss: 0.0707\n",
            "Epoch 6/27\n",
            "766/766 - 2s - 3ms/step - accuracy: 0.9724 - loss: 0.0789 - val_accuracy: 0.9804 - val_loss: 0.0711\n",
            "Epoch 7/27\n",
            "766/766 - 2s - 3ms/step - accuracy: 0.9815 - loss: 0.0668 - val_accuracy: 0.9760 - val_loss: 0.0765\n",
            "Epoch 8/27\n",
            "766/766 - 2s - 3ms/step - accuracy: 0.9867 - loss: 0.0581 - val_accuracy: 0.9923 - val_loss: 0.0323\n",
            "Epoch 9/27\n",
            "766/766 - 2s - 3ms/step - accuracy: 0.9890 - loss: 0.0524 - val_accuracy: 0.9832 - val_loss: 0.0496\n",
            "Epoch 10/27\n",
            "766/766 - 2s - 3ms/step - accuracy: 0.9907 - loss: 0.0477 - val_accuracy: 0.9907 - val_loss: 0.0312\n",
            "Epoch 11/27\n",
            "766/766 - 3s - 4ms/step - accuracy: 0.9915 - loss: 0.0445 - val_accuracy: 0.9928 - val_loss: 0.0242\n",
            "Epoch 12/27\n",
            "766/766 - 2s - 3ms/step - accuracy: 0.9927 - loss: 0.0417 - val_accuracy: 0.9923 - val_loss: 0.0245\n",
            "Epoch 13/27\n",
            "766/766 - 2s - 3ms/step - accuracy: 0.9926 - loss: 0.0399 - val_accuracy: 0.9886 - val_loss: 0.0337\n",
            "Epoch 14/27\n",
            "766/766 - 2s - 3ms/step - accuracy: 0.9933 - loss: 0.0382 - val_accuracy: 0.9925 - val_loss: 0.0239\n",
            "Epoch 15/27\n",
            "766/766 - 2s - 3ms/step - accuracy: 0.9932 - loss: 0.0369 - val_accuracy: 0.9946 - val_loss: 0.0171\n",
            "Epoch 16/27\n",
            "766/766 - 2s - 3ms/step - accuracy: 0.9936 - loss: 0.0357 - val_accuracy: 0.9936 - val_loss: 0.0203\n",
            "Epoch 17/27\n",
            "766/766 - 2s - 3ms/step - accuracy: 0.9936 - loss: 0.0350 - val_accuracy: 0.9920 - val_loss: 0.0243\n",
            "Epoch 18/27\n",
            "766/766 - 3s - 3ms/step - accuracy: 0.9939 - loss: 0.0340 - val_accuracy: 0.9894 - val_loss: 0.0306\n"
          ]
        }
      ],
      "source": [
        "history = model.fit(train_x, train_y, epochs=no_epochs, batch_size=32, verbose=2, validation_split=0.2,callbacks=[early_stop])\n"
      ]
    },
    {
      "cell_type": "markdown",
      "id": "5a1a2518",
      "metadata": {
        "id": "5a1a2518"
      },
      "source": [
        "#### Final Training Metrics Display"
      ]
    },
    {
      "cell_type": "code",
      "execution_count": 71,
      "id": "a8a51b22-e514-4235-b334-acba5ad1a549",
      "metadata": {
        "colab": {
          "base_uri": "https://localhost:8080/"
        },
        "id": "a8a51b22-e514-4235-b334-acba5ad1a549",
        "outputId": "4231541b-61c8-4929-cab7-f8dd77d1c764"
      },
      "outputs": [
        {
          "output_type": "stream",
          "name": "stdout",
          "text": [
            "Final Training Loss: 0.03404749557375908\n",
            "Final Training Accuracy: 0.9939161539077759\n"
          ]
        }
      ],
      "source": [
        "# Affichage de la loss et accuracy après l'entraînement\n",
        "print(\"Final Training Loss:\", history.history['loss'][-1])\n",
        "print(\"Final Training Accuracy:\", history.history['accuracy'][-1])\n",
        "\n"
      ]
    },
    {
      "cell_type": "markdown",
      "id": "098c3d5e",
      "metadata": {
        "id": "098c3d5e"
      },
      "source": [
        "#### Plotting Loss and Accuracy over Epochs\n"
      ]
    },
    {
      "cell_type": "code",
      "execution_count": 72,
      "id": "2e66b4b5-4d1e-470b-8367-aa7e0a4c49b3",
      "metadata": {
        "colab": {
          "base_uri": "https://localhost:8080/",
          "height": 927
        },
        "id": "2e66b4b5-4d1e-470b-8367-aa7e0a4c49b3",
        "outputId": "116ea5be-4352-4a98-cebe-1bf4d2a3c9a5"
      },
      "outputs": [
        {
          "output_type": "display_data",
          "data": {
            "text/plain": [
              "<Figure size 640x480 with 1 Axes>"
            ],
            "image/png": "[encoded data removed]"
          },
          "metadata": {}
        },
        {
          "output_type": "display_data",
          "data": {
            "text/plain": [
              "<Figure size 640x480 with 1 Axes>"
            ],
            "image/png": "[encoded data removed]"
          },
          "metadata": {}
        }
      ],
      "source": [
        "plt.plot(history.history['loss'], label='Train Loss')\n",
        "plt.plot(history.history['val_loss'], label='Validation Loss')\n",
        "plt.title('Loss over epochs')\n",
        "plt.xlabel('Epochs')\n",
        "plt.ylabel('Loss')\n",
        "plt.legend()\n",
        "plt.show()\n",
        "\n",
        "plt.plot(history.history['accuracy'], label='Train Accuracy')\n",
        "plt.plot(history.history['val_accuracy'], label='Validation Accuracy')\n",
        "plt.title('Accuracy over epochs')\n",
        "plt.xlabel('Epochs')\n",
        "plt.ylabel('Accuracy')\n",
        "plt.legend()\n",
        "plt.show()"
      ]
    },
    {
      "cell_type": "code",
      "execution_count": 73,
      "id": "c01ac1ed-4d2b-4220-b02e-3d0af1fdda71",
      "metadata": {
        "colab": {
          "base_uri": "https://localhost:8080/"
        },
        "id": "c01ac1ed-4d2b-4220-b02e-3d0af1fdda71",
        "outputId": "020d2578-bc53-4bde-e201-2a69ac41af1d"
      },
      "outputs": [
        {
          "output_type": "stream",
          "name": "stdout",
          "text": [
            "Sentence    3\n",
            "Label       0\n",
            "dtype: int64\n"
          ]
        }
      ],
      "source": [
        "test_x = test['Sentence'].values\n",
        "test_y = test['Label'].values\n",
        "print(test.isnull().sum())\n"
      ]
    },
    {
      "cell_type": "code",
      "execution_count": 74,
      "id": "930b3f21-dbbb-4b3b-8366-0b9e4f4b5a3b",
      "metadata": {
        "id": "930b3f21-dbbb-4b3b-8366-0b9e4f4b5a3b"
      },
      "outputs": [],
      "source": [
        "test = test.dropna(subset=['Sentence'])\n",
        "\n"
      ]
    },
    {
      "cell_type": "markdown",
      "id": "4e4b841a",
      "metadata": {
        "id": "4e4b841a"
      },
      "source": [
        "#### Filter Only SQL Injection (Label = 1)\n"
      ]
    },
    {
      "cell_type": "code",
      "execution_count": 75,
      "id": "665b1c51-7a84-4866-bec7-3bd66bfefe3e",
      "metadata": {
        "id": "665b1c51-7a84-4866-bec7-3bd66bfefe3e"
      },
      "outputs": [],
      "source": [
        "# Filtrer les lignes où Label == 1\n",
        "filtered = test[test['Label'] == 1]\n",
        "\n",
        "# Supprimer les doublons en gardant la première occurrence\n",
        "filtered = filtered.drop_duplicates(subset='Sentence', keep='first')\n",
        "\n",
        "# Récupérer les 1000 exemples dans test_x et test_y\n",
        "test_x = filtered['Sentence'].values\n",
        "test_y = filtered['Label'].values\n",
        "\n",
        "test_x = vectorizer.transform(test_x).toarray()\n"
      ]
    },
    {
      "cell_type": "markdown",
      "id": "ace9a4c0",
      "metadata": {
        "id": "ace9a4c0"
      },
      "source": [
        "#### Prediction and Metrics Evaluation\n"
      ]
    },
    {
      "cell_type": "code",
      "execution_count": 76,
      "id": "6354d79b-8cde-4c95-a6bf-c8090c7bd681",
      "metadata": {
        "colab": {
          "base_uri": "https://localhost:8080/"
        },
        "id": "6354d79b-8cde-4c95-a6bf-c8090c7bd681",
        "outputId": "e7db6de5-c433-4f4d-ab86-fb3992104992"
      },
      "outputs": [
        {
          "output_type": "stream",
          "name": "stdout",
          "text": [
            "\u001b[1m357/357\u001b[0m \u001b[32m━━━━━━━━━━━━━━━━━━━━\u001b[0m\u001b[37m\u001b[0m \u001b[1m1s\u001b[0m 1ms/step\n"
          ]
        }
      ],
      "source": [
        "predictions = model.predict(test_x)\n"
      ]
    },
    {
      "cell_type": "code",
      "execution_count": 77,
      "id": "297b89a0-c9d5-4be6-bd80-3863920a4afd",
      "metadata": {
        "colab": {
          "base_uri": "https://localhost:8080/"
        },
        "id": "297b89a0-c9d5-4be6-bd80-3863920a4afd",
        "outputId": "f94f1772-940c-47b2-8a75-012b368d2fb7"
      },
      "outputs": [
        {
          "output_type": "stream",
          "name": "stdout",
          "text": [
            "[1 1 1 ... 1 1 1]\n"
          ]
        }
      ],
      "source": [
        "# Convertir les probabilités en classes binaires\n",
        "predicted_classes = (predictions >= 0.5).astype(int)\n",
        "\n",
        "# Afficher les 20 premières prédictions\n",
        "print(predicted_classes.flatten())\n"
      ]
    },
    {
      "cell_type": "code",
      "execution_count": 78,
      "id": "897b8dbb-f912-4179-8751-8523a26d65b9",
      "metadata": {
        "colab": {
          "base_uri": "https://localhost:8080/"
        },
        "id": "897b8dbb-f912-4179-8751-8523a26d65b9",
        "outputId": "c25f9cab-e920-471c-9291-6d7843f4d035"
      },
      "outputs": [
        {
          "output_type": "stream",
          "name": "stdout",
          "text": [
            "Nombre de requêtes détectées comme SQL injection : 11273\n"
          ]
        }
      ],
      "source": [
        "# Compter le nombre de prédictions égales à 1\n",
        "nombre_de_sql_injections = (predicted_classes == 1).sum()\n",
        "\n",
        "print(f\"Nombre de requêtes détectées comme SQL injection : {nombre_de_sql_injections}\")\n"
      ]
    },
    {
      "cell_type": "code",
      "execution_count": 79,
      "id": "ea613088-a76a-48cc-9a08-862965a0179c",
      "metadata": {
        "colab": {
          "base_uri": "https://localhost:8080/",
          "height": 178
        },
        "id": "ea613088-a76a-48cc-9a08-862965a0179c",
        "outputId": "592331b5-c02a-4bc4-cecd-c3fcd7836841"
      },
      "outputs": [
        {
          "output_type": "execute_result",
          "data": {
            "text/plain": [
              "Label\n",
              "0    22304\n",
              "1    11453\n",
              "Name: count, dtype: int64"
            ],
            "text/html": [
              "<div>\n",
              "<style scoped>\n",
              "    .dataframe tbody tr th:only-of-type {\n",
              "        vertical-align: middle;\n",
              "    }\n",
              "\n",
              "    .dataframe tbody tr th {\n",
              "        vertical-align: top;\n",
              "    }\n",
              "\n",
              "    .dataframe thead th {\n",
              "        text-align: right;\n",
              "    }\n",
              "</style>\n",
              "<table border=\"1\" class=\"dataframe\">\n",
              "  <thead>\n",
              "    <tr style=\"text-align: right;\">\n",
              "      <th></th>\n",
              "      <th>count</th>\n",
              "    </tr>\n",
              "    <tr>\n",
              "      <th>Label</th>\n",
              "      <th></th>\n",
              "    </tr>\n",
              "  </thead>\n",
              "  <tbody>\n",
              "    <tr>\n",
              "      <th>0</th>\n",
              "      <td>22304</td>\n",
              "    </tr>\n",
              "    <tr>\n",
              "      <th>1</th>\n",
              "      <td>11453</td>\n",
              "    </tr>\n",
              "  </tbody>\n",
              "</table>\n",
              "</div><br><label><b>dtype:</b> int64</label>"
            ]
          },
          "metadata": {},
          "execution_count": 79
        }
      ],
      "source": [
        "test.Label.value_counts()\n"
      ]
    },
    {
      "cell_type": "code",
      "execution_count": 80,
      "id": "567d18ee-2f71-4c95-8939-08a1a2bd5dd4",
      "metadata": {
        "colab": {
          "base_uri": "https://localhost:8080/"
        },
        "id": "567d18ee-2f71-4c95-8939-08a1a2bd5dd4",
        "outputId": "666ea345-eb63-4a1b-a666-0eef89607367"
      },
      "outputs": [
        {
          "output_type": "stream",
          "name": "stdout",
          "text": [
            "Nombre de requêtes détectées comme SQL injection : 11273 / 11424\n",
            "Accuracy après test avec le dataset filtré (SQL injections) : 98.68%\n",
            "Precision : 100.00%\n",
            "Recall : 98.68%\n",
            "F1 Score : 99.33%\n"
          ]
        }
      ],
      "source": [
        "from sklearn.metrics import accuracy_score, precision_score, recall_score, f1_score\n",
        "\n",
        "\n",
        "print(f\"Nombre de requêtes détectées comme SQL injection : {nombre_de_sql_injections} / {len(test_x)}\")\n",
        "print(f\"Accuracy après test avec le dataset filtré (SQL injections) : {accuracy_score(test_y, predicted_classes) * 100:.2f}%\")\n",
        "print(f\"Precision : {precision_score(test_y, predicted_classes, zero_division=0) * 100:.2f}%\")\n",
        "print(f\"Recall : {recall_score(test_y, predicted_classes, zero_division=0) * 100:.2f}%\")\n",
        "print(f\"F1 Score : {f1_score(test_y, predicted_classes, zero_division=0) * 100:.2f}%\")\n"
      ]
    },
    {
      "cell_type": "markdown",
      "id": "e3d7d921",
      "metadata": {
        "id": "e3d7d921"
      },
      "source": [
        "#### Filter Only Normal Queries (Label = 0)\n"
      ]
    },
    {
      "cell_type": "code",
      "execution_count": 81,
      "id": "304fecda-0937-4a24-aa21-84d571fdf73b",
      "metadata": {
        "id": "304fecda-0937-4a24-aa21-84d571fdf73b"
      },
      "outputs": [],
      "source": [
        "# Filtrer les lignes où Label == 1\n",
        "filtered2 = test[test['Label'] == 0]\n",
        "filtered2 = filtered.drop_duplicates(subset='Sentence', keep='first')\n",
        "\n",
        "# Récupérer les 1000 exemples dans test_x et test_y\n",
        "test_x2 = filtered2['Sentence'].values\n",
        "test_y2 = filtered2['Label'].values\n",
        "\n",
        "\n",
        "test_x2 = vectorizer.transform(test_x2).toarray()"
      ]
    },
    {
      "cell_type": "markdown",
      "id": "733ce9f2",
      "metadata": {
        "id": "733ce9f2"
      },
      "source": [
        "#### Prediction and Metrics Evaluation\n"
      ]
    },
    {
      "cell_type": "code",
      "execution_count": 82,
      "id": "5219941a-913d-4dd9-a76c-d06ec9f6b6a4",
      "metadata": {
        "colab": {
          "base_uri": "https://localhost:8080/"
        },
        "id": "5219941a-913d-4dd9-a76c-d06ec9f6b6a4",
        "outputId": "dad3d66a-5129-4393-94ff-e99e6144e466"
      },
      "outputs": [
        {
          "output_type": "stream",
          "name": "stdout",
          "text": [
            "\u001b[1m357/357\u001b[0m \u001b[32m━━━━━━━━━━━━━━━━━━━━\u001b[0m\u001b[37m\u001b[0m \u001b[1m1s\u001b[0m 1ms/step\n"
          ]
        }
      ],
      "source": [
        "predictions2 = model.predict(test_x2)\n"
      ]
    },
    {
      "cell_type": "code",
      "execution_count": 83,
      "id": "7ed7e654-891b-4e0c-98ce-2a5dcb61b884",
      "metadata": {
        "colab": {
          "base_uri": "https://localhost:8080/"
        },
        "id": "7ed7e654-891b-4e0c-98ce-2a5dcb61b884",
        "outputId": "314f02e5-ea37-410b-ea4e-8cae62c408b6"
      },
      "outputs": [
        {
          "output_type": "stream",
          "name": "stdout",
          "text": [
            "[1 1 1 ... 1 1 1]\n"
          ]
        }
      ],
      "source": [
        "# Convertir les probabilités en classes binaires\n",
        "predicted_classes2 = (predictions2 >= 0.5).astype(int)\n",
        "\n",
        "# Afficher les 20 premières prédictions\n",
        "print(predicted_classes2.flatten())\n"
      ]
    },
    {
      "cell_type": "code",
      "execution_count": 84,
      "id": "963574de-32e1-4ec0-b4a4-326ad42c5cb9",
      "metadata": {
        "colab": {
          "base_uri": "https://localhost:8080/"
        },
        "id": "963574de-32e1-4ec0-b4a4-326ad42c5cb9",
        "outputId": "5828e1b5-5970-4da4-ddfc-cb15c26e4a5e"
      },
      "outputs": [
        {
          "output_type": "stream",
          "name": "stdout",
          "text": [
            "Nombre de requêtes non détectées comme SQL injection : 151\n"
          ]
        }
      ],
      "source": [
        "# Compter le nombre de prédictions égales à 1\n",
        "nombre_de_non_sql_injections = (predicted_classes2 == 0).sum()\n",
        "\n",
        "print(f\"Nombre de requêtes non détectées comme SQL injection : {nombre_de_non_sql_injections}\")\n"
      ]
    },
    {
      "cell_type": "code",
      "execution_count": 85,
      "id": "bb432528-9479-4823-b496-f56738fd048e",
      "metadata": {
        "colab": {
          "base_uri": "https://localhost:8080/",
          "height": 178
        },
        "id": "bb432528-9479-4823-b496-f56738fd048e",
        "outputId": "b23fd2cd-4320-4ebf-f183-02b59a5deeb7"
      },
      "outputs": [
        {
          "output_type": "execute_result",
          "data": {
            "text/plain": [
              "Label\n",
              "0    22304\n",
              "1    11453\n",
              "Name: count, dtype: int64"
            ],
            "text/html": [
              "<div>\n",
              "<style scoped>\n",
              "    .dataframe tbody tr th:only-of-type {\n",
              "        vertical-align: middle;\n",
              "    }\n",
              "\n",
              "    .dataframe tbody tr th {\n",
              "        vertical-align: top;\n",
              "    }\n",
              "\n",
              "    .dataframe thead th {\n",
              "        text-align: right;\n",
              "    }\n",
              "</style>\n",
              "<table border=\"1\" class=\"dataframe\">\n",
              "  <thead>\n",
              "    <tr style=\"text-align: right;\">\n",
              "      <th></th>\n",
              "      <th>count</th>\n",
              "    </tr>\n",
              "    <tr>\n",
              "      <th>Label</th>\n",
              "      <th></th>\n",
              "    </tr>\n",
              "  </thead>\n",
              "  <tbody>\n",
              "    <tr>\n",
              "      <th>0</th>\n",
              "      <td>22304</td>\n",
              "    </tr>\n",
              "    <tr>\n",
              "      <th>1</th>\n",
              "      <td>11453</td>\n",
              "    </tr>\n",
              "  </tbody>\n",
              "</table>\n",
              "</div><br><label><b>dtype:</b> int64</label>"
            ]
          },
          "metadata": {},
          "execution_count": 85
        }
      ],
      "source": [
        "test.Label.value_counts()\n"
      ]
    },
    {
      "cell_type": "code",
      "execution_count": 86,
      "id": "60db187a-b337-4f13-a841-58e326b643f2",
      "metadata": {
        "colab": {
          "base_uri": "https://localhost:8080/"
        },
        "id": "60db187a-b337-4f13-a841-58e326b643f2",
        "outputId": "5364e8df-6f53-41c8-9ed8-8b44e7e8c44d"
      },
      "outputs": [
        {
          "output_type": "stream",
          "name": "stdout",
          "text": [
            "accuracy apres testé avec le deuxiéme datset avec les non sql injection est =0.013217787114845938 \n"
          ]
        }
      ],
      "source": [
        "print(f\"accuracy apres testé avec le deuxiéme datset avec les non sql injection est ={nombre_de_non_sql_injections/len(test_x2)} \")"
      ]
    },
    {
      "cell_type": "code",
      "execution_count": 87,
      "id": "647ed4f8-56b8-4b6e-aba5-d6bd32bd704f",
      "metadata": {
        "colab": {
          "base_uri": "https://localhost:8080/"
        },
        "id": "647ed4f8-56b8-4b6e-aba5-d6bd32bd704f",
        "outputId": "f9c978cc-4aee-42b2-f776-901d463b3b3e"
      },
      "outputs": [
        {
          "output_type": "stream",
          "name": "stdout",
          "text": [
            "Nombre de requêtes détectées comme NON SQL injection : 151 / 11424\n",
            "Accuracy après test avec le dataset des NON-SQL : 98.68%\n",
            "Precision : 100.00%\n",
            "Recall : 98.68%\n",
            "F1 Score : 99.33%\n"
          ]
        }
      ],
      "source": [
        "\n",
        "\n",
        "\n",
        "\n",
        "print(f\"Nombre de requêtes détectées comme NON SQL injection : {nombre_de_non_sql_injections} / {len(test_x2)}\")\n",
        "\n",
        "# 8. Afficher l’accuracy (et éventuellement d'autres métriques)\n",
        "print(f\"Accuracy après test avec le dataset des NON-SQL : {accuracy_score(test_y2, predicted_classes2) * 100:.2f}%\")\n",
        "print(f\"Precision : {precision_score(test_y2, predicted_classes2, zero_division=0, pos_label=1) * 100:.2f}%\")\n",
        "print(f\"Recall : {recall_score(test_y2, predicted_classes2, zero_division=0, pos_label=1) * 100:.2f}%\")\n",
        "print(f\"F1 Score : {f1_score(test_y2, predicted_classes2, zero_division=0, pos_label=1) * 100:.2f}%\")\n"
      ]
    }
  ],
  "metadata": {
    "kernelspec": {
      "display_name": "Python 3",
      "name": "python3"
    },
    "language_info": {
      "codemirror_mode": {
        "name": "ipython",
        "version": 3
      },
      "file_extension": ".py",
      "mimetype": "text/x-python",
      "name": "python",
      "nbconvert_exporter": "python",
      "pygments_lexer": "ipython3",
      "version": "3.7.12"
    },
    "colab": {
      "provenance": [],
      "gpuType": "T4"
    },
    "accelerator": "GPU"
  },
  "nbformat": 4,
  "nbformat_minor": 5
}