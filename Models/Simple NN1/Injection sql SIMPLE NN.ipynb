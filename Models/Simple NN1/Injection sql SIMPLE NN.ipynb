{
 "cells": [
  {
   "cell_type": "code",
   "execution_count": 693,
   "id": "ece4526e",
   "metadata": {},
   "outputs": [],
   "source": [
    "import pandas as pd\n",
    "import numpy as np\n",
    "import matplotlib.pyplot as plt\n",
    "from keras.models import Sequential\n",
    "from keras.layers import Dense\n",
    "from keras import optimizers, regularizers"
   ]
  },
  {
   "cell_type": "code",
   "execution_count": 694,
   "id": "b706aca3",
   "metadata": {},
   "outputs": [],
   "source": [
    "train=pd.read_csv('SQLIV3_cleaned2.csv')\n",
    "test=pd.read_csv('sqliv2_utf8.csv')\n"
   ]
  },
  {
   "cell_type": "code",
   "execution_count": 695,
   "id": "1f671035",
   "metadata": {},
   "outputs": [
    {
     "data": {
      "text/plain": [
       "Label\n",
       "0    19268\n",
       "1    11346\n",
       "Name: count, dtype: int64"
      ]
     },
     "execution_count": 695,
     "metadata": {},
     "output_type": "execute_result"
    }
   ],
   "source": [
    "train.Label.value_counts()\n"
   ]
  },
  {
   "cell_type": "code",
   "execution_count": 696,
   "id": "1a92254a",
   "metadata": {},
   "outputs": [],
   "source": [
    "hidden_units1=512\n",
    "hidden_units2=256\n",
    "hidden_units3=128\n",
    "learning_rate=0.01\n",
    "hidden_layer_act='relu'\n",
    "output_layer_act='sigmoid'\n",
    "no_epochs=27"
   ]
  },
  {
   "cell_type": "code",
   "execution_count": 697,
   "id": "10209a8d",
   "metadata": {},
   "outputs": [],
   "source": [
    "model = Sequential()\n"
   ]
  },
  {
   "cell_type": "code",
   "execution_count": 698,
   "id": "1c8f9edf",
   "metadata": {},
   "outputs": [
    {
     "name": "stderr",
     "output_type": "stream",
     "text": [
      "c:\\Users\\ASUS ROG\\anaconda3\\Lib\\site-packages\\keras\\src\\layers\\core\\dense.py:87: UserWarning: Do not pass an `input_shape`/`input_dim` argument to a layer. When using Sequential models, prefer using an `Input(shape)` object as the first layer in the model instead.\n",
      "  super().__init__(activity_regularizer=activity_regularizer, **kwargs)\n"
     ]
    }
   ],
   "source": [
    "\n",
    "model.add(Dense(hidden_units1, input_dim=3000, activation=hidden_layer_act))\n",
    "model.add(Dropout(0.5))  # Dropout pour éviter l'overfitting\n",
    "model.add(Dense(hidden_units2, activation=hidden_layer_act))\n",
    "model.add(Dropout(0.5))  # Dropout pour éviter l'overfitting\n",
    "model.add(Dense(hidden_units3, activation=hidden_layer_act))\n",
    "model.add(Dropout(0.5))  # Dropout pour éviter l'overfitting\n",
    "model.add(Dense(1, activation=output_layer_act))  # Couche de sortie"
   ]
  },
  {
   "cell_type": "code",
   "execution_count": 699,
   "id": "72f4d94f",
   "metadata": {},
   "outputs": [],
   "source": [
    "sgd=optimizers.SGD(learning_rate=learning_rate)\n",
    "model.compile(loss='binary_crossentropy',optimizer=sgd, metrics=['accuracy'])"
   ]
  },
  {
   "cell_type": "code",
   "execution_count": 700,
   "id": "1817fa42",
   "metadata": {},
   "outputs": [
    {
     "data": {
      "text/html": [
       "<div>\n",
       "<style scoped>\n",
       "    .dataframe tbody tr th:only-of-type {\n",
       "        vertical-align: middle;\n",
       "    }\n",
       "\n",
       "    .dataframe tbody tr th {\n",
       "        vertical-align: top;\n",
       "    }\n",
       "\n",
       "    .dataframe thead th {\n",
       "        text-align: right;\n",
       "    }\n",
       "</style>\n",
       "<table border=\"1\" class=\"dataframe\">\n",
       "  <thead>\n",
       "    <tr style=\"text-align: right;\">\n",
       "      <th></th>\n",
       "      <th>Sentence</th>\n",
       "      <th>Label</th>\n",
       "    </tr>\n",
       "  </thead>\n",
       "  <tbody>\n",
       "    <tr>\n",
       "      <th>0</th>\n",
       "      <td>\" or pg_sleep  (  __TIME__  )  --</td>\n",
       "      <td>1</td>\n",
       "    </tr>\n",
       "    <tr>\n",
       "      <th>1</th>\n",
       "      <td>create user name identified by pass123 tempora...</td>\n",
       "      <td>1</td>\n",
       "    </tr>\n",
       "    <tr>\n",
       "      <th>2</th>\n",
       "      <td>AND 1  =  utl_inaddr.get_host_address   (    ...</td>\n",
       "      <td>1</td>\n",
       "    </tr>\n",
       "    <tr>\n",
       "      <th>3</th>\n",
       "      <td>select * from users where id  =  '1' or @ @1 ...</td>\n",
       "      <td>1</td>\n",
       "    </tr>\n",
       "    <tr>\n",
       "      <th>4</th>\n",
       "      <td>select * from users where id  =  1 or 1#\"  ( ...</td>\n",
       "      <td>1</td>\n",
       "    </tr>\n",
       "  </tbody>\n",
       "</table>\n",
       "</div>"
      ],
      "text/plain": [
       "                                            Sentence  Label\n",
       "0                  \" or pg_sleep  (  __TIME__  )  --      1\n",
       "1  create user name identified by pass123 tempora...      1\n",
       "2   AND 1  =  utl_inaddr.get_host_address   (    ...      1\n",
       "3   select * from users where id  =  '1' or @ @1 ...      1\n",
       "4   select * from users where id  =  1 or 1#\"  ( ...      1"
      ]
     },
     "execution_count": 700,
     "metadata": {},
     "output_type": "execute_result"
    }
   ],
   "source": [
    "train.head()"
   ]
  },
  {
   "cell_type": "code",
   "execution_count": 701,
   "id": "e55965e4",
   "metadata": {},
   "outputs": [],
   "source": [
    "train_x = train['Sentence'].values\n",
    "train_y = train['Label'].values\n",
    "\n",
    "##test_x = test['Sentence'].values\n",
    "##test_y = test['Label'].values"
   ]
  },
  {
   "cell_type": "code",
   "execution_count": 702,
   "id": "78503cfc",
   "metadata": {},
   "outputs": [],
   "source": [
    "from sklearn.feature_extraction.text import TfidfVectorizer\n",
    "vectorizer = TfidfVectorizer(max_features=3000)\n",
    "train_x = vectorizer.fit_transform(train_x).toarray()\n",
    "\n"
   ]
  },
  {
   "cell_type": "code",
   "execution_count": 703,
   "id": "4d221dfe",
   "metadata": {},
   "outputs": [
    {
     "name": "stdout",
     "output_type": "stream",
     "text": [
      "Epoch 1/27\n",
      "766/766 - 8s - 11ms/step - accuracy: 0.5777 - loss: 0.6754 - val_accuracy: 1.0000 - val_loss: 0.6278\n",
      "Epoch 2/27\n",
      "766/766 - 6s - 8ms/step - accuracy: 0.7159 - loss: 0.6310 - val_accuracy: 0.9464 - val_loss: 0.6292\n",
      "Epoch 3/27\n",
      "766/766 - 7s - 9ms/step - accuracy: 0.8684 - loss: 0.4625 - val_accuracy: 0.9497 - val_loss: 0.4063\n",
      "Epoch 4/27\n",
      "766/766 - 6s - 8ms/step - accuracy: 0.9250 - loss: 0.2430 - val_accuracy: 0.9606 - val_loss: 0.2206\n",
      "Epoch 5/27\n",
      "766/766 - 7s - 9ms/step - accuracy: 0.9500 - loss: 0.1591 - val_accuracy: 0.9938 - val_loss: 0.0767\n",
      "Epoch 6/27\n",
      "766/766 - 7s - 9ms/step - accuracy: 0.9600 - loss: 0.1259 - val_accuracy: 0.9802 - val_loss: 0.0885\n",
      "Epoch 7/27\n",
      "766/766 - 7s - 9ms/step - accuracy: 0.9679 - loss: 0.1037 - val_accuracy: 0.9740 - val_loss: 0.0925\n",
      "Epoch 8/27\n",
      "766/766 - 7s - 9ms/step - accuracy: 0.9708 - loss: 0.0919 - val_accuracy: 0.9809 - val_loss: 0.0573\n",
      "Epoch 9/27\n",
      "766/766 - 7s - 9ms/step - accuracy: 0.9748 - loss: 0.0806 - val_accuracy: 0.9817 - val_loss: 0.0524\n",
      "Epoch 10/27\n",
      "766/766 - 7s - 9ms/step - accuracy: 0.9788 - loss: 0.0727 - val_accuracy: 0.9868 - val_loss: 0.0387\n",
      "Epoch 11/27\n",
      "766/766 - 6s - 8ms/step - accuracy: 0.9813 - loss: 0.0685 - val_accuracy: 0.9944 - val_loss: 0.0272\n",
      "Epoch 12/27\n",
      "766/766 - 7s - 10ms/step - accuracy: 0.9835 - loss: 0.0617 - val_accuracy: 0.9842 - val_loss: 0.0417\n",
      "Epoch 13/27\n",
      "766/766 - 9s - 12ms/step - accuracy: 0.9851 - loss: 0.0580 - val_accuracy: 0.9917 - val_loss: 0.0278\n",
      "Epoch 14/27\n",
      "766/766 - 6s - 8ms/step - accuracy: 0.9861 - loss: 0.0571 - val_accuracy: 0.9855 - val_loss: 0.0381\n",
      "Epoch 15/27\n",
      "766/766 - 6s - 8ms/step - accuracy: 0.9886 - loss: 0.0502 - val_accuracy: 0.9956 - val_loss: 0.0204\n",
      "Epoch 16/27\n",
      "766/766 - 6s - 8ms/step - accuracy: 0.9885 - loss: 0.0506 - val_accuracy: 0.9936 - val_loss: 0.0230\n",
      "Epoch 17/27\n",
      "766/766 - 7s - 9ms/step - accuracy: 0.9895 - loss: 0.0481 - val_accuracy: 0.9935 - val_loss: 0.0221\n",
      "Epoch 18/27\n",
      "766/766 - 8s - 10ms/step - accuracy: 0.9901 - loss: 0.0456 - val_accuracy: 0.9905 - val_loss: 0.0256\n",
      "Epoch 19/27\n",
      "766/766 - 7s - 9ms/step - accuracy: 0.9900 - loss: 0.0447 - val_accuracy: 0.9966 - val_loss: 0.0168\n",
      "Epoch 20/27\n",
      "766/766 - 6s - 8ms/step - accuracy: 0.9908 - loss: 0.0444 - val_accuracy: 0.9974 - val_loss: 0.0156\n",
      "Epoch 21/27\n",
      "766/766 - 8s - 10ms/step - accuracy: 0.9904 - loss: 0.0436 - val_accuracy: 0.9946 - val_loss: 0.0184\n",
      "Epoch 22/27\n",
      "766/766 - 6s - 8ms/step - accuracy: 0.9917 - loss: 0.0412 - val_accuracy: 0.9933 - val_loss: 0.0202\n",
      "Epoch 23/27\n",
      "766/766 - 6s - 8ms/step - accuracy: 0.9914 - loss: 0.0410 - val_accuracy: 0.9948 - val_loss: 0.0177\n",
      "Epoch 24/27\n",
      "766/766 - 6s - 8ms/step - accuracy: 0.9913 - loss: 0.0397 - val_accuracy: 0.9918 - val_loss: 0.0235\n",
      "Epoch 25/27\n",
      "766/766 - 6s - 8ms/step - accuracy: 0.9917 - loss: 0.0400 - val_accuracy: 0.9868 - val_loss: 0.0335\n",
      "Epoch 26/27\n",
      "766/766 - 6s - 7ms/step - accuracy: 0.9921 - loss: 0.0394 - val_accuracy: 0.9941 - val_loss: 0.0188\n",
      "Epoch 27/27\n",
      "766/766 - 6s - 8ms/step - accuracy: 0.9923 - loss: 0.0373 - val_accuracy: 0.9958 - val_loss: 0.0158\n"
     ]
    }
   ],
   "source": [
    "history = model.fit(train_x, train_y, epochs=no_epochs, batch_size=32, verbose=2, validation_split=0.2)\n"
   ]
  },
  {
   "cell_type": "code",
   "execution_count": 704,
   "id": "f697cbfb",
   "metadata": {},
   "outputs": [
    {
     "name": "stdout",
     "output_type": "stream",
     "text": [
      "Final Training Loss: 0.03730145841836929\n",
      "Final Training Accuracy: 0.9923236966133118\n"
     ]
    }
   ],
   "source": [
    "# Affichage de la loss et accuracy après l'entraînement\n",
    "print(\"Final Training Loss:\", history.history['loss'][-1])\n",
    "print(\"Final Training Accuracy:\", history.history['accuracy'][-1])\n",
    "\n"
   ]
  },
  {
   "cell_type": "code",
   "execution_count": 705,
   "id": "243ce912",
   "metadata": {},
   "outputs": [
    {
     "data": {
      "image/png": "[encoded data removed]",
      "text/plain": [
       "<Figure size 640x480 with 1 Axes>"
      ]
     },
     "metadata": {},
     "output_type": "display_data"
    },
    {
     "data": {
      "image/png": "[encoded data removed]",
      "text/plain": [
       "<Figure size 640x480 with 1 Axes>"
      ]
     },
     "metadata": {},
     "output_type": "display_data"
    }
   ],
   "source": [
    "plt.plot(history.history['loss'], label='Train Loss')\n",
    "plt.plot(history.history['val_loss'], label='Validation Loss')\n",
    "plt.title('Loss over epochs')\n",
    "plt.xlabel('Epochs')\n",
    "plt.ylabel('Loss')\n",
    "plt.legend()\n",
    "plt.show()\n",
    "\n",
    "plt.plot(history.history['accuracy'], label='Train Accuracy')\n",
    "plt.plot(history.history['val_accuracy'], label='Validation Accuracy')\n",
    "plt.title('Accuracy over epochs')\n",
    "plt.xlabel('Epochs')\n",
    "plt.ylabel('Accuracy')\n",
    "plt.legend()\n",
    "plt.show()"
   ]
  },
  {
   "cell_type": "code",
   "execution_count": 706,
   "id": "2a49ac54",
   "metadata": {},
   "outputs": [
    {
     "name": "stdout",
     "output_type": "stream",
     "text": [
      "Sentence    3\n",
      "Label       0\n",
      "dtype: int64\n"
     ]
    }
   ],
   "source": [
    "test_x = test['Sentence'].values\n",
    "test_y = test['Label'].values\n",
    "print(test.isnull().sum())\n"
   ]
  },
  {
   "cell_type": "code",
   "execution_count": 707,
   "id": "d51147db",
   "metadata": {},
   "outputs": [],
   "source": [
    "test = test.dropna(subset=['Sentence'])\n",
    "\n"
   ]
  },
  {
   "cell_type": "code",
   "execution_count": 708,
   "id": "53e4097e",
   "metadata": {},
   "outputs": [],
   "source": [
    "# Filtrer les lignes où Label == 1\n",
    "filtered = test[test['Label'] == 1]\n",
    "\n",
    "# Récupérer les 1000 exemples dans test_x et test_y\n",
    "test_x = filtered['Sentence'].values\n",
    "test_y = filtered['Label'].values\n",
    "\n",
    "\n",
    "test_x = vectorizer.transform(test_x).toarray()"
   ]
  },
  {
   "cell_type": "code",
   "execution_count": 709,
   "id": "07b84aad",
   "metadata": {},
   "outputs": [
    {
     "name": "stdout",
     "output_type": "stream",
     "text": [
      "\u001b[1m358/358\u001b[0m \u001b[32m━━━━━━━━━━━━━━━━━━━━\u001b[0m\u001b[37m\u001b[0m \u001b[1m1s\u001b[0m 3ms/step\n"
     ]
    }
   ],
   "source": [
    "predictions = model.predict(test_x)\n"
   ]
  },
  {
   "cell_type": "code",
   "execution_count": 710,
   "id": "9c83e70b",
   "metadata": {},
   "outputs": [
    {
     "name": "stdout",
     "output_type": "stream",
     "text": [
      "[1 1 0 ... 1 1 1]\n"
     ]
    }
   ],
   "source": [
    "# Convertir les probabilités en classes binaires\n",
    "predicted_classes = (predictions >= 0.5).astype(int)\n",
    "\n",
    "# Afficher les 20 premières prédictions\n",
    "print(predicted_classes.flatten())\n"
   ]
  },
  {
   "cell_type": "code",
   "execution_count": 711,
   "id": "f955babb",
   "metadata": {},
   "outputs": [
    {
     "name": "stdout",
     "output_type": "stream",
     "text": [
      "Nombre de requêtes détectées comme SQL injection : 11307\n"
     ]
    }
   ],
   "source": [
    "# Compter le nombre de prédictions égales à 1\n",
    "nombre_de_sql_injections = (predicted_classes == 1).sum()\n",
    "\n",
    "print(f\"Nombre de requêtes détectées comme SQL injection : {nombre_de_sql_injections}\")\n"
   ]
  },
  {
   "cell_type": "code",
   "execution_count": 712,
   "id": "dc0e02ef",
   "metadata": {},
   "outputs": [
    {
     "data": {
      "text/plain": [
       "Label\n",
       "0    22304\n",
       "1    11453\n",
       "Name: count, dtype: int64"
      ]
     },
     "execution_count": 712,
     "metadata": {},
     "output_type": "execute_result"
    }
   ],
   "source": [
    "test.Label.value_counts()\n"
   ]
  },
  {
   "cell_type": "code",
   "execution_count": 713,
   "id": "4c585a5b",
   "metadata": {},
   "outputs": [
    {
     "name": "stdout",
     "output_type": "stream",
     "text": [
      "accuracy aprés tester avec le deuxiéme dataset est = 0.9872522483192177\n"
     ]
    }
   ],
   "source": [
    "print(f\"accuracy aprés tester avec le deuxiéme dataset est = {nombre_de_sql_injections/len(test_x)}\")"
   ]
  },
  {
   "cell_type": "code",
   "execution_count": 715,
   "id": "c81a6a25",
   "metadata": {},
   "outputs": [],
   "source": [
    "# Filtrer les lignes où Label == 1\n",
    "filtered2 = test[test['Label'] == 0]\n",
    "\n",
    "# Récupérer les 1000 exemples dans test_x et test_y\n",
    "test_x2 = filtered2['Sentence'].values\n",
    "test_y2 = filtered2['Label'].values\n",
    "\n",
    "\n",
    "test_x2 = vectorizer.transform(test_x2).toarray()"
   ]
  },
  {
   "cell_type": "code",
   "execution_count": 716,
   "id": "9b6c6e18",
   "metadata": {},
   "outputs": [
    {
     "name": "stdout",
     "output_type": "stream",
     "text": [
      "\u001b[1m697/697\u001b[0m \u001b[32m━━━━━━━━━━━━━━━━━━━━\u001b[0m\u001b[37m\u001b[0m \u001b[1m2s\u001b[0m 3ms/step\n"
     ]
    }
   ],
   "source": [
    "predictions2 = model.predict(test_x2)\n"
   ]
  },
  {
   "cell_type": "code",
   "execution_count": 717,
   "id": "4894c68e",
   "metadata": {},
   "outputs": [
    {
     "name": "stdout",
     "output_type": "stream",
     "text": [
      "[0 0 0 ... 0 0 0]\n"
     ]
    }
   ],
   "source": [
    "# Convertir les probabilités en classes binaires\n",
    "predicted_classes2 = (predictions2 >= 0.5).astype(int)\n",
    "\n",
    "# Afficher les 20 premières prédictions\n",
    "print(predicted_classes2.flatten())\n"
   ]
  },
  {
   "cell_type": "code",
   "execution_count": 718,
   "id": "96145c11",
   "metadata": {},
   "outputs": [
    {
     "name": "stdout",
     "output_type": "stream",
     "text": [
      "Nombre de requêtes non détectées comme SQL injection : 22094\n"
     ]
    }
   ],
   "source": [
    "# Compter le nombre de prédictions égales à 1\n",
    "nombre_de_non_sql_injections = (predicted_classes2 == 0).sum()\n",
    "\n",
    "print(f\"Nombre de requêtes non détectées comme SQL injection : {nombre_de_non_sql_injections}\")\n"
   ]
  }
 ],
 "metadata": {
  "kernelspec": {
   "display_name": "base",
   "language": "python",
   "name": "python3"
  },
  "language_info": {
   "codemirror_mode": {
    "name": "ipython",
    "version": 3
   },
   "file_extension": ".py",
   "mimetype": "text/x-python",
   "name": "python",
   "nbconvert_exporter": "python",
   "pygments_lexer": "ipython3",
   "version": "3.12.7"
  }
 },
 "nbformat": 4,
 "nbformat_minor": 5
}
